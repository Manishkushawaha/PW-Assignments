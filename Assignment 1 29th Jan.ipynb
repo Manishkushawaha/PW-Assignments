{
 "cells": [
  {
   "cell_type": "markdown",
   "id": "978ff238",
   "metadata": {},
   "source": [
    "(1) Wh0 developed python Programming Language?\n",
    "\n",
    "Ans:Python is a popular programming language. It was created by Guido van Rossum, and released in 1991 \n"
   ]
  },
  {
   "cell_type": "markdown",
   "id": "55d0df71",
   "metadata": {},
   "source": [
    "(2) which type of Proramming does python support?\n",
    "\n",
    "Ans:Python is a multi-paradigm programming language. Object-oriented programming and structured programming are fully supported, and many of their features support functional programming and aspect-oriented programming (including metaprogramming and metaobjects)"
   ]
  },
  {
   "cell_type": "markdown",
   "id": "8cbf4f79",
   "metadata": {},
   "source": [
    "(3) Is python case sensitive when dealing with identifiers?\n",
    "\n",
    "Ans:Yes, Python is a case-sensitive language, i.e., it treats uppercase and lowercase characters differently. This applies to identifiers too. You must avoid using the same name with different cases while naming identifiers"
   ]
  },
  {
   "cell_type": "markdown",
   "id": "9a4235b4",
   "metadata": {},
   "source": [
    "(4) What is the code compiled or interpreted?\n",
    "\n",
    "Ans:A compiled language is converted into machine code so that the processor can execute it. An interpreted language is a language in which the implementations execute instructions directly without earlier compiling a program into machine language. The compiled programs run faster than interpreted programs."
   ]
  },
  {
   "cell_type": "markdown",
   "id": "6cf62360",
   "metadata": {},
   "source": [
    "(5) Is Python code is compiled or interpreted?\n",
    "\n",
    "Ans: Python is an interpreted language, which means the source code of a Python program is converted into bytecode that is then executed by the Python virtual machine. Python is different from major compiled languages, such as C and C + +, as Python code is not required to be built and linked like code for these languages."
   ]
  },
  {
   "cell_type": "markdown",
   "id": "f9353faf",
   "metadata": {},
   "source": [
    "(6) Name a few blocks of code used to define in Python language?\n",
    "\n",
    "Ans: A Python program is constructed from code blocks. A block is a piece of Python program text that is executed as a unit. The following are blocks: a module, a function body, and a class definition."
   ]
  },
  {
   "cell_type": "markdown",
   "id": "47a6fcea",
   "metadata": {},
   "source": [
    "(7) State a charatcer  used to give single-line comments in Python?\n",
    "\n",
    "\n",
    "Ans:We can write a single-line comment by adding a single # character before any statement or line of code."
   ]
  },
  {
   "cell_type": "markdown",
   "id": "3584104d",
   "metadata": {},
   "source": [
    "(8) Mention functions which can help us to find the version of python that we are currently working on?\n",
    "\n",
    "Ans:The function sys. version can help us to find the version of python that we are currently working on."
   ]
  },
  {
   "cell_type": "markdown",
   "id": "9b8e30d6",
   "metadata": {},
   "source": [
    "(9) Python supports the creation of anonymous functions at runtime, using a construct called_ _ _ _ _ _\n",
    "\n",
    "Ans: \"Lambda\""
   ]
  },
  {
   "cell_type": "markdown",
   "id": "18ff3759",
   "metadata": {},
   "source": [
    "(10) What does PIP stand for python?\n",
    "\n",
    "Ans: Alternatively, pip stands for \"preferred installer program\". Python 2.7. 9 and later (on the python2 series), and Python 3.4 and later include pip (pip3 for Python 3) by default."
   ]
  },
  {
   "cell_type": "markdown",
   "id": "b211483e",
   "metadata": {},
   "source": [
    "(11) Mention a few built-in functions in python?\n",
    "\n",
    "Ans:Python Built-in Functions\n",
    "print( ) function.\n",
    "type( ) function.\n",
    "input( ) function.\n",
    "abs( ) function.\n",
    "pow( ) function.\n",
    "dir( ) function.\n",
    "sorted( ) function.\n",
    "max( ) function."
   ]
  },
  {
   "cell_type": "markdown",
   "id": "3a21167b",
   "metadata": {},
   "source": [
    "(12) What is the maximum possible length of an identifiber in python?\n",
    "\n",
    "Ans: An identifier can have a maximum length of 79 characters in Python. Python is one of the most popular programming languages"
   ]
  },
  {
   "cell_type": "markdown",
   "id": "0c8cddd5",
   "metadata": {},
   "source": [
    "(13) What are the benifits of using python?\n",
    "\n",
    "Ans:Data science.\n",
    "Scientific and mathematical computing.\n",
    "Web development.\n",
    "Finance and trading.\n",
    "System automation and administration.\n",
    "Computer graphics.\n",
    "Basic game development.\n",
    "Security and penetration testing."
   ]
  },
  {
   "cell_type": "markdown",
   "id": "8f8c304e",
   "metadata": {},
   "source": [
    "(14) How is memory managed in python?\n",
    "\n",
    "Ans:Memory management in Python involves a private heap containing all Python objects and data structures. The management of this private heap is ensured internally by the Python memory manager."
   ]
  },
  {
   "cell_type": "markdown",
   "id": "5fc9f3a1",
   "metadata": {},
   "source": [
    "(15)How to install python on windows and set path variable?\n",
    "\n",
    "Ans:he complete path of python.exe can be added by:\n",
    "Right-clicking This PC and going to Properties.\n",
    "Clicking on the Advanced system settings in the menu on the left.\n",
    "Clicking on the Environment Variables button o​n the bottom right.\n",
    "In the System variables section, selecting the Path variable and clicking on Edit."
   ]
  },
  {
   "cell_type": "markdown",
   "id": "2796f77e",
   "metadata": {},
   "source": [
    "(16) Is indentation required in  python?\n",
    "\n",
    "Ans:Indentation refers to the spaces at the beginning of a code line. Where in other programming languages the indentation in code is for readability only, the indentation in Python is very important. Python uses indentation to indicate a block of code.\n"
   ]
  }
 ],
 "metadata": {
  "kernelspec": {
   "display_name": "Python 3 (ipykernel)",
   "language": "python",
   "name": "python3"
  },
  "language_info": {
   "codemirror_mode": {
    "name": "ipython",
    "version": 3
   },
   "file_extension": ".py",
   "mimetype": "text/x-python",
   "name": "python",
   "nbconvert_exporter": "python",
   "pygments_lexer": "ipython3",
   "version": "3.9.13"
  }
 },
 "nbformat": 4,
 "nbformat_minor": 5
}
