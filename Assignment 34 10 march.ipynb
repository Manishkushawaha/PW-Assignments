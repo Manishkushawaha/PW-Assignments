{
 "cells": [
  {
   "cell_type": "raw",
   "id": "1e12e589",
   "metadata": {},
   "source": [
    "Q1: What is Estimation Statistics? Explain point estimate and interval estimate."
   ]
  },
  {
   "cell_type": "raw",
   "id": "5807c3f0",
   "metadata": {},
   "source": [
    "Ans:Estimation statistics is a branch of statistics that deals with estimating population parameters from sample data. It involves using sample data to make inferences about a larger population. The two main types of estimation are point estimation and interval estimation.\n",
    "\n",
    "point estimation involves using a single value to estimate the population parameter, while interval estimation involves using a range of values to estimate the population parameter with a certain level of confidence."
   ]
  },
  {
   "cell_type": "raw",
   "id": "fe2f99e0",
   "metadata": {},
   "source": [
    "Q2. Write a Python function to estimate the population mean using a sample mean and standard deviation."
   ]
  },
  {
   "cell_type": "code",
   "execution_count": 1,
   "id": "7ed82187",
   "metadata": {},
   "outputs": [],
   "source": [
    "import math\n",
    "\n",
    "from scipy.stats import t"
   ]
  },
  {
   "cell_type": "code",
   "execution_count": 2,
   "id": "d09673ef",
   "metadata": {},
   "outputs": [
    {
     "name": "stdout",
     "output_type": "stream",
     "text": [
      "Estimated population mean: 51.984216951508685\n"
     ]
    }
   ],
   "source": [
    "def estimate_pop_mean(sample_mean,sample_std,sample_size,confidence_level=.95):\n",
    "    \n",
    "    alpha = 1 - confidence_level\n",
    "    df = sample_size - 1\n",
    "    t_score = t.ppf(1-alpha/2,df)\n",
    "    \n",
    "    margin_of_error = t_score * (sample_std / math.sqrt(sample_size))\n",
    "\n",
    "   \n",
    "    population_mean = sample_mean + margin_of_error\n",
    "\n",
    "    return population_mean\n",
    "\n",
    "sample_mean = 50\n",
    "sample_std = 10\n",
    "sample_size = 100\n",
    "confidence_level = 0.95\n",
    "\n",
    "estimated_population_mean = estimate_pop_mean(sample_mean, sample_std, sample_size, confidence_level)\n",
    "\n",
    "print(\"Estimated population mean:\", estimated_population_mean)\n",
    "\n"
   ]
  },
  {
   "cell_type": "raw",
   "id": "b6bccdf4",
   "metadata": {},
   "source": [
    "Q3: What is Hypothesis testing? Why is it used? State the importance of Hypothesis testing."
   ]
  },
  {
   "cell_type": "raw",
   "id": "ed62b8dd",
   "metadata": {},
   "source": [
    "Ans:Hypothesis testing is a statistical method used to make decisions about a population parameter based on sample data, involving formulating null and alternative hypotheses and using statistical tests.\n",
    "\n",
    "Hypothesis testing is used in statistics to make objective and evidence-based decisions about population parameters, validate claims, draw inferences, establish causality, and conduct scientific research, ensuring that findings are supported by statistical evidence rather than relying solely on intuition or random fluctuations in data.\n",
    "\n",
    "Importance: Decision-making, validating claims, drawing inferences, establishing causality, scientific research."
   ]
  },
  {
   "cell_type": "raw",
   "id": "855493bc",
   "metadata": {},
   "source": [
    "Q4. Create a hypothesis that states whether the average weight of male college students is greater than the average weight of female college students."
   ]
  },
  {
   "cell_type": "code",
   "execution_count": 3,
   "id": "a33ea1d5",
   "metadata": {},
   "outputs": [
    {
     "name": "stdout",
     "output_type": "stream",
     "text": [
      "Null Hypothesis (H0): The average weight of male college students is equal to or less than the average weight of female college students.\n",
      "Alternative Hypothesis (Ha): The average weight of male college students is greater than the average weight of female college students.\n",
      "T_statistics: 15.484216249622444\n",
      "p_value 1.220139499764359e-35\n",
      "Reject the null hypothesis. Average weight of male college students is greater than average weight of female college students.\n"
     ]
    }
   ],
   "source": [
    "import numpy as np\n",
    "import scipy.stats as stats\n",
    "\n",
    "male_weights = np.random.normal(180,10,size = 100)\n",
    "female_weights = np.random.normal(160,8,size=100)\n",
    "\n",
    "print(\"Null Hypothesis (H0): The average weight of male college students is equal to or less than the average weight of female college students.\")\n",
    "print(\"Alternative Hypothesis (Ha): The average weight of male college students is greater than the average weight of female college students.\")\n",
    "\n",
    "t_stat,p_value = stats.ttest_ind(male_weights,female_weights,equal_var=False)\n",
    "\n",
    "alpha = 0.05\n",
    "\n",
    "print(\"T_statistics:\",t_stat)\n",
    "print(\"p_value\",p_value)\n",
    "\n",
    "if p_value < alpha:\n",
    "    \n",
    "    print(\"Reject the null hypothesis. Average weight of male college students is greater than average weight of female college students.\")\n",
    "else:\n",
    "    print(\"Fail to reject the null hypothesis. No significant difference in average weight.\")"
   ]
  },
  {
   "cell_type": "raw",
   "id": "5cfaadb4",
   "metadata": {},
   "source": [
    "Q5. Write a Python script to conduct a hypothesis test on the difference between two population means, given a sample from each population."
   ]
  },
  {
   "cell_type": "code",
   "execution_count": 4,
   "id": "722caa72",
   "metadata": {},
   "outputs": [
    {
     "name": "stdout",
     "output_type": "stream",
     "text": [
      "Null Hypothesis: The new drug is not significantly more effective than the current drug in weight loss\n",
      "Alternative Hypothesis: The new drug is significantly more effective than the current drug in weight loss\n",
      "New Drug Mean: 15.666666666666666\n",
      "Current Drug Mean: 13.3\n",
      "T_statistic: 3.7915625412329694\n",
      "P_value 0.00017945658491488162\n",
      "The p-value is 0.00035891316982976325 which is less than 0.05, so we reject the null hypothesis.\n"
     ]
    }
   ],
   "source": [
    "import numpy as np\n",
    "import scipy.stats as stats\n",
    "\n",
    "new_drug = np.array([14, 12, 18, 16, 20, 11, 13, 15, 17, 19, 14, 13, 12, 16, 18, 20, 14, 15,\n",
    "                     12, 19, 18, 16, 17, 20, 14, 15, 13, 12, 18, 19])\n",
    "current_drug = np.array([10, 11, 12, 14, 13, 15, 12, 13, 16, 15, 11, 12, 14, 15, 13, 16, 11, \n",
    "                         10, 12, 13, 14, 15, 16, 18, 12, 11, 14, 15, 12, 14])\n",
    "\n",
    "print(\"Null Hypothesis: The new drug is not significantly more effective than the current drug in weight loss\")\n",
    "\n",
    "print(\"Alternative Hypothesis: The new drug is significantly more effective than the current drug in weight loss\")\n",
    "\n",
    "t_stat,p_value = stats.ttest_ind(new_drug,current_drug)\n",
    "\n",
    "alpha = 0.05\n",
    "\n",
    "print(\"New Drug Mean:\", np.mean(new_drug))\n",
    "print(\"Current Drug Mean:\", np.mean(current_drug))\n",
    "print('T_statistic:',t_stat)\n",
    "print(\"P_value\",p_value/2) # Two tail t-test\n",
    "\n",
    "if p_value < 0.05:\n",
    "    print(\"The p-value is\", p_value, \"which is less than 0.05, so we reject the null hypothesis.\")\n",
    "else:\n",
    "    print(\"The p-value is\", p_value, \"which is greater than or equal to 0.05, so we fail to reject the null hypothesis.\")\n",
    "    \n",
    "    "
   ]
  },
  {
   "cell_type": "raw",
   "id": "1bc3e612",
   "metadata": {},
   "source": [
    "Q6: What is a null and alternative hypothesis? Give some examples."
   ]
  },
  {
   "cell_type": "raw",
   "id": "a3cef166",
   "metadata": {},
   "source": [
    "Ans:1.Null Hypothesis\n",
    "\n",
    "It denotes there is no relationship between two measured phenomena.\n",
    "\n",
    "It is represented by H0\n",
    "\n",
    "Example:The null hypothesis would be: The mean data scientist salary is 113,000 dollars.\n",
    "\n",
    "2.Alternative Hypothesis\n",
    "\n",
    ".It is represented by Ha or H1\n",
    "\n",
    ".It’s a hypothesis that a random cause may influence the observed data or sample.\n",
    "\n",
    "Example:The alternative: The mean data scientist salary is not 113,000 dollars."
   ]
  },
  {
   "cell_type": "raw",
   "id": "18baeb3b",
   "metadata": {},
   "source": [
    "Q7: Write down the steps involved in hypothesis testing."
   ]
  },
  {
   "cell_type": "raw",
   "id": "6b0617b1",
   "metadata": {},
   "source": [
    "There are 5 main steps in hypothesis testing:\n",
    "\n",
    ".Claim or state a Null hypothesis for the experiment.\n",
    "\n",
    ".State the alternative hypothesis, which is opposite to the null hypothesis.\n",
    "\n",
    ".Set the value of alpha to be used in the experiment.\n",
    "\n",
    ".Determine the z-score using the normal distribution.\n",
    "\n",
    ".Compare the P-value to validate the statistical significance."
   ]
  },
  {
   "cell_type": "raw",
   "id": "c33b0b29",
   "metadata": {},
   "source": [
    "Q8. Define p-value and explain its significance in hypothesis testing."
   ]
  },
  {
   "cell_type": "raw",
   "id": "41525842",
   "metadata": {},
   "source": [
    "Ans:The p-value is a probability that quantifies the likelihood of obtaining results as extreme or more extreme than those observed in a hypothesis test, assuming the null hypothesis is true. It is used to assess the strength of evidence against the null hypothesis and make decisions in hypothesis testing by comparing it to a significance level (α). A p-value less than α indicates statistically significant results, leading to the rejection of the null hypothesis, while a p-value greater than or equal to α suggests nonsignificant results and insufficient evidence to reject the null hypothesis."
   ]
  },
  {
   "cell_type": "raw",
   "id": "7c181758",
   "metadata": {},
   "source": [
    "Q9. Generate a Student's t-distribution plot using Python's matplotlib library, with the degrees of freedom parameter set to 10."
   ]
  },
  {
   "cell_type": "code",
   "execution_count": 1,
   "id": "9f6b2e1f",
   "metadata": {},
   "outputs": [
    {
     "data": {
      "image/png": "[encoded data removed]",
      "text/plain": [
       "<Figure size 640x480 with 1 Axes>"
      ]
     },
     "metadata": {},
     "output_type": "display_data"
    }
   ],
   "source": [
    "import numpy as np\n",
    "import matplotlib.pyplot as plt\n",
    "from scipy.stats import t\n",
    "\n",
    "df = 10\n",
    "\n",
    "x = np.linspace(-4,4,1000)\n",
    "\n",
    "pdf =t.pdf(x,df)\n",
    "\n",
    "plt.plot(x,pdf,label ='df = 10')\n",
    "plt.xlabel('X')\n",
    "plt.ylabel('Probability Density')\n",
    "plt.title('Student\\'s t-Distribution')\n",
    "plt.legend()\n",
    "plt.grid(True)\n",
    "plt.show()"
   ]
  },
  {
   "cell_type": "raw",
   "id": "cea8c6d2",
   "metadata": {},
   "source": [
    "Q10. Write a Python program to calculate the two-sample t-test for independent samples, given two random samples of equal size and a null hypothesis that the population means are equal."
   ]
  },
  {
   "cell_type": "code",
   "execution_count": 8,
   "id": "1843c24c",
   "metadata": {},
   "outputs": [
    {
     "name": "stdout",
     "output_type": "stream",
     "text": [
      "Fail to reject the null hypothesis. There is insufficient evidence to suggest that the population means are not equal.\n"
     ]
    }
   ],
   "source": [
    "import numpy as np\n",
    "from scipy.stats import ttest_ind\n",
    "\n",
    "\n",
    "sample1 = np.random.normal(loc=5, scale=2, size=50) \n",
    "sample2 = np.random.normal(loc=5, scale=2, size=50) \n",
    "\n",
    "\n",
    "t_statistic, p_value = ttest_ind(sample1, sample2)\n",
    "\n",
    "\n",
    "alpha = 0.05\n",
    "\n",
    "\n",
    "if p_value < alpha:\n",
    "    print(\"Reject the null hypothesis. There is sufficient evidence to suggest that the population means are not equal.\")\n",
    "else:\n",
    "    print(\"Fail to reject the null hypothesis. There is insufficient evidence to suggest that the population means are not equal.\")\n"
   ]
  },
  {
   "cell_type": "raw",
   "id": "e5fd018c",
   "metadata": {},
   "source": [
    "Q11: What is Student’s t distribution? When to use the t-Distribution."
   ]
  },
  {
   "cell_type": "raw",
   "id": "49feed4a",
   "metadata": {},
   "source": [
    "Ans:Student's t-distribution, also known as the t-distribution, is a probability distribution that is similar to the standard normal distribution but has slightly thicker tails. It is used in situations where the assumptions of a normal distribution are not met, specifically when sample size is small (typically n < 30) or when the population standard deviation is unknown. The t-distribution is commonly used in statistical hypothesis testing, confidence interval estimation, and situations where making inferences about the population mean from a small sample size is required. It is more appropriate when dealing with small sample sizes or data with outliers, as it accounts for increased uncertainty associated with these situations. It is a valuable tool in statistics for handling situations where normality and known population standard deviation assumptions are not met."
   ]
  },
  {
   "cell_type": "raw",
   "id": "3789a0ef",
   "metadata": {},
   "source": [
    "Q12: What is t-statistic? State the formula for t-statistic."
   ]
  },
  {
   "cell_type": "raw",
   "id": "524a9936",
   "metadata": {},
   "source": [
    "Ans:The T Distribution also called the student’s t-distribution and is used while making assumptions about a mean when we don’t know the standard deviation. In probability and statistics, the normal distribution is a bell-shaped distribution whose mean is μ and the standard deviation is σ. \n",
    "\n",
    "A t-distribution is the whole set of t values measured for every possible random sample for specific sample size or a particular degree of freedom. It approximates the shape of normal distribution.\n",
    "\n",
    "Let x have a normal distribution with mean ‘μ’ for the sample of size ‘n’ with sample mean x̄ and the sample standard deviation ‘s’, then the t variable has student’s t-distribution with a degree of freedom, d.f = n – 1. The formula for t-distribution is given by;\n",
    "\n",
    "T distribution formula\n",
    "       \n",
    "       t = (sample_maen -mean )/ sample standard deviation(s)/(N)**0.5\n",
    "       \n",
    "       "
   ]
  },
  {
   "cell_type": "raw",
   "id": "7428c202",
   "metadata": {},
   "source": [
    "Q13. A coffee shop owner wants to estimate the average daily revenue for their shop. They take a random sample of 50 days and find the sample mean revenue to be $500 with a standard deviation of $50. Estimate the population mean revenue with a 95% confidence interval."
   ]
  },
  {
   "cell_type": "code",
   "execution_count": 6,
   "id": "cb714d78",
   "metadata": {
    "scrolled": true
   },
   "outputs": [
    {
     "name": "stdout",
     "output_type": "stream",
     "text": [
      "Estimated population mean revenue with a 95.0% confidence interval:\n",
      "Lower bound: $485.79\n",
      "Upper bound: $514.21\n"
     ]
    }
   ],
   "source": [
    "import scipy.stats as st\n",
    "import math\n",
    "\n",
    "\n",
    "sample_mean = 500\n",
    "sample_size = 50\n",
    "sample_std = 50\n",
    "confidence_level = 0.95\n",
    "\n",
    "critical_value = st.t.ppf((1 + confidence_level) / 2, df=sample_size - 1)\n",
    "\n",
    "\n",
    "\n",
    "standard_error = sample_std / math.sqrt(sample_size)\n",
    "\n",
    "\n",
    "lower_bound = sample_mean - critical_value * standard_error\n",
    "upper_bound = sample_mean + critical_value * standard_error\n",
    "\n",
    "print(f\"Estimated population mean revenue with a {confidence_level*100}% confidence interval:\")\n",
    "print(f\"Lower bound: ${lower_bound:.2f}\")\n",
    "print(f\"Upper bound: ${upper_bound:.2f}\")\n",
    "\n"
   ]
  },
  {
   "cell_type": "raw",
   "id": "4e139756",
   "metadata": {},
   "source": [
    "Q14. A researcher hypothesizes that a new drug will decrease blood pressure by 10 mmHg. They conduct a clinical trial with 100 patients and find that the sample mean decrease in blood pressure is 8 mmHg with a standard deviation of 3 mmHg. Test the hypothesis with a significance level of 0.05."
   ]
  },
  {
   "cell_type": "code",
   "execution_count": 15,
   "id": "4d3cfdee",
   "metadata": {},
   "outputs": [
    {
     "name": "stdout",
     "output_type": "stream",
     "text": [
      "The null hypothesis (H0): The new drug does not decrease blood pressure by 10 mmHg.\n",
      "The alternative hypothesis (H1): The new drug decreases blood pressure by 10 mmHg.\n",
      "T_statistics: -6.666666666666667\n",
      "critical_value: 1.9842169515086827\n",
      "Reject the null hypothesis: The new drug decreases blood pressure by 10 mmHg.\n"
     ]
    }
   ],
   "source": [
    "import scipy.stats as stats\n",
    "\n",
    "print(\"The null hypothesis (H0): The new drug does not decrease blood pressure by 10 mmHg.\")\n",
    "print(\"The alternative hypothesis (H1): The new drug decreases blood pressure by 10 mmHg.\")\n",
    "\n",
    "    \n",
    "sample_mean = 8\n",
    "hypothesis_population_mean = 10\n",
    "sample_std = 3\n",
    "n = 100\n",
    "aplha = 0.05\n",
    "\n",
    "t = (sample_mean - hypothesis_population_mean)/(sample_std/n**0.5)\n",
    "\n",
    "critical_value = stats.t.ppf(1-aplha/2,df = n-1)\n",
    "print(\"T_statistics:\",t)\n",
    "print(\"critical_value:\",critical_value)\n",
    "\n",
    "\n",
    "if abs(t) > critical_value:\n",
    "    \n",
    "    print(\"Reject the null hypothesis: The new drug decreases blood pressure by 10 mmHg.\")\n",
    "else:\n",
    "   \n",
    "    print(\"Fail to reject the null hypothesis: There is insufficient evidence to conclude that the new drug decreases blood pressure by 10 mmHg.\")"
   ]
  },
  {
   "cell_type": "raw",
   "id": "2db975ca",
   "metadata": {},
   "source": [
    "Q15. An electronics company produces a certain type of product with a mean weight of 5 pounds and a standard deviation of 0.5 pounds. A random sample of 25 products is taken, and the sample mean weight is found to be 4.8 pounds. Test the hypothesis that the true mean weight of the products is less than 5 pounds with a significance level of 0.01."
   ]
  },
  {
   "cell_type": "code",
   "execution_count": 14,
   "id": "5f2471fe",
   "metadata": {},
   "outputs": [
    {
     "name": "stdout",
     "output_type": "stream",
     "text": [
      "T_statistics: -2.0000000000000018\n",
      "critical_value: -2.4921594731575762\n",
      "Fail to reject the null hypothesis. Insufficient evidence to conclude that the true mean weight of the products is less than 5 pounds.\n"
     ]
    }
   ],
   "source": [
    "import scipy.stats as stats\n",
    "\n",
    "\n",
    "sample_mean = 4.8\n",
    "sample_size = 25\n",
    "population_mean = 5\n",
    "population_std = 0.5\n",
    "significance_level = 0.01\n",
    "\n",
    "\n",
    "standard_error = population_std / (sample_size**0.5)\n",
    "t_value = (sample_mean - population_mean) / standard_error\n",
    "\n",
    "# Calculate the critical value (left-tailed test)\n",
    "\n",
    "critical_value = stats.t.ppf(significance_level, df=sample_size-1)\n",
    "\n",
    "print(\"T_statistics:\",t_value)\n",
    "print(\"critical_value:\",critical_value)\n",
    "\n",
    "if t_value < critical_value:\n",
    "   \n",
    "    print(\"Reject the null hypothesis. The true mean weight of the products is less than 5 pounds.\")\n",
    "else:\n",
    "   \n",
    "    print(\"Fail to reject the null hypothesis. Insufficient evidence to conclude that the true mean weight of the products is less than 5 pounds.\")\n"
   ]
  },
  {
   "cell_type": "raw",
   "id": "2125e0d0",
   "metadata": {},
   "source": [
    "Q16. Two groups of students are given different study materials to prepare for a test. The first group (n1 = 30) has a mean score of 80 with a standard deviation of 10, and the second group (n2 = 40) has a mean score of 75 with a standard deviation of 8. Test the hypothesis that the population means for the two groups are equal with a significance level of 0.01."
   ]
  },
  {
   "cell_type": "code",
   "execution_count": 16,
   "id": "faaecb45",
   "metadata": {},
   "outputs": [
    {
     "name": "stdout",
     "output_type": "stream",
     "text": [
      "T_statistics: 2.2511258444537408\n",
      "critical_value: 2.6500812928169553\n",
      "Fail to reject the null hypothesis. Insufficient evidence to conclude that the population means for the two groups are not equal.\n"
     ]
    }
   ],
   "source": [
    "import scipy.stats as stats\n",
    "\n",
    "# Given information for Group 1\n",
    "n1 = 30\n",
    "mean1 = 80\n",
    "std1 = 10\n",
    "\n",
    "# Given information for Group 2\n",
    "n2 = 40\n",
    "mean2 = 75\n",
    "std2 = 8\n",
    "\n",
    "significance_level = 0.01\n",
    "\n",
    "pooled_std = ((n1-1)*(std1**2) + (n2-1)*(std2**2)) / (n1 + n2 - 2)\n",
    "standard_error = ((std1**2)/n1 + (std2**2)/n2)**0.5\n",
    "t_value = (mean1 - mean2) / standard_error\n",
    "\n",
    "# Calculate the degrees of freedom\n",
    "df = n1 + n2 - 2\n",
    "\n",
    "# Calculate the critical value (two-tailed test)\n",
    "critical_value = stats.t.ppf(1 - significance_level/2, df=df)\n",
    "\n",
    "print(\"T_statistics:\",t_value)\n",
    "print(\"critical_value:\",critical_value)\n",
    "\n",
    "if abs(t_value) > critical_value:\n",
    "    \n",
    "    print(\"Reject the null hypothesis. The population means for the two groups are not equal.\")\n",
    "\n",
    "else:\n",
    "    print(\"Fail to reject the null hypothesis. Insufficient evidence to conclude that the population means for the two groups are not equal.\")\n"
   ]
  },
  {
   "cell_type": "raw",
   "id": "8a7f8b21",
   "metadata": {},
   "source": [
    "Q17. A marketing company wants to estimate the average number of ads watched by viewers during a TV program. They take a random sample of 50 viewers and find that the sample mean is 4 with a standard deviation of 1.5. Estimate the population mean with a 99% confidence interval"
   ]
  },
  {
   "cell_type": "code",
   "execution_count": 17,
   "id": "e612dd6e",
   "metadata": {},
   "outputs": [
    {
     "name": "stdout",
     "output_type": "stream",
     "text": [
      "Sample Mean:  4\n",
      "Sample Size:  50\n",
      "Sample Standard Deviation:  1.5\n",
      "Confidence Level:  0.99\n",
      "Z-Score:  2.5758293035489004\n",
      "Margin of Error:  0.5464159103155348\n",
      "Confidence Interval:  (3.4535840896844654, 4.546415910315535)\n"
     ]
    }
   ],
   "source": [
    "import scipy.stats as stats\n",
    "\n",
    "# Sample statistics\n",
    "sample_mean = 4\n",
    "sample_size = 50\n",
    "sample_std = 1.5\n",
    "\n",
    "# Z-score for a 99% confidence interval (two-tailed)\n",
    "confidence_level = 0.99\n",
    "alpha = 1 - confidence_level\n",
    "z_score = stats.norm.ppf(1 - alpha / 2)\n",
    "\n",
    "# Calculate the margin of error\n",
    "margin_of_error = z_score * (sample_std / (sample_size ** 0.5))\n",
    "\n",
    "# Calculate the confidence interval\n",
    "confidence_interval = (sample_mean - margin_of_error, sample_mean + margin_of_error)\n",
    "\n",
    "# Print the results\n",
    "print(\"Sample Mean: \", sample_mean)\n",
    "print(\"Sample Size: \", sample_size)\n",
    "print(\"Sample Standard Deviation: \", sample_std)\n",
    "print(\"Confidence Level: \", confidence_level)\n",
    "print(\"Z-Score: \", z_score)\n",
    "print(\"Margin of Error: \", margin_of_error)\n",
    "print(\"Confidence Interval: \", confidence_interval)\n"
   ]
  },
  {
   "cell_type": "code",
   "execution_count": null,
   "id": "9fcf09d3",
   "metadata": {},
   "outputs": [],
   "source": []
  }
 ],
 "metadata": {
  "kernelspec": {
   "display_name": "Python 3 (ipykernel)",
   "language": "python",
   "name": "python3"
  },
  "language_info": {
   "codemirror_mode": {
    "name": "ipython",
    "version": 3
   },
   "file_extension": ".py",
   "mimetype": "text/x-python",
   "name": "python",
   "nbconvert_exporter": "python",
   "pygments_lexer": "ipython3",
   "version": "3.9.13"
  }
 },
 "nbformat": 4,
 "nbformat_minor": 5
}
