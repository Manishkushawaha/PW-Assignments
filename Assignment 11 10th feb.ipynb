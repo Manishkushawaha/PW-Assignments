{
 "cells": [
  {
   "cell_type": "markdown",
   "id": "f6b87648",
   "metadata": {},
   "source": [
    "Q1. Which function is used to open a file? What are the different modes of opening a file? Explain each mode of file opening."
   ]
  },
  {
   "cell_type": "markdown",
   "id": "b3e84c19",
   "metadata": {},
   "source": [
    "Ans: The function used to open a file in Python is open(). There are different modes of opening a file:\n",
    "\n",
    "r: Read mode - opens the file for reading (default)\n",
    "\n",
    "w: Write mode - opens the file for writing. If the file exists, it truncates the file. If the file does not exist, it creates a new file for writing.\n",
    "\n",
    "a: Append mode - opens the file for writing. If the file exists, it appends the data to the end of the file. If the file does not exist, it creates a new file for writing.\n",
    "\n",
    "x: Exclusive mode - creates a new file for writing. If the file already exists, it raises an error.\n",
    "\n",
    "b: Binary mode - opens the file in binary mode. This is used for reading and writing binary data like images, audio files, etc.\n",
    "\n",
    "t: Text mode - opens the file in text mode (default)."
   ]
  },
  {
   "cell_type": "markdown",
   "id": "b19cf3e2",
   "metadata": {},
   "source": [
    "Q2. Why close() function is used? Why is it important to close a file?"
   ]
  },
  {
   "cell_type": "markdown",
   "id": "89a4e993",
   "metadata": {},
   "source": [
    "Ans:The close() function is used to close a file. It is important to close a file because it frees up the resources used by the file and makes the file available for other programs to use. If a file is not closed, it can cause data corruption or loss of data."
   ]
  },
  {
   "cell_type": "markdown",
   "id": "6c4dd35f",
   "metadata": {},
   "source": [
    "Q3. Write a python program to create a text file. Write ‘I want to become a Data Scientist’ in that file. Then close the file. Open this file and read the content of the file.  "
   ]
  },
  {
   "cell_type": "code",
   "execution_count": 1,
   "id": "36ecc639",
   "metadata": {},
   "outputs": [
    {
     "name": "stdout",
     "output_type": "stream",
     "text": [
      "I want to become a Data Scientist\n"
     ]
    }
   ],
   "source": [
    "file = open(\"data_scientist.txt\", \"w\")\n",
    "\n",
    "\n",
    "file.write(\"I want to become a Data Scientist\")\n",
    "\n",
    "\n",
    "file.close()\n",
    "\n",
    "\n",
    "file = open(\"data_scientist.txt\", \"r\")\n",
    "\n",
    "\n",
    "contents = file.read()\n",
    "\n",
    "\n",
    "file.close()\n",
    "\n",
    "\n",
    "print(contents)\n"
   ]
  },
  {
   "cell_type": "markdown",
   "id": "3b442cc3",
   "metadata": {},
   "source": [
    "Q4. Explain the following with python code: read(), readline() and readlines()."
   ]
  },
  {
   "cell_type": "code",
   "execution_count": 6,
   "id": "2f09fd19",
   "metadata": {},
   "outputs": [
    {
     "name": "stdout",
     "output_type": "stream",
     "text": [
      "I want to become a Data Scientist\n",
      "I want to become a Data Scientist\n",
      "I want to become a Data Scientist\n"
     ]
    }
   ],
   "source": [
    "#The read() function is used to read the entire contents of a file.\n",
    "#It returns the contents of the file as a single string.\n",
    "file = open(\"data_scientist.txt\", \"r\")\n",
    "\n",
    "contents = file.read()\n",
    "\n",
    "file.close()\n",
    "\n",
    "print(contents)\n",
    "\n",
    "\n",
    "\n",
    "#The readline() function is used to read a single line from a file.\n",
    "#It returns the line as a string. \n",
    "\n",
    "file = open(\"data_scientist.txt\", \"r\")\n",
    "\n",
    "\n",
    "line = file.readline()\n",
    "\n",
    "\n",
    "file.close()\n",
    "\n",
    "print(line)\n",
    "\n",
    "#The readlines() function is used to read all the lines of a file and returns them as a list of strings\n",
    "\n",
    "file = open(\"data_scientist.txt\", \"r\")\n",
    "\n",
    "\n",
    "lines = file.readlines()\n",
    "\n",
    "\n",
    "file.close()\n",
    "\n",
    "\n",
    "for line in lines:\n",
    "    \n",
    "    print(line)\n"
   ]
  },
  {
   "cell_type": "markdown",
   "id": "ee26f0c1",
   "metadata": {},
   "source": [
    "Q5. Explain why with statement is used with open(). What is the advantage of using with statement and open() together?"
   ]
  },
  {
   "cell_type": "markdown",
   "id": "e3b07923",
   "metadata": {},
   "source": [
    "Ans: The with statement is used with open() function to ensure that the file is closed when the block of code inside the with statement is exited. The advantage of using with statement and open() together is that it takes care of closing the file automatically and reduces the chance of a programming error leading to a file not being properly closed."
   ]
  },
  {
   "cell_type": "markdown",
   "id": "d2b6884d",
   "metadata": {},
   "source": [
    "Q6. Explain the write() and writelines() functions. Give a suitable example."
   ]
  },
  {
   "cell_type": "markdown",
   "id": "7f4c4775",
   "metadata": {},
   "source": [
    "Ans:The write() function is used to write data to a file. It takes a string as an argument and writes it to the file. If the file is opened in write mode, it truncates the file if it already exists and starts writing from the beginning of the file. If the file does not exist, it creates a new file and writes the string to it.\n"
   ]
  },
  {
   "cell_type": "code",
   "execution_count": 7,
   "id": "9365e409",
   "metadata": {},
   "outputs": [],
   "source": [
    "file = open(\"example.txt\", \"w\")\n",
    "\n",
    "file.write(\"Hello, World!\\n\")\n",
    "\n",
    "file.write(\"How are you doing today?\")\n",
    "\n",
    "\n",
    "file.close()\n"
   ]
  },
  {
   "cell_type": "code",
   "execution_count": null,
   "id": "37fbbf99",
   "metadata": {},
   "outputs": [],
   "source": []
  }
 ],
 "metadata": {
  "kernelspec": {
   "display_name": "Python 3 (ipykernel)",
   "language": "python",
   "name": "python3"
  },
  "language_info": {
   "codemirror_mode": {
    "name": "ipython",
    "version": 3
   },
   "file_extension": ".py",
   "mimetype": "text/x-python",
   "name": "python",
   "nbconvert_exporter": "python",
   "pygments_lexer": "ipython3",
   "version": "3.9.13"
  }
 },
 "nbformat": 4,
 "nbformat_minor": 5
}
