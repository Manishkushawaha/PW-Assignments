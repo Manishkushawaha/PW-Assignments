{
 "cells": [
  {
   "cell_type": "markdown",
   "id": "99635bcf",
   "metadata": {},
   "source": [
    "Consider following code to answer further questions:\n",
    "\n",
    "import pandas as pd\n",
    "course_name = [‘Data Science’, ‘Machine Learning’, ‘Big Data’, ‘Data Engineer’]\n",
    "duration = [2,3,6,4]\n",
    "df = pd.DataFrame(data = {‘course_name’ : course_name, ‘duration’ : duration})"
   ]
  },
  {
   "cell_type": "markdown",
   "id": "4ee7a50e",
   "metadata": {},
   "source": [
    "Q1. Write a code to print the data present in the second row of the dataframe, df."
   ]
  },
  {
   "cell_type": "code",
   "execution_count": 1,
   "id": "182961e6",
   "metadata": {},
   "outputs": [
    {
     "data": {
      "text/html": [
       "<div>\n",
       "<style scoped>\n",
       "    .dataframe tbody tr th:only-of-type {\n",
       "        vertical-align: middle;\n",
       "    }\n",
       "\n",
       "    .dataframe tbody tr th {\n",
       "        vertical-align: top;\n",
       "    }\n",
       "\n",
       "    .dataframe thead th {\n",
       "        text-align: right;\n",
       "    }\n",
       "</style>\n",
       "<table border=\"1\" class=\"dataframe\">\n",
       "  <thead>\n",
       "    <tr style=\"text-align: right;\">\n",
       "      <th></th>\n",
       "      <th>course_name</th>\n",
       "      <th>duration</th>\n",
       "    </tr>\n",
       "  </thead>\n",
       "  <tbody>\n",
       "    <tr>\n",
       "      <th>0</th>\n",
       "      <td>Data Science</td>\n",
       "      <td>2</td>\n",
       "    </tr>\n",
       "    <tr>\n",
       "      <th>1</th>\n",
       "      <td>Machine Learning</td>\n",
       "      <td>3</td>\n",
       "    </tr>\n",
       "    <tr>\n",
       "      <th>2</th>\n",
       "      <td>Big Data</td>\n",
       "      <td>6</td>\n",
       "    </tr>\n",
       "    <tr>\n",
       "      <th>3</th>\n",
       "      <td>Data Engineer</td>\n",
       "      <td>4</td>\n",
       "    </tr>\n",
       "  </tbody>\n",
       "</table>\n",
       "</div>"
      ],
      "text/plain": [
       "        course_name  duration\n",
       "0      Data Science         2\n",
       "1  Machine Learning         3\n",
       "2          Big Data         6\n",
       "3     Data Engineer         4"
      ]
     },
     "execution_count": 1,
     "metadata": {},
     "output_type": "execute_result"
    }
   ],
   "source": [
    "import pandas as pd\n",
    "\n",
    "course_name = ['Data Science', 'Machine Learning', 'Big Data', 'Data Engineer']\n",
    "\n",
    "duration = [2,3,6,4]\n",
    "\n",
    "df = pd.DataFrame(data = {'course_name' : course_name, 'duration' : duration})\n",
    "df"
   ]
  },
  {
   "cell_type": "code",
   "execution_count": 2,
   "id": "ec9b984c",
   "metadata": {},
   "outputs": [
    {
     "name": "stdout",
     "output_type": "stream",
     "text": [
      "course_name    Machine Learning\n",
      "duration                      3\n",
      "Name: 1, dtype: object\n"
     ]
    }
   ],
   "source": [
    "print(df.iloc[1])"
   ]
  },
  {
   "cell_type": "markdown",
   "id": "a25c566b",
   "metadata": {},
   "source": [
    "Q2. What is the difference between the functions loc and iloc in pandas.DataFrame?"
   ]
  },
  {
   "cell_type": "markdown",
   "id": "517c1d5b",
   "metadata": {},
   "source": [
    "Ans: Both loc and iloc are methods used to extract data from a pandas DataFrame based on index positions. However, there are some key differences between the two:\n",
    "\n",
    "1) loc is used to extract data based on labels or boolean arrays, whereas iloc is used to extract data based on integer positions.\n",
    "\n",
    "2) loc is inclusive of the endpoint, while iloc is exclusive of the endpoint. For example, df.loc[1:3] will include rows with index labels 1, 2, and 3, whereas df.iloc[1:3] will include rows with index positions 1 and 2, but not 3.\n",
    "\n",
    "3) loc can be used to access data based on both row and column labels, whereas iloc can only be used to access data based on integer positions.\n",
    "\n",
    "4) loc raises a KeyError if the label is not present in the DataFrame's index, while iloc raises an IndexError if the index position is out of range."
   ]
  },
  {
   "cell_type": "code",
   "execution_count": 3,
   "id": "9f2fd793",
   "metadata": {},
   "outputs": [
    {
     "name": "stdout",
     "output_type": "stream",
     "text": [
      "name      Bob\n",
      "age        30\n",
      "gender      M\n",
      "Name: 1, dtype: object\n",
      "      name  age gender\n",
      "1      Bob   30      M\n",
      "2  Charlie   35      M\n",
      "1    30\n",
      "2    35\n",
      "Name: age, dtype: int64\n",
      "name      Bob\n",
      "age        30\n",
      "gender      M\n",
      "Name: 1, dtype: object\n",
      "      name  age gender\n",
      "1      Bob   30      M\n",
      "2  Charlie   35      M\n",
      "1    30\n",
      "2    35\n",
      "Name: age, dtype: int64\n"
     ]
    }
   ],
   "source": [
    "import pandas as pd\n",
    "\n",
    "\n",
    "data = {'name': ['Alice', 'Bob', 'Charlie'], 'age': [25, 30, 35], 'gender': ['F', 'M', 'M']}\n",
    "\n",
    "df = pd.DataFrame(data)\n",
    "\n",
    "\n",
    "print(df.loc[1]) \n",
    "print(df.loc[1:2]) \n",
    "print(df.loc[1:2, 'age']) \n",
    "\n",
    "\n",
    "print(df.iloc[1])  \n",
    "print(df.iloc[1:3]) \n",
    "print(df.iloc[1:3, 1]) "
   ]
  },
  {
   "cell_type": "markdown",
   "id": "9b0c75a0",
   "metadata": {},
   "source": [
    "Q3. Reindex the given dataframe using a variable, reindex = [3,0,1,2] and store it in the variable, new_df\n",
    "then find the output for both new_df.loc[2] and new_df.iloc[2].\n",
    "\n",
    "\n",
    "Did you observe any difference in both the outputs? If so then explain it.\n",
    "\n",
    "Consider the below code to answer further questions:\n",
    "    \n",
    "import pandas as pd\n",
    "import numpy as np\n",
    "columns = ['column_1', 'column_2', 'column_3', 'column_4', 'column_5', 'column_6']\n",
    "indices = [1,2,3,4,5,6]\n",
    "\n",
    "#Creating a dataframe:\n",
    "df1 = pd.DataFrame(np.random.rand(6,6), columns = columns, index = indices)"
   ]
  },
  {
   "cell_type": "code",
   "execution_count": 4,
   "id": "a31906c8",
   "metadata": {},
   "outputs": [
    {
     "name": "stdout",
     "output_type": "stream",
     "text": [
      "column_1    0.403692\n",
      "column_2    0.042865\n",
      "column_3    0.800065\n",
      "column_4    0.713405\n",
      "column_5    0.876031\n",
      "column_6    0.345131\n",
      "Name: 2, dtype: float64\n",
      "column_1    0.375922\n",
      "column_2    0.668866\n",
      "column_3    0.910866\n",
      "column_4    0.456808\n",
      "column_5    0.631933\n",
      "column_6    0.748655\n",
      "Name: 1, dtype: float64\n"
     ]
    }
   ],
   "source": [
    "import pandas as pd\n",
    "import numpy as np\n",
    "\n",
    "columns = ['column_1', 'column_2', 'column_3', 'column_4', 'column_5', 'column_6']\n",
    "\n",
    "indices = [1,2,3,4,5,6]\n",
    "\n",
    "\n",
    "df1 = pd.DataFrame(np.random.rand(6,6), columns = columns, index = indices)\n",
    "\n",
    "new_df = df1.reindex([3,0,1,2,3,5])\n",
    "\n",
    "print(new_df.loc[2])\n",
    "\n",
    "print(new_df.iloc[2])"
   ]
  },
  {
   "cell_type": "markdown",
   "id": "7167a902",
   "metadata": {},
   "source": [
    "Q4. Write a code to find the following statistical measurements for the above dataframe df1:\n",
    "(i) mean of each and every column present in the dataframe.\n",
    "(ii) standard deviation of column, ‘column_2’"
   ]
  },
  {
   "cell_type": "code",
   "execution_count": 5,
   "id": "e1c796b3",
   "metadata": {},
   "outputs": [
    {
     "name": "stdout",
     "output_type": "stream",
     "text": [
      "Mean of each column in df1 column_1    0.522978\n",
      "column_2    0.456997\n",
      "column_3    0.593337\n",
      "column_4    0.574729\n",
      "column_5    0.642629\n",
      "column_6    0.600974\n",
      "dtype: float64\n",
      "Standard deviation of column 'column_2' in df1  0.2718749394601713\n"
     ]
    }
   ],
   "source": [
    "import pandas as pd\n",
    "import numpy as np\n",
    "\n",
    "columns = ['column_1', 'column_2', 'column_3', 'column_4', 'column_5', 'column_6']\n",
    "\n",
    "indices = [1,2,3,4,5,6]\n",
    "\n",
    "\n",
    "df1 = pd.DataFrame(np.random.rand(6,6), columns = columns, index = indices)\n",
    "\n",
    "df1\n",
    "\n",
    "column_means = df1.mean()\n",
    "print(\"Mean of each column in df1\",column_means)\n",
    "\n",
    "column_2std = df1['column_2'].std()\n",
    "print(\"Standard deviation of column 'column_2' in df1 \",column_2std)"
   ]
  },
  {
   "cell_type": "markdown",
   "id": "34f7e78e",
   "metadata": {},
   "source": [
    "Q5. Replace the data present in the second row of column, ‘column_2’ by a string variable then find the mean of column, column_2.\n",
    "If you are getting errors in executing it then explain why.\n",
    "[Hint: To replace the data use df1.loc[] and equate this to string data of your choice.]\n"
   ]
  },
  {
   "cell_type": "code",
   "execution_count": 6,
   "id": "1660c352",
   "metadata": {},
   "outputs": [
    {
     "name": "stdout",
     "output_type": "stream",
     "text": [
      "   column_1  column_2  column_3  column_4  column_5  column_6\n",
      "1  0.576331  0.490855  0.768719  0.347889  0.278724  0.909929\n",
      "2  0.855596  0.602804  0.048857  0.553268  0.110002  0.112262\n",
      "3  0.922876  0.306295  0.454824  0.487569  0.094208  0.147207\n",
      "4  0.166230  0.308989  0.201673  0.874732  0.687667  0.743904\n",
      "5  0.535841  0.563174  0.916557  0.091034  0.148946  0.485116\n",
      "6  0.967089  0.076484  0.465013  0.625916  0.806922  0.287664\n",
      "mean of column: 0.34915952319520527\n"
     ]
    }
   ],
   "source": [
    "import pandas as pd\n",
    "import numpy as np\n",
    "\n",
    "columns = ['column_1', 'column_2', 'column_3', 'column_4', 'column_5', 'column_6']\n",
    "\n",
    "indices = [1,2,3,4,5,6]\n",
    "\n",
    "\n",
    "df1 = pd.DataFrame(np.random.rand(6,6), columns = columns, index = indices)\n",
    "\n",
    "print(df1)\n",
    "\n",
    "df1.loc[2,'column_2'] = 'new_string_data'\n",
    "\n",
    "df1['column_2'] = pd.to_numeric(df1['column_2'],errors='coerce')\n",
    "\n",
    "column_2_mean = df1['column_2'].mean()\n",
    "\n",
    "print(\"mean of column:\",column_2_mean)"
   ]
  },
  {
   "cell_type": "markdown",
   "id": "7a1cca1f",
   "metadata": {},
   "source": [
    "Q6. What do you understand about the windows function in pandas and list the types of windows functions?"
   ]
  },
  {
   "cell_type": "markdown",
   "id": "628bb147",
   "metadata": {},
   "source": [
    "Ans:In Pandas, the window function is used for analyzing a portion of a data frame known as the \"window\". It allows us to perform a calculation on a specified subset of data or moving window data points. The window function can be applied to a series, a column, or a group of columns in a data frame.\n",
    "\n",
    "There are mainly three types of window functions in Pandas:\n",
    "\n",
    "Rolling Window Functions: These functions work with a fixed-size window or rolling window of data to apply some function like mean, max, min, etc. The window slides or moves over the data and provides rolling output for the function applied.\n",
    "\n",
    "Expanding Window Functions: These functions work with an ever-increasing window of data and apply some function like mean, max, min, etc., as the window expands.\n",
    "\n",
    "Exponentially Weighted Window Functions: These functions apply a weighted average on the data with the weights assigned exponentially. The weight assigned to the older data points is smaller compared to the more recent data points."
   ]
  },
  {
   "cell_type": "markdown",
   "id": "35f30acf",
   "metadata": {},
   "source": [
    "Q7. Write a code to print only the current month and year at the time of answering this question.\n",
    "[Hint: Use pandas.datetime function]"
   ]
  },
  {
   "cell_type": "code",
   "execution_count": 7,
   "id": "afdedbb0",
   "metadata": {},
   "outputs": [
    {
     "name": "stdout",
     "output_type": "stream",
     "text": [
      "Current month and year:March 2023\n"
     ]
    }
   ],
   "source": [
    "import pandas as pd\n",
    "\n",
    "current_time = pd.Timestamp.now()\n",
    "\n",
    "current_month = current_time.month_name()\n",
    "\n",
    "current_year = current_time.year\n",
    "\n",
    "print(f\"Current month and year:{current_month} {current_year}\")"
   ]
  },
  {
   "cell_type": "markdown",
   "id": "6d16ca18",
   "metadata": {},
   "source": [
    "Q8. Write a Python program that takes in two dates as input (in the format YYYY-MM-DD) and calculates the difference between them in days, hours, and minutes using Pandas time delta.\n",
    "The program should prompt the user to enter the dates and display the result."
   ]
  },
  {
   "cell_type": "code",
   "execution_count": 9,
   "id": "1f64d834",
   "metadata": {},
   "outputs": [
    {
     "name": "stdout",
     "output_type": "stream",
     "text": [
      "Enter first date in the format YYYY-MM-DD: 2023-02-06\n",
      "Enter second date in the format YYYY-MM-DD: 2023-03-01\n",
      "The difference between 2023-02-06 and 2023-03-01 is 23 days, 0 hours, and 0 minutes.\n"
     ]
    }
   ],
   "source": [
    "import pandas as pd\n",
    "\n",
    "date1 = input(\"Enter first date in the format YYYY-MM-DD: \")\n",
    "\n",
    "date2 = input(\"Enter second date in the format YYYY-MM-DD: \")\n",
    "\n",
    "date1 = pd.to_datetime(date1)\n",
    "\n",
    "date2 = pd.to_datetime(date2)\n",
    "\n",
    "\n",
    "timedelta = date2 - date1\n",
    "\n",
    "days = timedelta.days\n",
    "\n",
    "hours = timedelta.seconds //3600\n",
    "\n",
    "minutes = (timedelta.seconds // 60) % 60\n",
    "\n",
    "print(f\"The difference between {date1.date()} and {date2.date()} is {days} days, {hours} hours, and {minutes} minutes.\")\n",
    "\n"
   ]
  },
  {
   "cell_type": "markdown",
   "id": "2cd01910",
   "metadata": {},
   "source": [
    "Q9.Write a Python program that reads a CSV file containing categorical data and converts a specified column to a categorical data type. The program should prompt the user to enter the file path, column name, and category order, and then display the sorted data."
   ]
  },
  {
   "cell_type": "code",
   "execution_count": 2,
   "id": "70c1b172",
   "metadata": {},
   "outputs": [
    {
     "name": "stdout",
     "output_type": "stream",
     "text": [
      "Enter the file path:D:\\\\Data sets\\\\data.csv\n",
      "enter the column name:Color\n",
      "Enter the category order(comma-separated):Green,Blue,Red\n",
      "   ID  Color  value\n",
      "0   3  Green      5\n",
      "1   2   Blue      2\n",
      "2   1    Red      3\n"
     ]
    }
   ],
   "source": [
    "import pandas as pd\n",
    "\n",
    "file_path = input(\"Enter the file path:\")\n",
    "\n",
    "column_name = input(\"enter the column name:\")\n",
    "\n",
    "category_order = input(\"Enter the category order(comma-separated):\").split(\",\")\n",
    "\n",
    "df =pd.read_csv(file_path)\n",
    "\n",
    "df[column_name] = pd.Categorical(df[column_name],categories= category_order,ordered = True)\n",
    "\n",
    "sorted_df = df.sort_values(by =column_name)\n",
    "\n",
    "print(sorted_df)"
   ]
  },
  {
   "cell_type": "markdown",
   "id": "88109114",
   "metadata": {},
   "source": [
    "Q10. Write a Python program that reads a CSV file containing sales data for different products and visualizes the data using a stacked bar chart to show the sales of each product category over time. The \n",
    "program should prompt the user to enter the file path and display the chart."
   ]
  },
  {
   "cell_type": "code",
   "execution_count": 11,
   "id": "45477e60",
   "metadata": {},
   "outputs": [
    {
     "name": "stdout",
     "output_type": "stream",
     "text": [
      "Enter the file path: D:\\\\Data sets\\\\Sales product.csv\n"
     ]
    },
    {
     "data": {
      "image/png": "[encoded data removed]",
      "text/plain": [
       "<Figure size 1000x600 with 1 Axes>"
      ]
     },
     "metadata": {},
     "output_type": "display_data"
    }
   ],
   "source": [
    "import pandas as pd\n",
    "import matplotlib.pyplot as plt\n",
    "\n",
    "file_path = input(\"Enter the file path: \")\n",
    "\n",
    "df = pd.read_csv(file_path)\n",
    "\n",
    "df = df.groupby(['category', 'date'])['sales'].sum().reset_index()\n",
    "\n",
    "\n",
    "df = df.pivot(index='date', columns='category', values='sales')\n",
    "\n",
    "\n",
    "ax = df.plot(kind='bar', stacked=True, figsize=(10, 6))\n",
    "\n",
    "\n",
    "ax.set_title('Sales by Product Category')\n",
    "ax.set_xlabel('Date')\n",
    "ax.set_ylabel('Sales')\n",
    "\n",
    "plt.show()"
   ]
  },
  {
   "cell_type": "markdown",
   "id": "f0d2d1d2",
   "metadata": {},
   "source": [
    "Q11. You are given a CSV file containing student data that includes the student ID and their test score. Write a Python program that reads the CSV file, calculates the mean, median, and mode of the test scores, and \n",
    "displays the results in a table.\n",
    "\n",
    "The program should do the following:\n",
    "    \n",
    ".Prompt the user to enter the file path of the CSV file containing the student dataR\n",
    ".Read the CSV file into a Pandas DataFrameR\n",
    ".Calculate the mean, median, and mode of the test scores using Pandas toolsR\n",
    ".Display the mean, median, and mode in a table."
   ]
  },
  {
   "cell_type": "code",
   "execution_count": 1,
   "id": "51bc686c",
   "metadata": {},
   "outputs": [
    {
     "name": "stdout",
     "output_type": "stream",
     "text": [
      "Enter the file path of the CSV file containing the student data: D:\\\\Data sets\\\\student_data.csv\n",
      "Mean: 83.5\n",
      "Medium: 85.0\n",
      "Mode: 85\n"
     ]
    }
   ],
   "source": [
    "import pandas as pd\n",
    "import statistics\n",
    "\n",
    "\n",
    "file_path = input(\"Enter the file path of the CSV file containing the student data: \")\n",
    "\n",
    "\n",
    "df = pd.read_csv(file_path)\n",
    "\n",
    "\n",
    "mean_score = df['Test Score'].mean()\n",
    "\n",
    "median_score = df['Test Score'].median()\n",
    "\n",
    "mode_score = df['Test Score'].mode().tolist()\n",
    "\n",
    "print(\"Mean:\",mean_score)\n",
    "\n",
    "print(\"Medium:\",median_score)\n",
    "\n",
    "print(\"Mode:\",mode_score)\n"
   ]
  },
  {
   "cell_type": "code",
   "execution_count": null,
   "id": "383cbd83",
   "metadata": {},
   "outputs": [],
   "source": []
  },
  {
   "cell_type": "code",
   "execution_count": null,
   "id": "94b48d32",
   "metadata": {},
   "outputs": [],
   "source": []
  }
 ],
 "metadata": {
  "kernelspec": {
   "display_name": "Python 3 (ipykernel)",
   "language": "python",
   "name": "python3"
  },
  "language_info": {
   "codemirror_mode": {
    "name": "ipython",
    "version": 3
   },
   "file_extension": ".py",
   "mimetype": "text/x-python",
   "name": "python",
   "nbconvert_exporter": "python",
   "pygments_lexer": "ipython3",
   "version": "3.9.13"
  }
 },
 "nbformat": 4,
 "nbformat_minor": 5
}
