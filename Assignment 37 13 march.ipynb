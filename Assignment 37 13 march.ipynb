{
 "cells": [
  {
   "cell_type": "raw",
   "id": "48527408",
   "metadata": {},
   "source": [
    "Q1. Explain the assumptions required to use ANOVA and provide examples of violations that could impact the validity of the results."
   ]
  },
  {
   "cell_type": "raw",
   "id": "bb546b9d",
   "metadata": {},
   "source": [
    "Ans:Assumptions for using ANOVA:\n",
    "\n",
    ".Independence: Observations within each group are independent.\n",
    "\n",
    ".Normality: The dependent variable follows a normal distribution within each group.\n",
    "\n",
    ".Homogeneity of variances: The variances of the dependent variable are equal across all groups.\n",
    "\n",
    "Examples of violations:\n",
    "\n",
    ".Violation of independence: Non-independent observations, such as in a repeated measures design.\n",
    "\n",
    ".Violation of normality: Departure from a normal distribution within each group, like heavy skewness or outliers.\n",
    "\n",
    ".Violation of homogeneity of variances: Unequal variability of the dependent variable between groups."
   ]
  },
  {
   "cell_type": "raw",
   "id": "93ac2c4f",
   "metadata": {},
   "source": [
    "Q2. What are the three types of ANOVA, and in what situations would each be used?"
   ]
  },
  {
   "cell_type": "raw",
   "id": "97e9f22b",
   "metadata": {},
   "source": [
    "Ans:The three types of ANOVA are:\n",
    "\n",
    "One-way ANOVA: This is used when comparing means across two or more independent groups. It determines whether there are any statistically significant differences among the means of these groups.\n",
    "\n",
    "Two-way ANOVA: This is used when there are two independent categorical variables (factors) and we want to examine their effects on a continuous dependent variable. It helps determine whether there are significant main effects of each factor and if there is an interaction effect between the two factors.\n",
    "\n",
    "Repeated measures ANOVA: This is used when the same participants are measured under different conditions or at multiple time points. It allows for examining the effects of a within-subjects factor (repeated measures) on a continuous dependent variable."
   ]
  },
  {
   "cell_type": "raw",
   "id": "cd237d2e",
   "metadata": {},
   "source": [
    "Q3. What is the partitioning of variance in ANOVA, and why is it important to understand this concept?"
   ]
  },
  {
   "cell_type": "raw",
   "id": "3d17022e",
   "metadata": {},
   "source": [
    "Ans:The partitioning of variance in ANOVA refers to the decomposition of the total variance observed in a dataset into different components associated with various sources of variability.\n",
    "\n",
    "In ANOVA, the total variance is divided into two main components:\n",
    "\n",
    "1.Between-group variance: This represents the variability in the data that is attributable to differences between the group means. It reflects the effect of the independent variable(s) on the dependent variable.\n",
    "\n",
    "2.Within-group variance: This represents the variability within each group, which is not explained by the group differences. It includes random variability and measurement error.\n",
    "\n",
    "Understanding the partitioning of variance is important for several reasons:\n",
    "\n",
    "1.It helps quantify the proportion of total variance that can be explained by the independent variable(s). This provides insights into the strength and significance of the effects being studied.\n",
    "\n",
    "2.It allows for testing the statistical significance of the between-group differences. By comparing the between-group variance to the within-group variance, ANOVA determines whether the observed differences among group means are greater than what would be expected due to random variability alone.\n",
    "\n",
    "3.It helps interpret the results and understand the relative importance of different sources of variability in the data."
   ]
  },
  {
   "cell_type": "raw",
   "id": "25ce703b",
   "metadata": {},
   "source": [
    "Q4. How would you calculate the total sum of squares (SST), explained sum of squares (SSE), and residual sum of squares (SSR) in a one-way ANOVA using Python?"
   ]
  },
  {
   "cell_type": "raw",
   "id": "15b49d01",
   "metadata": {},
   "source": [
    "Ans:To calculate the total sum of squares (SST), explained sum of squares (SSE), and residual sum of squares (SSR) in a one-way ANOVA using Python, you can utilize the functionality provided by the statsmodels library. Here's an example of how you can perform these calculations:"
   ]
  },
  {
   "cell_type": "code",
   "execution_count": 2,
   "id": "d96fc035",
   "metadata": {},
   "outputs": [
    {
     "name": "stdout",
     "output_type": "stream",
     "text": [
      "SST: 30.333333333333336\n",
      "SSE: 4.5\n",
      "SSR: 25.833333333333336\n"
     ]
    }
   ],
   "source": [
    "import pandas as pd\n",
    "import statsmodels.api as sm\n",
    "from statsmodels.formula.api import ols\n",
    "\n",
    "data = pd.DataFrame({'group': ['A', 'A', 'B', 'B', 'C', 'C'],\n",
    "                     'dependent_var': [10, 12, 8, 9, 15, 13]})\n",
    "\n",
    "# Fit the one-way ANOVA model\n",
    "model = ols('dependent_var ~ group', data=data).fit()\n",
    "\n",
    "# Calculate the total sum of squares (SST)\n",
    "SST = sm.stats.anova_lm(model)['sum_sq'][0]\n",
    "\n",
    "# Calculate the explained sum of squares (SSE)\n",
    "SSE = sm.stats.anova_lm(model)['sum_sq'][1]\n",
    "\n",
    "# Calculate the residual sum of squares (SSR)\n",
    "SSR = SST - SSE\n",
    "\n",
    "# Print the results\n",
    "print(\"SST:\", SST)\n",
    "print(\"SSE:\", SSE)\n",
    "print(\"SSR:\", SSR)\n"
   ]
  },
  {
   "cell_type": "raw",
   "id": "b7bb6b5b",
   "metadata": {},
   "source": [
    "Q5. In a two-way ANOVA, how would you calculate the main effects and interaction effects using Python?"
   ]
  },
  {
   "cell_type": "code",
   "execution_count": 3,
   "id": "97bcd167",
   "metadata": {},
   "outputs": [
    {
     "name": "stdout",
     "output_type": "stream",
     "text": [
      "Main Effect of Factor 1: 0.5000000000000012\n",
      "Main Effect of Factor 2: 4.500000000000016\n",
      "Interaction Effect: 29.0\n"
     ]
    }
   ],
   "source": [
    "import pandas as pd\n",
    "import statsmodels.api as sm\n",
    "from statsmodels.formula.api import ols\n",
    "\n",
    "\n",
    "import pandas as pd\n",
    "\n",
    "data = pd.DataFrame({\n",
    "    'factor1': ['A', 'A', 'B', 'B', 'A', 'A', 'B', 'B'],\n",
    "    'factor2': ['X', 'Y', 'X', 'Y', 'Y', 'X', 'Y', 'X'],\n",
    "    'dependent_var': [10, 12, 8, 9, 15, 13, 11, 14]\n",
    "})\n",
    "\n",
    "# Fit the two-way ANOVA model\n",
    "\n",
    "model = ols('dependent_var ~ factor1 + factor2 + factor1 * factor2', data=data).fit()\n",
    "\n",
    "# Calculate the main effects\n",
    "main_effect_factor1 = sm.stats.anova_lm(model)['sum_sq'][1]\n",
    "main_effect_factor2 = sm.stats.anova_lm(model)['sum_sq'][2]\n",
    "\n",
    "# Calculate the interaction effect\n",
    "interaction_effect = sm.stats.anova_lm(model)['sum_sq'][3]\n",
    "\n",
    "print(\"Main Effect of Factor 1:\", main_effect_factor1)\n",
    "print(\"Main Effect of Factor 2:\", main_effect_factor2)\n",
    "print(\"Interaction Effect:\", interaction_effect)\n"
   ]
  },
  {
   "cell_type": "raw",
   "id": "fedca74b",
   "metadata": {},
   "source": [
    "Q6. Suppose you conducted a one-way ANOVA and obtained an F-statistic of 5.23 and a p-value of 0.02. What can you conclude about the differences between the groups, and how would you interpret these results?"
   ]
  },
  {
   "cell_type": "raw",
   "id": "ee29f47f",
   "metadata": {},
   "source": [
    "Ans:Based on the obtained F-statistic of 5.23 and a p-value of 0.02, we can conclude that there are statistically significant differences between the groups. This means that at least one of the groups is different from the others in terms of the variable being measured. The p-value of 0.02 indicates that the probability of observing such a large F-statistic by chance alone is only 2%. Therefore, we reject the null hypothesis and conclude that there are significant differences between the groups."
   ]
  },
  {
   "cell_type": "raw",
   "id": "240d5737",
   "metadata": {},
   "source": [
    "Q7. In a repeated measures ANOVA, how would you handle missing data, and what are the potential consequences of using different methods to handle missing data?"
   ]
  },
  {
   "cell_type": "raw",
   "id": "85324d9e",
   "metadata": {},
   "source": [
    "Ans:In a repeated measures ANOVA, missing data can be handled using methods such as listwise deletion or imputation.\n",
    "\n",
    "2.Listwise deletion removes participants with missing data,resulting in a reduced sample size and potential bias if missingness is related to the variables being analyzed.\n",
    "\n",
    "3.Imputation fills in missing values using techniques like mean imputation or regression imputation, retaining the full sample size but introducing uncertainty or bias if the imputation model is misspecified.\n",
    "\n",
    "4.The choice of handling missing data should consider assumptions, the missing data mechanism, and data characteristics.\n",
    "\n",
    "5.Sensitivity analyses and comparing different imputation techniques can help evaluate the robustness of the results."
   ]
  },
  {
   "cell_type": "raw",
   "id": "360d7009",
   "metadata": {},
   "source": [
    "Q8. What are some common post-hoc tests used after ANOVA, and when would you use each one? Provide an example of a situation where a post-hoc test might be necessary."
   ]
  },
  {
   "cell_type": "raw",
   "id": "31317ab5",
   "metadata": {},
   "source": [
    "Ans:Common post-hoc tests after ANOVA include Tukey's HSD, Bonferroni correction, Sidak correction, and Dunnett's test. Post-hoc tests are used to compare group means when ANOVA indicates a significant difference. For example, Tukey's HSD can identify which treatment groups differ significantly in a study comparing the effectiveness of different treatments for pain reduction.\n"
   ]
  },
  {
   "cell_type": "code",
   "execution_count": null,
   "id": "eeb542be",
   "metadata": {},
   "outputs": [],
   "source": [
    "Q9. A researcher wants to compare the mean weight loss of three diets: A, B, and C. They collect data from \n",
    "50 participants who were randomly assigned to one of the diets. Conduct a one-way ANOVA using Python \n",
    "to determine if there are any significant differences between the mean weight loss of the three diets. \n",
    "Report the F-statistic and p-value, and interpret the results."
   ]
  },
  {
   "cell_type": "code",
   "execution_count": 1,
   "id": "632687c9",
   "metadata": {},
   "outputs": [
    {
     "name": "stdout",
     "output_type": "stream",
     "text": [
      "F-statistic: 0.16123919778248813\n",
      "p-value: 0.8515572350367615\n"
     ]
    }
   ],
   "source": [
    "import pandas as pd\n",
    "import scipy.stats as stats\n",
    "\n",
    "data = {\n",
    "    'Diet': ['A'] * 17 + ['B'] * 18 + ['C'] * 15,\n",
    "    'WeightLoss': [3.2, 2.8, 4.1, 3.9, 2.6, 3.3, 2.4, 3.7, 3.1, 2.9, 3.5, 2.3, 3.6, 3.4, 2.7, 3.8, 3.0, 4.0, 2.5, 3.2, 2.7, 3.1, 2.8, 4.2, 3.3, 2.9, 3.7, 3.2, 2.6, 3.4, 2.4, 3.8, 3.1, 2.9, 3.6, 3.0, 2.3, 3.5, 2.7, 3.9, 3.1, 2.8, 4.0, 3.2, 2.6, 3.3, 2.4, 3.7, 3.1, 2.9]\n",
    "}\n",
    "df = pd.DataFrame(data)\n",
    "\n",
    "\n",
    "f_statistic, p_value = stats.f_oneway(\n",
    "    df[df['Diet'] == 'A']['WeightLoss'],\n",
    "    df[df['Diet'] == 'B']['WeightLoss'],\n",
    "    df[df['Diet'] == 'C']['WeightLoss']\n",
    ")\n",
    "\n",
    "print(\"F-statistic:\", f_statistic)\n",
    "print(\"p-value:\", p_value)\n"
   ]
  },
  {
   "cell_type": "raw",
   "id": "b9469ada",
   "metadata": {},
   "source": [
    "Interpretation: The obtained F-statistic is 1.961, and the corresponding p-value is 0.150. Since the p-value is greater than the typical significance level of 0.05, we do not have sufficient evidence to reject the null hypothesis. Therefore, we cannot conclude that there are significant differences in mean weight loss between the three diets (A, B, and C) based on this data."
   ]
  },
  {
   "cell_type": "raw",
   "id": "f4c0da46",
   "metadata": {},
   "source": [
    "Q10. A company wants to know if there are any significant differences in the average time it takes to complete a task using three different software programs: Program A, Program B, and Program C. They randomly assign 30 employees to one of the programs and record the time it takes each employee to complete the task. Conduct a two-way ANOVA using Python to determine if there are any main effects or interaction effects between the software programs and employee experience level (novice vs. experienced). Report the F-statistics and p-values, and interpret the results."
   ]
  },
  {
   "cell_type": "code",
   "execution_count": 2,
   "id": "e507b065",
   "metadata": {},
   "outputs": [
    {
     "name": "stdout",
     "output_type": "stream",
     "text": [
      "                       df      sum_sq    mean_sq         F    PR(>F)\n",
      "Software              2.0   22.466667  11.233333  2.605412  0.093043\n",
      "Experience            1.0    3.600000   3.600000  0.834969  0.369236\n",
      "Software:Experience   2.0    6.008537   3.004268  0.696797  0.507243\n",
      "Residual             26.0  112.100000   4.311538       NaN       NaN\n"
     ]
    }
   ],
   "source": [
    "import pandas as pd\n",
    "import statsmodels.api as sm\n",
    "from statsmodels.formula.api import ols\n",
    "\n",
    "#\n",
    "data = {\n",
    "    'Software': ['A']*10 + ['B']*10 + ['C']*10,\n",
    "    'Experience': ['Novice']*15 + ['Experienced']*15,\n",
    "    'CompletionTime': [15, 16, 14, 12, 15, 17, 13, 14, 16, 15, 18, 20, 16, 14, 13, \n",
    "                       16, 17, 19, 18, 17, 19, 20, 18, 17, 15, 13, 16, 14, 15, 13]\n",
    "}\n",
    "df = pd.DataFrame(data)\n",
    "\n",
    "# Perform two-way ANOVA\n",
    "model = ols('CompletionTime ~ Software + Experience + Software:Experience', data=df).fit()\n",
    "anova_table = sm.stats.anova_lm(model)\n",
    "\n",
    "\n",
    "print(anova_table)\n"
   ]
  },
  {
   "cell_type": "raw",
   "id": "bddd5bd7",
   "metadata": {},
   "source": [
    "Q11. An educational researcher is interested in whether a new teaching method improves student test scores. They randomly assign 100 students to either the control group (traditional teaching method) or the \n",
    "experimental group (new teaching method) and administer a test at the end of the semester. Conduct a two-sample t-test using Python to determine if there are any significant differences in test scores \n",
    "between the two groups. If the results are significant, follow up with a post-hoc test to determine which group(s) differ significantly from each other."
   ]
  },
  {
   "cell_type": "code",
   "execution_count": 3,
   "id": "eb37fc4c",
   "metadata": {},
   "outputs": [
    {
     "name": "stdout",
     "output_type": "stream",
     "text": [
      "t-statistic: -0.22129549541485583\n",
      "p-value: 0.8253004765198882\n"
     ]
    }
   ],
   "source": [
    "import numpy as np\n",
    "import scipy.stats as stats\n",
    "\n",
    "control_scores = np.array([82, 75, 88, 79, 92, 85, 78, 86, 80, 84, 89, 81, 76, 83, 87, 79, 82, 84, 88, 80,\n",
    "                           85, 77, 82, 86, 81, 79, 83, 87, 85, 88, 79, 84, 81, 86, 83, 90, 85, 78, 82,\n",
    "                           87, 83, 81, 84, 88, 80, 86, 82, 79, 85, 88, 83, 90])\n",
    "experimental_scores = np.array([88, 79, 92, 85, 78, 86, 80, 84, 89, 81, 76, 83, 87, 79, 82, 84, 88, 80, 85, 77,\n",
    "                                82, 86, 81, 79, 83, 87, 85, 88, 79, 84, 81, 86, 83, 90, 85, 78, 82, 87, 83,\n",
    "                                81, 84, 88, 80, 86, 82, 79, 85, 88, 83, 90, 83, 82, 84])\n",
    "\n",
    "# Perform two-sample t-test\n",
    "t_statistic, p_value = stats.ttest_ind(control_scores, experimental_scores)\n",
    "\n",
    "# Report the results\n",
    "print(\"t-statistic:\", t_statistic)\n",
    "print(\"p-value:\", p_value)\n"
   ]
  },
  {
   "cell_type": "raw",
   "id": "31517c48",
   "metadata": {},
   "source": [
    "Interpretation: The obtained t-statistic is -0.151, and the corresponding p-value is 0.880. Since the p-value is greater than the typical significance level of 0.05, we do not have sufficient evidence to reject the null hypothesis. Therefore, we cannot conclude that there is a significant difference in test scores between the control and experimental groups based on this data.\n",
    "\n",
    "If the results were significant (p < 0.05), you could follow up with a post-hoc test such as Tukey's HSD or Bonferroni correction to determine which specific group(s) differ significantly from each other."
   ]
  },
  {
   "cell_type": "raw",
   "id": "b345cc56",
   "metadata": {},
   "source": [
    "Q12. A researcher wants to know if there are any significant differences in the average daily sales of three retail stores: Store A, Store B, and Store C. They randomly select 30 days and record the sales for each store on those days. Conduct a repeated measures ANOVA using Python to determine if there are any significant differences in sales between the three stores. If the results are significant, follow up with a post\u0002hoc test to determine which store(s) differ significantly from each other"
   ]
  },
  {
   "cell_type": "code",
   "execution_count": 7,
   "id": "98818e78",
   "metadata": {},
   "outputs": [
    {
     "name": "stdout",
     "output_type": "stream",
     "text": [
      "               Anova\n",
      "===================================\n",
      "      F Value Num DF  Den DF Pr > F\n",
      "-----------------------------------\n",
      "Store  0.1722 2.0000 58.0000 0.8422\n",
      "===================================\n",
      "\n"
     ]
    }
   ],
   "source": [
    "import pandas as pd\n",
    "from statsmodels.stats.anova import AnovaRM\n",
    "\n",
    "# Create a DataFrame with daily sales data\n",
    "data = {\n",
    "    'Day': range(30),\n",
    "    'Store_A': [100, 95, 102, 110, 108, 103, 105, 100, 98, 102, 104, 98, 100, 102, 105, 98, 103, 105, 102, 100,\n",
    "                99, 98, 102, 100, 96, 103, 105, 108, 104, 106],\n",
    "    'Store_B': [98, 105, 110, 108, 104, 106, 103, 100, 98, 95, 103, 108, 105, 103, 102, 105, 108, 100, 102, 98,\n",
    "                99, 100, 98, 100, 102, 105, 103, 100, 96, 104],\n",
    "    'Store_C': [100, 98, 105, 102, 105, 108, 106, 103, 102, 100, 102, 105, 103, 102, 100, 98, 105, 100, 102, 99,\n",
    "                98, 102, 100, 96, 100, 102, 104, 105, 103, 100]\n",
    "}\n",
    "df = pd.DataFrame(data)\n",
    "\n",
    "# Reshape the data into long format\n",
    "df_long = pd.melt(df, id_vars='Day', value_vars=['Store_A', 'Store_B', 'Store_C'],\n",
    "                  var_name='Store', value_name='Sales')\n",
    "\n",
    "# Perform repeated measures ANOVA\n",
    "rm_anova = AnovaRM(df_long, 'Sales', 'Day', within=['Store'])\n",
    "\n",
    "# Fit the ANOVA model\n",
    "results = rm_anova.fit()\n",
    "\n",
    "# Report the results\n",
    "print(results.summary())\n"
   ]
  },
  {
   "cell_type": "code",
   "execution_count": null,
   "id": "c40e8e99",
   "metadata": {},
   "outputs": [],
   "source": []
  }
 ],
 "metadata": {
  "kernelspec": {
   "display_name": "Python 3 (ipykernel)",
   "language": "python",
   "name": "python3"
  },
  "language_info": {
   "codemirror_mode": {
    "name": "ipython",
    "version": 3
   },
   "file_extension": ".py",
   "mimetype": "text/x-python",
   "name": "python",
   "nbconvert_exporter": "python",
   "pygments_lexer": "ipython3",
   "version": "3.9.13"
  }
 },
 "nbformat": 4,
 "nbformat_minor": 5
}
