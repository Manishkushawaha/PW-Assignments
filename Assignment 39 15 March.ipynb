{
 "cells": [
  {
   "cell_type": "markdown",
   "id": "f1a035df",
   "metadata": {},
   "source": [
    "### Q1: Explain the following with an example\n",
    "1. Artificial Intelligence\n",
    "2. Machine Learning\n",
    "3. Deep Learning"
   ]
  },
  {
   "cell_type": "raw",
   "id": "5228aaef",
   "metadata": {},
   "source": [
    "Ans: Artificial Intelligence: Machines that can think and learn like humans.Example: Virtual personal assistants like Siri or Alexa.\n",
    "\n",
    "2. Machine Learning: Algorithms that learn and make predictions without explicit programming.Example: Email spam filtering.\n",
    "\n",
    "3. Deep Learning: Training neural networks with multiple layers to learn and make complex decisions.Example: Image recognition."
   ]
  },
  {
   "cell_type": "markdown",
   "id": "5b56645a",
   "metadata": {},
   "source": [
    "### Q2. What is supervised learning? List some examples of supervised learning."
   ]
  },
  {
   "cell_type": "raw",
   "id": "0833cabe",
   "metadata": {},
   "source": [
    "Ans:Supervised learning is a type of machine learning where the algorithm learns from labeled training data to make predictions or decisions. In supervised learning, the dataset provided to the algorithm includes both input features and their corresponding correct output labels. The algorithm learns from this labeled data to generalize and make predictions on new, unseen data.\n",
    "\n",
    "Examples of supervised learning include:\n",
    "\n",
    "1. Classification: Predicting discrete class labels. For example:\n",
    "\n",
    "   .Email spam detection (classifying emails as spam or non-spam).\n",
    "   .Image classification (categorizing images into different classes like cats or dogs).\n",
    "\n",
    "2. Regression: Predicting continuous numerical values. For example:\n",
    "\n",
    "   .House price prediction (predicting the price of a house based on its features like area, number of bedrooms, etc.).\n",
    "   .Stock market forecasting (predicting the future price of a stock based on historical data).\n",
    "\n",
    "3. Object Detection: Identifying and localizing objects within an image or video. For example:\n",
    "\n",
    "   .Autonomous driving (detecting and tracking pedestrians, vehicles, and traffic signs).\n",
    "   .Surveillance systems (identifying and tracking objects of interest in real-time).\n",
    "4. Sentiment Analysis: Analyzing and categorizing opinions or sentiments in text data. For example:\n",
    "\n",
    "   .Social media sentiment analysis (determining whether a tweet or comment is positive, negative, or neutral).\n",
    "   .Customer reviews analysis (classifying reviews as positive or negative based on customer sentiment)."
   ]
  },
  {
   "cell_type": "markdown",
   "id": "887163bc",
   "metadata": {},
   "source": [
    "### Q3. What is Unsupervised learning? List some examples of Unsupervised learning."
   ]
  },
  {
   "cell_type": "raw",
   "id": "190fa3e6",
   "metadata": {},
   "source": [
    "Ans:Unsupervised learning is a type of machine learning where the algorithm learns patterns and structures from unlabeled data without any specific target or output labels. In unsupervised learning, the algorithm aims to discover hidden patterns, relationships, or clusters within the data.\n",
    "\n",
    "Examples of unsupervised learning include:\n",
    "\n",
    "1.Clustering: Grouping similar data points together based on their inherent characteristics.\n",
    "\n",
    ".K-means algorithm: It partitions the data into a specified number of clusters, where each data point belongs to the cluster with the closest mean.\n",
    ".Hierarchical clustering: It creates a hierarchy of clusters by merging or splitting them based on their similarities.\n",
    ".Anomaly Detection: Identifying rare or abnormal instances in a dataset.\n",
    "\n",
    "2.Isolation Forest: It builds an ensemble of random decision trees to isolate anomalies that are easier to separate from the normal instances.\n",
    ".Density-based Spatial Clustering of Applications with Noise (DBSCAN): It identifies outliers as data points that lie in low-density regions.\n",
    ".Dimensionality Reduction: Reducing the number of input features while retaining important information.\n",
    "\n",
    "3.Principal Component Analysis (PCA): It transforms the data into a lower-dimensional space while maximizing the variance in the data.\n",
    ".t-Distributed Stochastic Neighbor Embedding (t-SNE): It visualizes high-dimensional data by reducing it to two or three dimensions, emphasizing local similarities.\n",
    "\n",
    "4.Association Rule Learning: Discovering interesting associations or relationships between variables in large datasets.\n",
    "\n",
    ".Apriori algorithm: It identifies frequent itemsets and generates association rules based on support and confidence measures.\n",
    ".FP-Growth algorithm: It constructs a compact data structure called FP-tree to efficiently mine frequent itemsets."
   ]
  },
  {
   "cell_type": "markdown",
   "id": "a75ccdee",
   "metadata": {},
   "source": [
    "### Q4:What is the difference between AI, ML, DL, and DS?"
   ]
  },
  {
   "cell_type": "raw",
   "id": "37120591",
   "metadata": {},
   "source": [
    "Ans:AI (Artificial Intelligence): Field of computer science focused on creating intelligent machines that can mimic human intelligence.\n",
    "\n",
    "ML (Machine Learning): Subset of AI that involves algorithms enabling computers to learn from data and make predictions or decisions without explicit programming.\n",
    "\n",
    "DL (Deep Learning): Specialized subset of ML that trains deep neural networks to learn complex representations directly from raw data.\n",
    "\n",
    "DS (Data Science): DS is an interdisciplinary field that involves extracting insights and knowledge from data using scientific methods, processes, algorithms, and systems. It combines elements of statistics, mathematics, computer science, and domain expertise to analyze and interpret complex datasets. Data scientists use various techniques, including statistical analysis, machine learning, data mining, and visualization, to uncover patterns, trends, and valuable insights from data."
   ]
  },
  {
   "cell_type": "markdown",
   "id": "e157cf83",
   "metadata": {},
   "source": [
    "### Q5.What are the main difference between supervised,unsupervised and semi-supervised learning?"
   ]
  },
  {
   "cell_type": "raw",
   "id": "ebb9a52a",
   "metadata": {},
   "source": [
    "Ans:supervised learning uses labeled data for prediction or classification, unsupervised learning discovers patterns from unlabeled data, and semi-supervised learning combines labeled and unlabeled data to improve learning and prediction performance."
   ]
  },
  {
   "cell_type": "markdown",
   "id": "a7e9e288",
   "metadata": {},
   "source": [
    "### Q6.What is train,test and validations split? Explian the importance of each term."
   ]
  },
  {
   "cell_type": "raw",
   "id": "78c7d062",
   "metadata": {},
   "source": [
    "Ans:Train, test, and validation splits are common practices in machine learning.\n",
    "\n",
    ".The training set is used to train the model and learn patterns from labeled data.\n",
    "\n",
    ".The test set is used to evaluate the model's performance on unseen data.\n",
    "\n",
    ".The validation set is optional and aids in model selection and hyperparameter tuning.\n",
    "\n",
    ".The training set is essential for optimizing the model's parameters and achieving good predictive performance.\n",
    "\n",
    ".The test set provides an unbiased estimate of the model's effectiveness in real-world scenarios.\n",
    "\n",
    ".The validation set helps in fine-tuning the model and selecting the best configuration.\n",
    "\n",
    ".Proper splitting of data ensures robust and unbiased model training, evaluation, and fine-tuning\n"
   ]
  },
  {
   "cell_type": "markdown",
   "id": "9da7d552",
   "metadata": {},
   "source": [
    "### Q7:How can unsupervised learning be used in anomaly detection?"
   ]
  },
  {
   "cell_type": "raw",
   "id": "c51789ce",
   "metadata": {},
   "source": [
    "Ans:Unsupervised learning can be used in anomaly detection to identify unusual instances in data without the need for labeled anomalies.\n",
    "\n",
    ".Unlabeled data is transformed into a suitable representation that captures underlying patterns and relationships.\n",
    "\n",
    ".Clustering algorithms group similar data points together, with anomalies identified as points that do not fit well into any \n",
    "cluster or are located in low-density regions.\n",
    "\n",
    ".Density estimation techniques estimate the probability density function of the data, with low-density points considered more likely to be anomalies.\n",
    "\n",
    ".Autoencoders, deep learning models, can detect anomalies by comparing the reconstruction error of input data.\n",
    "\n",
    ".Outlier detection methods utilize statistical techniques to identify instances deviating significantly from the data distribution's mean or median.\n",
    "\n",
    ".One-class classification algorithms, trained on normal data, can identify instances that deviate from the learned normal class as anomalies.\n",
    "\n",
    ".Novelty detection algorithms learn the boundaries of normal data and flag instances falling outside these boundaries as anomalies.\n",
    "\n",
    ".Anomaly detection with unsupervised learning is challenging due to the absence of labeled anomalies, but it can still identify unusual instances within a dataset."
   ]
  },
  {
   "cell_type": "markdown",
   "id": "e5b2766f",
   "metadata": {},
   "source": [
    "### Q8.List down some commonly used supervised learning alogrithm and unsupervised learning algorithms."
   ]
  },
  {
   "cell_type": "raw",
   "id": "cb482476",
   "metadata": {},
   "source": [
    "Ans:Commonly used supervised learning algorithms include:\n",
    "\n",
    "Linear Regression\n",
    "Logistic Regression\n",
    "Decision Trees\n",
    "Random Forests\n",
    "Support Vector Machines (SVM)\n",
    "Naive Bayes\n",
    "K-Nearest Neighbors (KNN)\n",
    "Gradient Boosting algorithms (e.g., XGBoost, LightGBM)\n",
    "Neural Networks (e.g., Multilayer Perceptron)\n",
    "\n",
    ".Commonly used unsupervised learning algorithms include:\n",
    "\n",
    "K-Means Clustering\n",
    "Hierarchical Clustering\n",
    "DBSCAN (Density-Based Spatial Clustering of Applications with Noise)\n",
    "Gaussian Mixture Models (GMM)\n",
    "Principal Component Analysis (PCA)\n",
    "t-Distributed Stochastic Neighbor Embedding (t-SNE)\n",
    "Association Rule Learning (e.g., Apriori, FP-Growth)\n",
    "Isolation Forest\n",
    "Self-Organizing Maps (SOM)"
   ]
  }
 ],
 "metadata": {
  "kernelspec": {
   "display_name": "Python 3 (ipykernel)",
   "language": "python",
   "name": "python3"
  },
  "language_info": {
   "codemirror_mode": {
    "name": "ipython",
    "version": 3
   },
   "file_extension": ".py",
   "mimetype": "text/x-python",
   "name": "python",
   "nbconvert_exporter": "python",
   "pygments_lexer": "ipython3",
   "version": "3.9.13"
  }
 },
 "nbformat": 4,
 "nbformat_minor": 5
}
