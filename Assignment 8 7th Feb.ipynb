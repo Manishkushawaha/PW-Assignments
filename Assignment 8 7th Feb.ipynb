{
 "cells": [
  {
   "cell_type": "markdown",
   "id": "9223362b",
   "metadata": {},
   "source": [
    "Q1. You are writing code for a company. The requirement of the company is that you create a python function that will check whether the password entered by the user is correct or not. The function should \n",
    "take the password as input and return the string “Valid Password” if the entered password follows the \n",
    "below-given password guidelines else it should return “Invalid Password”.\n",
    "\n",
    "\n",
    "1. The Password should contain at least two uppercase letters and at least two lowercase letters.\n",
    "\n",
    "2. The Password should contain at least a number and three special characters.\n",
    "\n",
    "3. The length of the password should be 10 characters long.\n"
   ]
  },
  {
   "cell_type": "code",
   "execution_count": 19,
   "id": "ab5cc73c",
   "metadata": {},
   "outputs": [
    {
     "name": "stdout",
     "output_type": "stream",
     "text": [
      "Enter the password :MaNi3@\n",
      "Invalid password\n"
     ]
    }
   ],
   "source": [
    "def check_password(password):\n",
    "    upper_count = 0\n",
    "    lower_count = 0\n",
    "    number_count = 0\n",
    "    special_count = 0\n",
    "    \n",
    "    for i in password:\n",
    "        \n",
    "        if i.isupper():\n",
    "            upper_count = upper_count + 1\n",
    "            \n",
    "        elif i.islower():\n",
    "            lower_count = lower_count + 1\n",
    "            \n",
    "        elif i .isdigit():\n",
    "            number_count = number_count + 1\n",
    "            \n",
    "        else:\n",
    "            special_count = special_count + 1\n",
    "            \n",
    "    if (upper_count >= 2 and lower_count >= 2 and number_count >= 1 and special_count >= 3\n",
    "       and len(password) == 10):\n",
    "        \n",
    "        return \"valid password\"\n",
    "    \n",
    "    else:\n",
    "        return \"Invalid password\"\n",
    "    \n",
    "\n",
    "    \n",
    "password = input(\"Enter the password :\")\n",
    "print(check_password(password))                      "
   ]
  },
  {
   "cell_type": "markdown",
   "id": "8187f784",
   "metadata": {},
   "source": [
    "Q2. Solve the below-given questions using at least one of the following: \n",
    "\n",
    "1. Lambda function\n",
    "2. Filter function\n",
    "3. Zap function\n",
    "4. List Comprehension\n",
    "\n",
    ". Check if the string starts with a particular letter.\n",
    ". Check if the string is numeric.\n",
    ". Sort a list of tuples having fruit names and their quantity. [(\"mango\",99),(\"orange\",80), (\"grapes\", 1000)]\n",
    ". Find the squares of numbers from 1 to 10.\n",
    ". Find the cube root of numbers from 1 to 10.\n",
    ". Check if a given number is even.\n",
    ". Filter odd numbers from the given list.\n",
    "\n",
    " [1,2,3,4,5,6,7,8,9,10]\n",
    ". Sort a list of integers into positive and negative integers lists.\n",
    "\n",
    " [1,2,3,4,5,6,-1,-2,-3,-4,-5,0]"
   ]
  },
  {
   "cell_type": "code",
   "execution_count": 20,
   "id": "68697574",
   "metadata": {},
   "outputs": [
    {
     "data": {
      "text/plain": [
       "['cherry']"
      ]
     },
     "execution_count": 20,
     "metadata": {},
     "output_type": "execute_result"
    }
   ],
   "source": [
    "#Check if the string starts with a particular letter.\n",
    "\n",
    "string = [\"apple\",\"banana\",\"cherry\",\"date\"]\n",
    "\n",
    "letter = \"c\"\n",
    "\n",
    "filter_str = list(filter(lambda x : x.startswith(letter),string))\n",
    "\n",
    "filter_str"
   ]
  },
  {
   "cell_type": "code",
   "execution_count": 22,
   "id": "84c4ee22",
   "metadata": {},
   "outputs": [
    {
     "data": {
      "text/plain": [
       "['123', '343']"
      ]
     },
     "execution_count": 22,
     "metadata": {},
     "output_type": "execute_result"
    }
   ],
   "source": [
    "#Check if the string is numeric.\n",
    "\n",
    "string = [\"123\",\"banana\",\"343\",\"date\"]\n",
    "\n",
    "filter_str = list(filter(lambda x : x.isnumeric(),string))\n",
    "\n",
    "filter_str"
   ]
  },
  {
   "cell_type": "code",
   "execution_count": 26,
   "id": "25e3278f",
   "metadata": {},
   "outputs": [
    {
     "data": {
      "text/plain": [
       "[('orange', 80), ('mango', 99), ('grapes', 1000)]"
      ]
     },
     "execution_count": 26,
     "metadata": {},
     "output_type": "execute_result"
    }
   ],
   "source": [
    "#Sort a list of tuples having fruit names and their quantity. \n",
    "\n",
    "fruits = [(\"mango\",99),(\"orange\",80), (\"grapes\", 1000)]\n",
    "\n",
    "sorted_list = sorted(fruits , key = lambda x : x[1])\n",
    "\n",
    "sorted_list"
   ]
  },
  {
   "cell_type": "code",
   "execution_count": 30,
   "id": "8a5d5a20",
   "metadata": {},
   "outputs": [
    {
     "data": {
      "text/plain": [
       "[1, 4, 9, 16, 25, 36, 49, 64, 81, 100]"
      ]
     },
     "execution_count": 30,
     "metadata": {},
     "output_type": "execute_result"
    }
   ],
   "source": [
    "#Find the squares of numbers from 1 to 10.\n",
    "\n",
    "square = [x*x for x in range(1,11)]\n",
    "square"
   ]
  },
  {
   "cell_type": "code",
   "execution_count": 36,
   "id": "363271ea",
   "metadata": {},
   "outputs": [
    {
     "name": "stdout",
     "output_type": "stream",
     "text": [
      "[1.0, 1.2599210498948732, 1.4422495703074083, 1.5874010519681994, 1.7099759466766968, 1.8171205928321397, 1.912931182772389, 2.0, 2.080083823051904, 2.154434690031884]\n"
     ]
    }
   ],
   "source": [
    "#Find the cube root of numbers from 1 to 10.\n",
    "\n",
    "cube_root= lambda i : i **(1/3)\n",
    "\n",
    "result = [cube_root(i) for i in range(1,11)]\n",
    "\n",
    "print(result)"
   ]
  },
  {
   "cell_type": "code",
   "execution_count": 40,
   "id": "f69448f6",
   "metadata": {},
   "outputs": [
    {
     "name": "stdout",
     "output_type": "stream",
     "text": [
      "False\n"
     ]
    }
   ],
   "source": [
    "#Check if a given number is even.\n",
    "\n",
    "number = 5\n",
    "\n",
    "even_number = (lambda x :x % 2 == 0)\n",
    "\n",
    "print(even_number(number))"
   ]
  },
  {
   "cell_type": "code",
   "execution_count": 42,
   "id": "750d593e",
   "metadata": {},
   "outputs": [
    {
     "name": "stdout",
     "output_type": "stream",
     "text": [
      "[1, 3, 5, 7, 9]\n"
     ]
    }
   ],
   "source": [
    "#Filter odd numbers from the given list.\n",
    "\n",
    "num = [1,2,3,4,5,6,7,8,9,10]\n",
    "\n",
    "odd_num = list(filter(lambda x : x % 2 != 0 , num))\n",
    "\n",
    "print(odd_num)"
   ]
  },
  {
   "cell_type": "code",
   "execution_count": 44,
   "id": "53c0e9ad",
   "metadata": {},
   "outputs": [
    {
     "name": "stdout",
     "output_type": "stream",
     "text": [
      "[1, 2, 3, 4, 5, 6]\n",
      "[-1, -2, -3, -4, -5]\n"
     ]
    }
   ],
   "source": [
    "#Sort a list of integers into positive and negative integers lists.\n",
    "\n",
    "num = [1,2,3,4,5,6,-1,-2,-3,-4,-5,0]\n",
    "\n",
    "positive_num = [x for x in num if x > 0]\n",
    "\n",
    "negative_num = [x for x in num if x < 0]\n",
    "\n",
    "print(positive_num)\n",
    "\n",
    "print(negative_num)\n",
    "\n",
    "\n"
   ]
  },
  {
   "cell_type": "code",
   "execution_count": null,
   "id": "25f4850d",
   "metadata": {},
   "outputs": [],
   "source": []
  }
 ],
 "metadata": {
  "kernelspec": {
   "display_name": "Python 3 (ipykernel)",
   "language": "python",
   "name": "python3"
  },
  "language_info": {
   "codemirror_mode": {
    "name": "ipython",
    "version": 3
   },
   "file_extension": ".py",
   "mimetype": "text/x-python",
   "name": "python",
   "nbconvert_exporter": "python",
   "pygments_lexer": "ipython3",
   "version": "3.9.13"
  }
 },
 "nbformat": 4,
 "nbformat_minor": 5
}
