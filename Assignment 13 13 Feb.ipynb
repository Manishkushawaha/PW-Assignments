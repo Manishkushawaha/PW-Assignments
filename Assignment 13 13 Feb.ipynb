{
 "cells": [
  {
   "cell_type": "markdown",
   "id": "b96d7c71",
   "metadata": {},
   "source": [
    "Q1. Explain why we have to use the Exception class while creating a Custom Exception.\n",
    "\n",
    "Note: Here Exception class refers to the base class for all the exceptions."
   ]
  },
  {
   "cell_type": "markdown",
   "id": "a8ad5f76",
   "metadata": {},
   "source": [
    "Ans:In Python, the Exception class is the base class for all built-in exceptions. When you create a custom exception, it is recommended to inherit from the Exception class because it provides a standard interface and behavior for all exceptions.\n",
    "\n",
    "Here are some reasons why you should use the Exception class as the base class for your custom exception:\n",
    "\n",
    "Standard interface: The Exception class provides a standard interface for all exceptions. This includes the __str__ method, which returns a string representation of the exception, and the args attribute, which contains any arguments passed to the exception.\n",
    "\n",
    "Standard behavior: The Exception class provides standard behavior for all exceptions. For example, when an exception is raised, it creates an instance of the exception class and provides a traceback of the code that led to the exception. Inheriting from the Exception class ensures that your custom exception will behave in the same way.\n",
    "\n",
    "Catching exceptions: When you catch an exception using a try/except block, you can catch all exceptions that inherit from the Exception class. This means that if you inherit from the Exception class, your custom exception can be caught using a try/except block like any other exception.\n",
    "\n",
    "Consistency: Inheriting from the Exception class makes your code consistent with the rest of Python. If you create a custom exception that does not inherit from the Exception class, it may be confusing for other developers who are familiar with the standard behavior of exceptions in Python."
   ]
  },
  {
   "cell_type": "markdown",
   "id": "d5daae95",
   "metadata": {},
   "source": [
    "Q2. Write a python program to print Python Exception Hierarchy."
   ]
  },
  {
   "cell_type": "code",
   "execution_count": 10,
   "id": "461738e3",
   "metadata": {},
   "outputs": [
    {
     "name": "stdout",
     "output_type": "stream",
     "text": [
      "\n",
      "Exception hierarchy for Exception:\n",
      "- Exception\n",
      "- BaseException\n",
      "- object\n"
     ]
    }
   ],
   "source": [
    "import sys\n",
    "\n",
    "def print_exception_hierarchy(ex_class):\n",
    "    print(f\"\\nException hierarchy for {ex_class.__name__}:\")\n",
    "    while ex_class:\n",
    "        print(f\"- {ex_class.__name__}\")\n",
    "        ex_class = ex_class.__base__\n",
    "\n",
    "print_exception_hierarchy(Exception)"
   ]
  },
  {
   "cell_type": "markdown",
   "id": "980a3a5c",
   "metadata": {},
   "source": [
    "Q3. What errors are defined in the ArithmeticError class? Explain any two with an example."
   ]
  },
  {
   "cell_type": "markdown",
   "id": "9e3ae8fb",
   "metadata": {},
   "source": [
    "Ans:The ArithmeticError class is a subclass of the Exception class in Python and is used to handle errors related to arithmetic operations. It serves as the base class for several other exception classes that relate to arithmetic errors. Two of the commonly used errors that are defined in the ArithmeticError class are"
   ]
  },
  {
   "cell_type": "markdown",
   "id": "229a1b0e",
   "metadata": {},
   "source": [
    "ZeroDivisionError: This error is raised when the second operand in a division operation is zero. For example:"
   ]
  },
  {
   "cell_type": "code",
   "execution_count": 1,
   "id": "5d3483da",
   "metadata": {},
   "outputs": [
    {
     "name": "stdout",
     "output_type": "stream",
     "text": [
      "division by zero\n"
     ]
    }
   ],
   "source": [
    "try:\n",
    "    a = 10/0\n",
    "    \n",
    "except ZeroDivisionError as e:\n",
    "    print(e)"
   ]
  },
  {
   "cell_type": "markdown",
   "id": "07775bdb",
   "metadata": {},
   "source": [
    "OverflowError: This error is raised when the result of an arithmetic operation is too large to be represented by the data type being used. For example:"
   ]
  },
  {
   "cell_type": "code",
   "execution_count": 9,
   "id": "d7a59bed",
   "metadata": {},
   "outputs": [],
   "source": [
    "import sys\n",
    "try:\n",
    "    a = sys.maxsize \n",
    "    b = a + 1\n",
    "\n",
    "except OverflowError as e:\n",
    "    print(\"An OverflowError occurred:\", e)"
   ]
  },
  {
   "cell_type": "markdown",
   "id": "60796af5",
   "metadata": {},
   "source": [
    "Q4. Why LookupError class is used? Explain with an example KeyError and IndexError."
   ]
  },
  {
   "cell_type": "markdown",
   "id": "b11e5da3",
   "metadata": {},
   "source": [
    "Ans:The LookupError class is a base class for all Python exceptions that are related to lookup operations (i.e., attempts to access a non-existent or invalid element of a collection). It is a subclass of the Exception class and serves as the base class for several other exception classes that relate to lookup errors.\n",
    "\n",
    "Two common examples of lookup errors that are defined in Python are KeyError and IndexError. Here's a brief explanation of each with an example:\n",
    "\n",
    "KeyError: This error is raised when a dictionary key is not found. For example:"
   ]
  },
  {
   "cell_type": "code",
   "execution_count": 11,
   "id": "a92237a8",
   "metadata": {},
   "outputs": [
    {
     "name": "stdout",
     "output_type": "stream",
     "text": [
      "'key2'\n"
     ]
    }
   ],
   "source": [
    "try:\n",
    "    d = {\"key\":\"sudh\",1:[2,3,4,5]}\n",
    "    print(d[\"key2\"])\n",
    "    \n",
    "except KeyError as e:\n",
    "    print(e)"
   ]
  },
  {
   "cell_type": "markdown",
   "id": "2e0f8993",
   "metadata": {},
   "source": [
    "IndexError: This error is raised when an index is not found in a sequence (e.g., a list or tuple). For example:"
   ]
  },
  {
   "cell_type": "code",
   "execution_count": null,
   "id": "4d805f35",
   "metadata": {},
   "outputs": [],
   "source": [
    "try:\n",
    "    l = [2,3,4,5]\n",
    "    print(l[6])\n",
    "    \n",
    "except IndexError as e:\n",
    "    print(e)"
   ]
  },
  {
   "cell_type": "markdown",
   "id": "d2da0502",
   "metadata": {},
   "source": [
    "Q5. Explain ImportError. What is ModuleNotFoundError?"
   ]
  },
  {
   "cell_type": "markdown",
   "id": "60723900",
   "metadata": {},
   "source": [
    "Ans:ImportError is a Python exception that is raised when a module or package could not be imported. It can be caused by a variety of reasons such as a syntax error in the module, missing dependencies, or incorrect permissions on the file system.\n",
    "\n",
    "ModuleNotFoundError is a subclass of ImportError that is raised when a module or package cannot be found during the import process. It was introduced in Python 3.6 to improve the error message that is displayed when an import fails due to a missing module. Prior to Python 3.6, a generic ImportError was raised for all import failures, which could make it difficult to determine the root cause of the error."
   ]
  },
  {
   "cell_type": "markdown",
   "id": "d48ab67b",
   "metadata": {},
   "source": [
    "Q6. List down some best practices for exception handling in python. "
   ]
  },
  {
   "cell_type": "code",
   "execution_count": 13,
   "id": "61dd3c6b",
   "metadata": {},
   "outputs": [
    {
     "name": "stdout",
     "output_type": "stream",
     "text": [
      "Something went wrong\n"
     ]
    }
   ],
   "source": [
    "class CustomException(Exception):\n",
    "    \n",
    "    pass\n",
    "\n",
    "try:\n",
    "    \n",
    "    raise CustomException('Something went wrong')\n",
    "    \n",
    "except CustomException as e:\n",
    "    \n",
    "    print(e)"
   ]
  },
  {
   "cell_type": "code",
   "execution_count": 14,
   "id": "57feabe7",
   "metadata": {},
   "outputs": [],
   "source": [
    "# always try to log your error\n",
    "\n",
    "import logging\n",
    "\n",
    "logging.basicConfig(filename = \"error.log\",level = logging.ERROR)\n",
    "\n",
    "try:\n",
    "    10/0\n",
    "    \n",
    "except ZeroDivisionError  as e:\n",
    "    logging.error(\"I am trying to handle a zerodivision error {}\".format(e))\n",
    "    "
   ]
  },
  {
   "cell_type": "code",
   "execution_count": 15,
   "id": "63580113",
   "metadata": {},
   "outputs": [],
   "source": [
    "#alwyas avoid to write a multiple exception handling \n",
    "try :\n",
    "    10/0\n",
    "except FileNotFoundError as e : \n",
    "    logging.error(\"i am handling file not found  {} \".format(e) )\n",
    "except AttributeError as e : \n",
    "    logging.error(\"i am handling Attribute erro  {} \".format(e) )\n",
    "except ZeroDivisionError as e :\n",
    "    logging.error(\"i am trying to handle a zerodivision error {} \".format(e) )"
   ]
  },
  {
   "cell_type": "code",
   "execution_count": 16,
   "id": "2f6c5e5a",
   "metadata": {},
   "outputs": [],
   "source": [
    "try :\n",
    "    with open(\"test.txt\" , 'w') as f :\n",
    "        f.write(\"this is my data to file \" )\n",
    "except FileNotFoundError as e : \n",
    "    logging.error(\"i am handling file not found  {} \".format(e) )\n",
    "finally :\n",
    "    f.close()"
   ]
  },
  {
   "cell_type": "code",
   "execution_count": 17,
   "id": "7b812923",
   "metadata": {},
   "outputs": [
    {
     "name": "stdout",
     "output_type": "stream",
     "text": [
      "I am trying to handle a zerodivision error division by zero\n"
     ]
    }
   ],
   "source": [
    "# print always a proper mesage\n",
    "\n",
    "try:\n",
    "    10/0\n",
    "    \n",
    "except ZeroDivisionError  as e:\n",
    "    print(\"I am trying to handle a zerodivision error\",e)"
   ]
  },
  {
   "cell_type": "code",
   "execution_count": null,
   "id": "5997fb3f",
   "metadata": {},
   "outputs": [],
   "source": []
  }
 ],
 "metadata": {
  "kernelspec": {
   "display_name": "Python 3 (ipykernel)",
   "language": "python",
   "name": "python3"
  },
  "language_info": {
   "codemirror_mode": {
    "name": "ipython",
    "version": 3
   },
   "file_extension": ".py",
   "mimetype": "text/x-python",
   "name": "python",
   "nbconvert_exporter": "python",
   "pygments_lexer": "ipython3",
   "version": "3.9.13"
  }
 },
 "nbformat": 4,
 "nbformat_minor": 5
}
