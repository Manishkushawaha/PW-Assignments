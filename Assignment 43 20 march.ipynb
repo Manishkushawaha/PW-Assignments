{
 "cells": [
  {
   "cell_type": "markdown",
   "id": "a608a051",
   "metadata": {},
   "source": [
    "### Q1. What is data encoding? How is it useful in data science?"
   ]
  },
  {
   "cell_type": "raw",
   "id": "71fbe7e8",
   "metadata": {},
   "source": [
    "Ans:Data encoding refers to the process of converting data from one format to another, often with the goal of representing it in a more suitable or efficient form for storage or transmission purposes. In the context of data science, data encoding plays a crucial role in preparing and manipulating data for analysis and machine learning tasks. Here are a few ways data encoding is useful in data science:\n",
    "\n",
    "1.Categorical Variable Encoding: In many datasets, variables can take on categorical values (e.g., colors, product categories, or customer segments). However, most machine learning algorithms operate on numerical data, making it necessary to encode categorical variables into numeric representations. Common encoding techniques include one-hot encoding, ordinal encoding, and label encoding.\n",
    "\n",
    "2.Text Encoding: Textual data is prevalent in various domains, such as natural language processing (NLP) or sentiment analysis. Encoding techniques like word embeddings (e.g., Word2Vec or GloVe) can convert text into dense numerical vectors, enabling algorithms to process and analyze textual information effectively.\n",
    "\n",
    "3.Feature Scaling: Data encoding can also involve scaling numeric features to a specific range or distribution. Techniques like min-max scaling or standardization (mean normalization) ensure that variables with different scales or units are on a comparable level, preventing bias towards certain features during analysis or modeling.\n",
    "\n",
    "4.Compression and Encoding: Data encoding can be used to compress data, reducing storage requirements or improving transmission efficiency. Techniques like run-length encoding, Huffman coding, or lossless compression algorithms (e.g., gzip) can effectively encode data in a more compact representation without losing any information.\n",
    "\n",
    "5.Image and Signal Encoding: In domains like computer vision or signal processing, data encoding techniques such as JPEG, PNG, or MP3 enable efficient representation, compression, and transmission of images, videos, or audio signals while maintaining acceptable quality levels."
   ]
  },
  {
   "cell_type": "markdown",
   "id": "7c3521b7",
   "metadata": {},
   "source": [
    "### Q2. What is nominal encoding? Provide an example of how you would use it in a real-world scenario."
   ]
  },
  {
   "cell_type": "raw",
   "id": "6a47ac03",
   "metadata": {},
   "source": [
    "Ans:Nominal encoding, also known as categorical encoding, is a technique used to convert categorical variables into numerical representations. It is employed when the categories have no inherent order or hierarchy among them. The main purpose of nominal encoding is to transform categorical data into a format that machine learning algorithms can effectively process.\n",
    "\n",
    "There are several methods for nominal encoding, including:\n",
    "\n",
    "1.One-Hot Encoding: This method creates binary columns for each unique category. Each column represents a category, and a value of 1 is assigned if the instance belongs to that category, while 0 is assigned if it does not. One-hot encoding is widely used and allows for easy interpretation of the encoded features.\n",
    "\n",
    "2.Label Encoding: Label encoding assigns a unique integer label to each category. Each category is represented by a different number, allowing the algorithm to differentiate between them. However, there is no inherent numerical relationship between the labels.\n",
    "\n",
    "3.Ordinal Encoding: Ordinal encoding assigns integers to categories based on a predefined order or ranking. This encoding is suitable when there is a meaningful order or hierarchy among the categories. For example, a variable like education level (e.g., high school, bachelor's degree, master's degree) can be encoded with numeric labels representing the increasing levels of education."
   ]
  },
  {
   "cell_type": "code",
   "execution_count": 2,
   "id": "7c20f90d",
   "metadata": {},
   "outputs": [
    {
     "name": "stdout",
     "output_type": "stream",
     "text": [
      "   City_London  City_New York  City_Paris  City_Tokyo\n",
      "0          0.0            1.0         0.0         0.0\n",
      "1          1.0            0.0         0.0         0.0\n",
      "2          0.0            0.0         1.0         0.0\n",
      "3          0.0            0.0         0.0         1.0\n"
     ]
    }
   ],
   "source": [
    "import pandas as pd\n",
    "from sklearn.preprocessing import OneHotEncoder\n",
    "\n",
    "data = {'City': ['New York', 'London', 'Paris', 'Tokyo']}\n",
    "df = pd.DataFrame(data)\n",
    "\n",
    "encoder = OneHotEncoder()\n",
    "encoded_data = encoder.fit_transform(df[['City']]).toarray()\n",
    "\n",
    "encoded_df = pd.DataFrame(encoded_data, columns=encoder.get_feature_names_out(['City']))\n",
    "\n",
    "print(encoded_df)\n"
   ]
  },
  {
   "cell_type": "markdown",
   "id": "cc91b6fb",
   "metadata": {},
   "source": [
    "### Q3. In what situations is nominal encoding preferred over one-hot encoding? Provide a practical example."
   ]
  },
  {
   "cell_type": "raw",
   "id": "9b14847c",
   "metadata": {},
   "source": [
    "Ans:Nominal encoding, also known as label encoding, is preferred over one-hot encoding in situations where the categorical variables have a meaningful ordinal relationship. One-hot encoding, on the other hand, is suitable when the categorical variables are independent of each other and do not possess any inherent order or hierarchy."
   ]
  },
  {
   "cell_type": "code",
   "execution_count": 3,
   "id": "d420cd48",
   "metadata": {},
   "outputs": [
    {
     "name": "stdout",
     "output_type": "stream",
     "text": [
      "   color_Blue  color_Green  color_Red\n",
      "0         0.0          0.0        1.0\n",
      "1         1.0          0.0        0.0\n",
      "2         0.0          1.0        0.0\n",
      "3         0.0          0.0        1.0\n",
      "4         1.0          0.0        0.0\n",
      "5         0.0          1.0        0.0\n"
     ]
    }
   ],
   "source": [
    "import pandas as pd\n",
    "from sklearn.preprocessing import OneHotEncoder\n",
    "\n",
    "df = pd.DataFrame({\"color\":[\"Red\",\"Blue\",\"Green\",\"Red\",\"Blue\",\"Green\"]})\n",
    "df\n",
    "\n",
    "encoder = OneHotEncoder()\n",
    "encoded_data = encoder.fit_transform(df[['color']]).toarray()\n",
    "\n",
    "encoded_df = pd.DataFrame(encoded_data, columns=encoder.get_feature_names_out(['color']))\n",
    "\n",
    "print(encoded_df)"
   ]
  },
  {
   "cell_type": "markdown",
   "id": "81a5fdc6",
   "metadata": {},
   "source": [
    "### Q4. Suppose you have a dataset containing categorical data with 5 unique values. Which encoding technique would you use to transform this data into a format suitable for machine learning algorithms? Explain why you made this choice."
   ]
  },
  {
   "cell_type": "raw",
   "id": "da233521",
   "metadata": {},
   "source": [
    "Ans:If you have a dataset with categorical data containing 5 unique values, the appropriate encoding technique to transform the data into a suitable format for machine learning algorithms would depend on the specific characteristics of the categorical variable.\n",
    "\n",
    "If the categorical variable represents unordered categories with no meaningful ordinal relationship, the preferred encoding technique would be one-hot encoding. One-hot encoding creates binary features, where each unique value of the categorical variable is transformed into a separate binary column. The column corresponding to the category takes the value 1, while all other columns take the value 0. This approach ensures that the machine learning algorithm treats each category independently, without assuming any ordinal relationship between the categories.\n",
    "\n",
    "On the other hand, if the categorical variable exhibits a meaningful ordinal relationship, nominal encoding (also known as label encoding) would be more appropriate. Nominal encoding assigns a numerical value to each unique category based on its order or hierarchy. In this case, since the categories have a meaningful ordering, using nominal encoding would preserve and utilize the ordinal information in the dataset."
   ]
  },
  {
   "cell_type": "code",
   "execution_count": 6,
   "id": "4b9828e4",
   "metadata": {},
   "outputs": [
    {
     "name": "stdout",
     "output_type": "stream",
     "text": [
      "  Category  Category_A  Category_B  Category_C  Category_D  Category_E\n",
      "0        A         1.0         0.0         0.0         0.0         0.0\n",
      "1        B         0.0         1.0         0.0         0.0         0.0\n",
      "2        C         0.0         0.0         1.0         0.0         0.0\n",
      "3        D         0.0         0.0         0.0         1.0         0.0\n",
      "4        E         0.0         0.0         0.0         0.0         1.0\n"
     ]
    }
   ],
   "source": [
    "import pandas as pd\n",
    "from sklearn.preprocessing import OneHotEncoder\n",
    "import warnings\n",
    "warnings.filterwarnings('ignore')\n",
    "data = {'Category': ['A', 'B', 'C', 'D', 'E']}\n",
    "df = pd.DataFrame(data)\n",
    "\n",
    "encoder = OneHotEncoder()\n",
    "encoded_data = encoder.fit_transform(df[['Category']]).toarray()\n",
    "\n",
    "df_encoded = pd.DataFrame(encoded_data, columns=encoder.get_feature_names(['Category']))\n",
    "\n",
    "df_final = pd.concat([df, df_encoded], axis=1)\n",
    "\n",
    "print(df_final)\n"
   ]
  },
  {
   "cell_type": "markdown",
   "id": "a026ad77",
   "metadata": {},
   "source": [
    "### Q5. In a machine learning project, you have a dataset with 1000 rows and 5 columns. Two of the columns are categorical, and the remaining three columns are numerical. If you were to use nominal encoding to transform the categorical data, how many new columns would be created? Show your calculations."
   ]
  },
  {
   "cell_type": "raw",
   "id": "bae4f85d",
   "metadata": {},
   "source": [
    "Ans:If you were to use nominal encoding to transform the categorical data in a dataset with 1000 rows and 5 columns, and two of the columns are categorical, the number of new columns created would depend on the number of unique categories in each categorical column.\n",
    "\n",
    "To calculate the number of new columns created, you would need to determine the number of unique categories in each categorical column. Let's say the first categorical column has m unique categories and the second categorical column has n unique categories. Then the total number of new columns created would be m + n.\n",
    "\n",
    "In this specific scenario, without knowing the actual number of unique categories in each categorical column, it is not possible to provide the exact calculation. However, you can calculate it by inspecting the dataset and determining the unique categories in each categorical column.\n",
    "\n",
    "Once you have identified the unique categories, you can apply nominal encoding using techniques such as scikit-learn's LabelEncoder or pandas' factorize function to obtain the transformed dataset with the corresponding number of new columns."
   ]
  },
  {
   "cell_type": "code",
   "execution_count": 20,
   "id": "2bab3fbf",
   "metadata": {},
   "outputs": [
    {
     "name": "stdout",
     "output_type": "stream",
     "text": [
      "Total new columns created: 6\n"
     ]
    }
   ],
   "source": [
    "import pandas as pd\n",
    "\n",
    "data = {\n",
    "    'cat_col1': ['A', 'B', 'A', 'C', 'B'],  \n",
    "    'cat_col2': ['X', 'Y', 'X', 'X', 'Z'],  \n",
    "    'num_col1': [10, 20, 30, 40, 50],       \n",
    "    'num_col2': [1.5, 2.5, 3.5, 4.5, 5.5],  \n",
    "    'num_col3': [100, 200, 300, 400, 500]   \n",
    "}\n",
    "\n",
    "df = pd.DataFrame(data)\n",
    "\n",
    "categorical_features = ['cat_col1', 'cat_col2']\n",
    "\n",
    "unique_categories = [len(df[feature].unique()) for feature in categorical_features]\n",
    "\n",
    "total_new_columns = sum(unique_categories)\n",
    "\n",
    "print(f\"Total new columns created: {total_new_columns}\")\n"
   ]
  },
  {
   "cell_type": "markdown",
   "id": "71eef181",
   "metadata": {},
   "source": [
    "### Q6. You are working with a dataset containing information about different types of animals, including their species, habitat, and diet. Which encoding technique would you use to transform the categorical data into a format suitable for machine learning algorithms? Justify your answer."
   ]
  },
  {
   "cell_type": "raw",
   "id": "f6b16c01",
   "metadata": {},
   "source": [
    "Ans:For the given scenario of working with a dataset containing information about different types of animals, including their species, habitat, and diet, the most appropriate encoding technique would be one-hot encoding.\n",
    "\n",
    "One-hot encoding is chosen because it can represent each unique category as a separate binary feature. It allows the machine learning algorithm to treat each category independently without assuming any ordinal relationship or numerical hierarchy between the categories.\n",
    "\n",
    "By transforming the categorical variables into binary columns using one-hot encoding, we ensure that the algorithm can capture and utilize the distinct characteristics of each category. It enables the algorithm to understand the presence or absence of specific species, habitats, and diets for each animal, thus preventing any biases or assumptions regarding the relationships among the categories."
   ]
  },
  {
   "cell_type": "code",
   "execution_count": 5,
   "id": "76c6b2aa",
   "metadata": {},
   "outputs": [
    {
     "name": "stdout",
     "output_type": "stream",
     "text": [
      "    Species    Habitat       Diet  Species_Elephant  Species_Giraffe  \\\n",
      "0      Lion   Savannah  Carnivore               0.0              0.0   \n",
      "1     Tiger     Jungle  Carnivore               0.0              0.0   \n",
      "2  Elephant  Grassland  Herbivore               1.0              0.0   \n",
      "3   Giraffe     Forest  Herbivore               0.0              1.0   \n",
      "\n",
      "   Species_Lion  Species_Tiger  Habitat_Forest  Habitat_Grassland  \\\n",
      "0           1.0            0.0             0.0                0.0   \n",
      "1           0.0            1.0             0.0                0.0   \n",
      "2           0.0            0.0             0.0                1.0   \n",
      "3           0.0            0.0             1.0                0.0   \n",
      "\n",
      "   Habitat_Jungle  Habitat_Savannah  Diet_Carnivore  Diet_Herbivore  \n",
      "0             0.0               1.0             1.0             0.0  \n",
      "1             1.0               0.0             1.0             0.0  \n",
      "2             0.0               0.0             0.0             1.0  \n",
      "3             0.0               0.0             0.0             1.0  \n"
     ]
    }
   ],
   "source": [
    "import pandas as pd\n",
    "from sklearn.preprocessing import OneHotEncoder\n",
    "import warnings\n",
    "warnings.filterwarnings('ignore')\n",
    "\n",
    "data = {\n",
    "    'Species': ['Lion', 'Tiger', 'Elephant', 'Giraffe'],\n",
    "    'Habitat': ['Savannah', 'Jungle', 'Grassland', 'Forest'],\n",
    "    'Diet': ['Carnivore', 'Carnivore', 'Herbivore', 'Herbivore']\n",
    "}\n",
    "\n",
    "df = pd.DataFrame(data)\n",
    "\n",
    "encoder = OneHotEncoder()\n",
    "encoded_data = encoder.fit_transform(df[['Species', 'Habitat', 'Diet']]).toarray()\n",
    "\n",
    "df_encoded = pd.DataFrame(encoded_data, columns=encoder.get_feature_names(['Species', 'Habitat', 'Diet']))\n",
    "\n",
    "df_final = pd.concat([df, df_encoded], axis=1)\n",
    "\n",
    "print(df_final)\n"
   ]
  },
  {
   "cell_type": "markdown",
   "id": "49dc629b",
   "metadata": {},
   "source": [
    "### Q7.You are working on a project that involves predicting customer churn for a telecommunications company. You have a dataset with 5 features, including the customer's gender, age, contract type, monthly charges, and tenure. Which encoding technique(s) would you use to transform the categorical data into numerical data? Provide a step-by-step explanation of how you would implement the encoding."
   ]
  },
  {
   "cell_type": "raw",
   "id": "d616a3cf",
   "metadata": {},
   "source": [
    "Ans:Import the necessary libraries:"
   ]
  },
  {
   "cell_type": "code",
   "execution_count": 11,
   "id": "e14528e1",
   "metadata": {},
   "outputs": [],
   "source": [
    "import pandas as pd\n",
    "from sklearn.preprocessing import LabelEncoder, OneHotEncoder\n",
    "import warnings\n",
    "warnings.filterwarnings('ignore')\n"
   ]
  },
  {
   "cell_type": "raw",
   "id": "c294f1a4",
   "metadata": {},
   "source": [
    "2.Create a DataFrame with the given dataset:"
   ]
  },
  {
   "cell_type": "code",
   "execution_count": 12,
   "id": "92bef716",
   "metadata": {},
   "outputs": [],
   "source": [
    "data = {\n",
    "    'gender': ['Male', 'Female', 'Male', 'Female', 'Male'],\n",
    "    'age': [35, 42, 28, 52, 46],\n",
    "    'contract_type': ['Month-to-month', 'One year', 'Month-to-month', 'Two year', 'Two year'],\n",
    "    'monthly_charges': [65.25, 85.50, 75.10, 92.30, 80.00],\n",
    "    'tenure': [12, 24, 4, 60, 36]\n",
    "}\n",
    "\n",
    "df = pd.DataFrame(data)\n"
   ]
  },
  {
   "cell_type": "raw",
   "id": "a15a771e",
   "metadata": {},
   "source": [
    "3.Identify the categorical features that require encoding:"
   ]
  },
  {
   "cell_type": "code",
   "execution_count": 13,
   "id": "b23095a7",
   "metadata": {},
   "outputs": [],
   "source": [
    "categorical_features = ['gender', 'contract_type']"
   ]
  },
  {
   "cell_type": "raw",
   "id": "d99d25d6",
   "metadata": {},
   "source": [
    "4.Apply label encoding to the categorical features using LabelEncoder:\n",
    "\n",
    "This loop iterates over each categorical feature, applies label encoding using LabelEncoder, and replaces the original values in the DataFrame with the encoded values."
   ]
  },
  {
   "cell_type": "code",
   "execution_count": 14,
   "id": "78b97411",
   "metadata": {},
   "outputs": [],
   "source": [
    "label_encoder = LabelEncoder()\n",
    "\n",
    "for feature in categorical_features:\n",
    "    df[feature] = label_encoder.fit_transform(df[feature])\n"
   ]
  },
  {
   "cell_type": "raw",
   "id": "fba806e4",
   "metadata": {},
   "source": [
    "5.Apply one-hot encoding to the remaining categorical features using OneHotEncoder:\n",
    "\n",
    "Here, a new OneHotEncoder is created with sparse=False to generate a dense array of encoded features. The fit_transform function is then used to encode the remaining categorical features and store the result in onehot_encoded."
   ]
  },
  {
   "cell_type": "code",
   "execution_count": 16,
   "id": "d02bd42c",
   "metadata": {},
   "outputs": [],
   "source": [
    "onehot_encoder = OneHotEncoder(sparse=False)\n",
    "\n",
    "remaining_categorical_features = ['gender', 'contract_type']\n",
    "\n",
    "onehot_encoded = onehot_encoder.fit_transform(df[remaining_categorical_features])\n"
   ]
  },
  {
   "cell_type": "raw",
   "id": "3c3b2db1",
   "metadata": {},
   "source": [
    "6.Create a DataFrame with the one-hot encoded features:"
   ]
  },
  {
   "cell_type": "code",
   "execution_count": 17,
   "id": "408dbad7",
   "metadata": {},
   "outputs": [],
   "source": [
    "onehot_encoded_df = pd.DataFrame(onehot_encoded, columns=onehot_encoder.get_feature_names(remaining_categorical_features))"
   ]
  },
  {
   "cell_type": "code",
   "execution_count": null,
   "id": "4340f7f1",
   "metadata": {},
   "outputs": [],
   "source": [
    "7.Concatenate the original DataFrame with the encoded DataFrame:"
   ]
  },
  {
   "cell_type": "code",
   "execution_count": 18,
   "id": "30f63f03",
   "metadata": {},
   "outputs": [
    {
     "name": "stdout",
     "output_type": "stream",
     "text": [
      "   age  monthly_charges  tenure  gender_0  gender_1  contract_type_0  \\\n",
      "0   35            65.25      12       0.0       1.0              1.0   \n",
      "1   42            85.50      24       1.0       0.0              0.0   \n",
      "2   28            75.10       4       0.0       1.0              1.0   \n",
      "3   52            92.30      60       1.0       0.0              0.0   \n",
      "4   46            80.00      36       0.0       1.0              0.0   \n",
      "\n",
      "   contract_type_1  contract_type_2  \n",
      "0              0.0              0.0  \n",
      "1              1.0              0.0  \n",
      "2              0.0              0.0  \n",
      "3              0.0              1.0  \n",
      "4              0.0              1.0  \n"
     ]
    }
   ],
   "source": [
    "df_encoded = pd.concat([df.drop(remaining_categorical_features, axis=1), onehot_encoded_df], axis=1)\n",
    "\n",
    "print(df_encoded)\n"
   ]
  },
  {
   "cell_type": "code",
   "execution_count": null,
   "id": "9a102c69",
   "metadata": {},
   "outputs": [],
   "source": []
  }
 ],
 "metadata": {
  "kernelspec": {
   "display_name": "Python 3 (ipykernel)",
   "language": "python",
   "name": "python3"
  },
  "language_info": {
   "codemirror_mode": {
    "name": "ipython",
    "version": 3
   },
   "file_extension": ".py",
   "mimetype": "text/x-python",
   "name": "python",
   "nbconvert_exporter": "python",
   "pygments_lexer": "ipython3",
   "version": "3.9.13"
  }
 },
 "nbformat": 4,
 "nbformat_minor": 5
}
