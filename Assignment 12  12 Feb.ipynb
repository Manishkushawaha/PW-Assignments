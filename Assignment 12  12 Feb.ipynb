{
 "cells": [
  {
   "cell_type": "markdown",
   "id": "6f1cbab0",
   "metadata": {},
   "source": [
    "Q1. What is an Exception in pthon? Write the difference between Exceptions and syntax errors."
   ]
  },
  {
   "cell_type": "markdown",
   "id": "0ea00706",
   "metadata": {},
   "source": [
    "Ans: An exception in Python is an error that occurs during the execution of a Python program. Here are the main differences between exceptions and syntax errors in Python:\n",
    "\n",
    "Exceptions:\n",
    "\n",
    "Occur during program execution\n",
    "Caused by a wide range of reasons, such as invalid input or out of memory errors\n",
    "Can be caught and handled by the program\n",
    "Examples include ValueError, TypeError, and IOError\n",
    "\n",
    "Syntax Errors:\n",
    "\n",
    "Occur during the parsing stage of the program\n",
    "Caused by mistakes in the code such as incorrect indentation or missing parentheses\n",
    "Detected before the program is executed and will prevent the program from running\n",
    "Examples include IndentationError, SyntaxError, and NameError"
   ]
  },
  {
   "cell_type": "markdown",
   "id": "313a3479",
   "metadata": {},
   "source": [
    "Q2. What happens when an exception is not handled? Explain whit an example."
   ]
  },
  {
   "cell_type": "markdown",
   "id": "e87520b5",
   "metadata": {},
   "source": [
    "Ans:When an exception is not handled, the program will terminate abruptly and the error message will be displayed on the screen. This can result in unexpected behavior, data loss, or even system crashes."
   ]
  },
  {
   "cell_type": "code",
   "execution_count": 1,
   "id": "14b53461",
   "metadata": {},
   "outputs": [
    {
     "name": "stdout",
     "output_type": "stream",
     "text": [
      "Error: File not found\n"
     ]
    }
   ],
   "source": [
    "try:\n",
    "    f = open(\"myfile.txt\", \"r\")\n",
    "except:\n",
    "    print(\"Error: File not found\")\n"
   ]
  },
  {
   "cell_type": "markdown",
   "id": "630bbb25",
   "metadata": {},
   "source": [
    "Q3.Which python statements are used to catch and handle exceptions? Explain with an example."
   ]
  },
  {
   "cell_type": "markdown",
   "id": "4e7e16f9",
   "metadata": {},
   "source": [
    "Ans:In Python, the try and except statements are used to catch and handle exceptions. The try block contains the code that may raise an exception, while the except block contains the code that handles the exception."
   ]
  },
  {
   "cell_type": "code",
   "execution_count": 6,
   "id": "43c7dfee",
   "metadata": {},
   "outputs": [
    {
     "name": "stdout",
     "output_type": "stream",
     "text": [
      "Enter a number:a\n",
      "Invalid input. Please enter a valid integer. invalid literal for int() with base 10: 'a'\n"
     ]
    }
   ],
   "source": [
    "try:\n",
    "    x = int(input(\"Enter a number:\"))\n",
    "    y = 10/x\n",
    "    \n",
    "except ValueError as e:\n",
    "    print(\"Invalid input. Please enter a valid integer.\",e)\n",
    "    \n",
    "except ZeroDivisionError as e:\n",
    "    print(\"Cannot divide by zero.\",e)"
   ]
  },
  {
   "cell_type": "markdown",
   "id": "bd04a83c",
   "metadata": {},
   "source": [
    "Q4. Explain with an example:\n",
    "try \n",
    "finally\n",
    "raise "
   ]
  },
  {
   "cell_type": "markdown",
   "id": "7ea51c21",
   "metadata": {},
   "source": [
    "Ans:In Python, the try, finally, and raise statements are used to catch and handle exceptions and perform cleanup operations regardless of whether an exception is raised or not."
   ]
  },
  {
   "cell_type": "code",
   "execution_count": 12,
   "id": "6e497488",
   "metadata": {},
   "outputs": [
    {
     "name": "stdout",
     "output_type": "stream",
     "text": [
      "Performing cleanup operations.\n",
      "5.0\n",
      "Performing cleanup operations.\n",
      "3.3333333333333335\n"
     ]
    }
   ],
   "source": [
    "def divide(x, y):\n",
    "    try:\n",
    "        result = x / y\n",
    "    finally:\n",
    "        print(\"Performing cleanup operations.\")\n",
    "        \n",
    "    if y == 0:\n",
    "        raise ZeroDivisionError(\"Cannot divide by zero.\")\n",
    "    return result\n",
    "\n",
    "print(divide(10, 2))\n",
    "print(divide(10, 3))\n"
   ]
  },
  {
   "cell_type": "markdown",
   "id": "1b8badef",
   "metadata": {},
   "source": [
    "Q5.What are custom exceptions in python? Why do we need custom Exception? Explain whit an example."
   ]
  },
  {
   "cell_type": "markdown",
   "id": "5b5990c7",
   "metadata": {},
   "source": [
    "Ans:In Python, custom exceptions are user-defined exceptions that can be raised like any other built-in exceptions. They are used to signal specific errors or situations that are not covered by the built-in exceptions.\n",
    "\n",
    "Custom exceptions are useful because they provide a way to handle errors that are specific to your program or application. They allow you to provide more meaningful error messages and can make your code easier to understand and maintain."
   ]
  },
  {
   "cell_type": "code",
   "execution_count": 13,
   "id": "df1e73b8",
   "metadata": {},
   "outputs": [
    {
     "name": "stdout",
     "output_type": "stream",
     "text": [
      "Enter the age87\n",
      "Enter the age98\n",
      "age is valid\n"
     ]
    }
   ],
   "source": [
    "class validateage(Exception):\n",
    "    def __init__(self,msg):\n",
    "        self.msg = msg\n",
    "        \n",
    "        \n",
    "def validateage(age):\n",
    "    \n",
    "    if age < 0:\n",
    "        raise validateage(\"Enter age is negative\")\n",
    "        \n",
    "    elif age > 200:\n",
    "        raise validateage(\"Enter age is very very high\")\n",
    "        \n",
    "    else:\n",
    "        print(\"age is valid\")\n",
    "        \n",
    "        \n",
    "try:\n",
    "    age = int(input(\"Enter the age\"))    \n",
    "    validateage(age)\n",
    "    \n",
    "except validateage as e:\n",
    "    print(e)"
   ]
  },
  {
   "cell_type": "markdown",
   "id": "28fc51bf",
   "metadata": {},
   "source": [
    "Q6. Create a Custom exception class.Use this class to handle an exception "
   ]
  },
  {
   "cell_type": "code",
   "execution_count": 14,
   "id": "d6099a5d",
   "metadata": {},
   "outputs": [
    {
     "name": "stdout",
     "output_type": "stream",
     "text": [
      "You do not have enough funds to withdraw $1500.\n"
     ]
    }
   ],
   "source": [
    "class InsufficientFundsError(Exception):\n",
    "    \"\"\"Raised when there are insufficient funds to complete a transaction\"\"\"\n",
    "    pass\n",
    "\n",
    "class BankAccount:\n",
    "    def __init__(self, balance):\n",
    "        self.balance = balance\n",
    "        \n",
    "    def withdraw(self, amount):\n",
    "        if amount > self.balance:\n",
    "            raise InsufficientFundsError(\"You do not have enough funds to withdraw ${}.\".format(amount))\n",
    "        self.balance -= amount\n",
    "        print(\"Withdrawal of ${} successful. New balance is ${}.\".format(amount, self.balance))\n",
    "\n",
    "\n",
    "account = BankAccount(1000)\n",
    "try:\n",
    "    account.withdraw(1500)\n",
    "except InsufficientFundsError as e:\n",
    "    print(e)\n"
   ]
  },
  {
   "cell_type": "code",
   "execution_count": null,
   "id": "2bf0433b",
   "metadata": {},
   "outputs": [],
   "source": []
  }
 ],
 "metadata": {
  "kernelspec": {
   "display_name": "Python 3 (ipykernel)",
   "language": "python",
   "name": "python3"
  },
  "language_info": {
   "codemirror_mode": {
    "name": "ipython",
    "version": 3
   },
   "file_extension": ".py",
   "mimetype": "text/x-python",
   "name": "python",
   "nbconvert_exporter": "python",
   "pygments_lexer": "ipython3",
   "version": "3.9.13"
  }
 },
 "nbformat": 4,
 "nbformat_minor": 5
}
