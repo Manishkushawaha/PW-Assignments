{
 "cells": [
  {
   "cell_type": "raw",
   "id": "ce736237",
   "metadata": {},
   "source": [
    "Q1. What is Abstraction in OOps? Explain with an example."
   ]
  },
  {
   "cell_type": "markdown",
   "id": "69c92b84",
   "metadata": {},
   "source": [
    "Ans: Abstraction in object-oriented programming is the process of identifying the essential features of an object and ignoring the irrelevant details. In other words, abstraction is a technique of hiding the complexity of a system and only showing the necessary information to the user.\n",
    "\n",
    "An example of abstraction is a car. A driver does not need to know the internal workings of the car such as the engine, transmission, and fuel system. Instead, the driver interacts with the car using a simple interface like the steering wheel, accelerator pedal, and brake pedal. The driver does not need to know the internal details of how these components work, they only need to know how to use them to drive the car."
   ]
  },
  {
   "cell_type": "code",
   "execution_count": 4,
   "id": "8d0a5262",
   "metadata": {},
   "outputs": [
    {
     "name": "stdout",
     "output_type": "stream",
     "text": [
      "Car started\n",
      "Car stopped\n"
     ]
    }
   ],
   "source": [
    "from abc import ABC, abstractmethod\n",
    "\n",
    "class Vehicle(ABC):\n",
    "    @abstractmethod\n",
    "    def start(self):\n",
    "        pass\n",
    "\n",
    "    @abstractmethod\n",
    "    def stop(self):\n",
    "        pass\n",
    "\n",
    "class Car(Vehicle):\n",
    "    def start(self):\n",
    "        print(\"Car started\")\n",
    "\n",
    "    def stop(self):\n",
    "        print(\"Car stopped\")\n",
    "\n",
    "car = Car()\n",
    "car.start()\n",
    "car.stop()\n"
   ]
  },
  {
   "cell_type": "raw",
   "id": "56b8298e",
   "metadata": {},
   "source": [
    "Q2. Differentiate between Abstraction and Encapsulation. Explain with an example."
   ]
  },
  {
   "cell_type": "raw",
   "id": "73cce7f7",
   "metadata": {},
   "source": [
    "Ans. Abstraction is hiding the details and implementation of the code. Encapsulation is hiding the data and controlling the visibility of the code.\n",
    "Let's illustrate the difference between abstraction and encapsulation with an example:"
   ]
  },
  {
   "cell_type": "code",
   "execution_count": 12,
   "id": "45725561",
   "metadata": {},
   "outputs": [
    {
     "name": "stdout",
     "output_type": "stream",
     "text": [
      "Manish Kumar\n",
      "50000\n",
      "60000\n",
      "60000\n"
     ]
    }
   ],
   "source": [
    "class Employee:\n",
    "    def __init__(self,name,salary):\n",
    "        self.name = name\n",
    "        self.__salary = salary\n",
    "        \n",
    "    def get_name(self):\n",
    "        return self.name\n",
    "    \n",
    "    def get_salary(self):\n",
    "        return self.__salary\n",
    "        \n",
    "    def set_salary(self,salary):\n",
    "        if salary > 0:\n",
    "            self.__salary = salary\n",
    "\n",
    "employee =Employee(\"Manish Kumar\",50000)\n",
    "print(employee.get_name())     \n",
    "print(employee.get_salary()) \n",
    "\n",
    "employee.set_salary(60000)\n",
    "print(employee.get_salary())\n",
    "\n",
    "employee.__salary = -10000\n",
    "print(employee.get_salary())"
   ]
  },
  {
   "cell_type": "code",
   "execution_count": 14,
   "id": "96f31f4a",
   "metadata": {},
   "outputs": [
    {
     "name": "stdout",
     "output_type": "stream",
     "text": [
      "50\n"
     ]
    }
   ],
   "source": [
    "# Now, let's illustrate abstraction with the following example\n",
    "\n",
    "from abc import ABC, abstractmethod\n",
    "\n",
    "class shape(ABC):\n",
    "    @abstractmethod\n",
    "    def area(self):\n",
    "        pass\n",
    "    \n",
    "class rectangle(shape):\n",
    "    def __init__(self, length, width):\n",
    "        self.length = length\n",
    "        self.width = width\n",
    "\n",
    "    def area(self):\n",
    "        return self.length * self.width\n",
    "\n",
    "rectangle = rectangle(5, 10)\n",
    "print(rectangle.area()) "
   ]
  },
  {
   "cell_type": "raw",
   "id": "70d1b496",
   "metadata": {},
   "source": [
    "Q3. What is abc module in python? Why is it used?"
   ]
  },
  {
   "cell_type": "raw",
   "id": "46686443",
   "metadata": {},
   "source": [
    "Ans: The abc module in Python stands for \"Abstract Base Classes\". It provides a way to define abstract classes, which are classes that cannot be instantiated directly, but instead are meant to serve as a base for other classes that implement their methods.\n",
    "\n",
    "The abc module is used to implement the concept of abstract classes in Python. Abstract classes are important in object-oriented programming because they allow you to define a blueprint for a class without having to implement every method. Instead, the abstract class defines a set of methods that must be implemented by any subclass.\n",
    "\n",
    "The abc module provides a set of tools for defining and working with abstract classes. These tools include:\n",
    "\n",
    "ABCMeta: A metaclass that allows you to define abstract classes. It ensures that any class that inherits from an abstract class must implement all of its abstract methods.\n",
    "\n",
    "abstractmethod: A decorator that marks a method as abstract. It ensures that any subclass that inherits from the abstract class must implement the abstract method.\n",
    "\n"
   ]
  },
  {
   "cell_type": "code",
   "execution_count": 15,
   "id": "8f995b35",
   "metadata": {},
   "outputs": [
    {
     "name": "stdout",
     "output_type": "stream",
     "text": [
      "50\n"
     ]
    }
   ],
   "source": [
    "from abc import ABC, abstractmethod\n",
    "\n",
    "class Shape(ABC):\n",
    "    @abstractmethod\n",
    "    def area(self):\n",
    "        pass\n",
    "\n",
    "class Rectangle(Shape):\n",
    "    def __init__(self, length, width):\n",
    "        self.length = length\n",
    "        self.width = width\n",
    "\n",
    "    def area(self):\n",
    "        return self.length * self.width\n",
    "\n",
    "rectangle = Rectangle(5, 10)\n",
    "print(rectangle.area()) "
   ]
  },
  {
   "cell_type": "raw",
   "id": "d151cd7a",
   "metadata": {},
   "source": [
    "Q4. How can we achieve data abstraction?"
   ]
  },
  {
   "cell_type": "raw",
   "id": "7d5f4773",
   "metadata": {},
   "source": [
    "Ans: In object-oriented programming, data abstraction can be achieved by defining abstract classes and interfaces. Abstract classes are classes that cannot be instantiated directly and can only be used as a base class for other classes. They define a set of abstract methods that must be implemented by any concrete subclass. Interfaces, on the other hand, are a collection of abstract methods that must be implemented by any class that implements the interface.\n",
    "\n",
    "By defining abstract classes and interfaces, we can hide the implementation details of a class from its users and provide a simplified interface for accessing the data and functionality of the class. This allows us to create a separation of concerns between the implementation details and the interface, which can make the code easier to understand, maintain, and extend.\n",
    "\n"
   ]
  },
  {
   "cell_type": "raw",
   "id": "db30b2f6",
   "metadata": {},
   "source": [
    "Q5. Can we create an instance of an abstract class? Explain your answer"
   ]
  },
  {
   "cell_type": "raw",
   "id": "f2942700",
   "metadata": {},
   "source": [
    "Ans:No, we cannot create an instance of an abstract class in Python. An abstract class is a class that cannot be instantiated directly and can only be used as a base class for other classes. It is meant to be subclassed by other classes that implement its abstract methods.\n",
    "\n",
    "The reason we cannot create an instance of an abstract class is that an abstract class is an incomplete class that is missing implementations for one or more of its methods. When we try to instantiate an abstract class, Python raises a TypeError with the message \"Can't instantiate abstract class\"."
   ]
  },
  {
   "cell_type": "code",
   "execution_count": 16,
   "id": "1b0bf4d9",
   "metadata": {},
   "outputs": [
    {
     "ename": "TypeError",
     "evalue": "Can't instantiate abstract class Animal with abstract method make_sound",
     "output_type": "error",
     "traceback": [
      "\u001b[1;31m---------------------------------------------------------------------------\u001b[0m",
      "\u001b[1;31mTypeError\u001b[0m                                 Traceback (most recent call last)",
      "\u001b[1;32m~\\AppData\\Local\\Temp\\ipykernel_7484\\2571584561.py\u001b[0m in \u001b[0;36m<module>\u001b[1;34m\u001b[0m\n\u001b[0;32m      6\u001b[0m         \u001b[1;32mpass\u001b[0m\u001b[1;33m\u001b[0m\u001b[1;33m\u001b[0m\u001b[0m\n\u001b[0;32m      7\u001b[0m \u001b[1;33m\u001b[0m\u001b[0m\n\u001b[1;32m----> 8\u001b[1;33m \u001b[0manimal\u001b[0m \u001b[1;33m=\u001b[0m \u001b[0mAnimal\u001b[0m\u001b[1;33m(\u001b[0m\u001b[1;33m)\u001b[0m\u001b[1;33m\u001b[0m\u001b[1;33m\u001b[0m\u001b[0m\n\u001b[0m",
      "\u001b[1;31mTypeError\u001b[0m: Can't instantiate abstract class Animal with abstract method make_sound"
     ]
    }
   ],
   "source": [
    "from abc import ABC, abstractmethod\n",
    "\n",
    "class Animal(ABC):\n",
    "    @abstractmethod\n",
    "    def make_sound(self):\n",
    "        pass\n",
    "\n",
    "animal = Animal() "
   ]
  },
  {
   "cell_type": "code",
   "execution_count": null,
   "id": "495acb35",
   "metadata": {},
   "outputs": [],
   "source": []
  }
 ],
 "metadata": {
  "kernelspec": {
   "display_name": "Python 3 (ipykernel)",
   "language": "python",
   "name": "python3"
  },
  "language_info": {
   "codemirror_mode": {
    "name": "ipython",
    "version": 3
   },
   "file_extension": ".py",
   "mimetype": "text/x-python",
   "name": "python",
   "nbconvert_exporter": "python",
   "pygments_lexer": "ipython3",
   "version": "3.9.13"
  }
 },
 "nbformat": 4,
 "nbformat_minor": 5
}
