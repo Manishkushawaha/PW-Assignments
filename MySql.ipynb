{
 "cells": [
  {
   "cell_type": "markdown",
   "id": "ba7435e5",
   "metadata": {},
   "source": [
    "### Q1. What is a database? Differentiate between SQL and NoSQL databases.\n",
    "\n",
    "Ans:**Database:** A database is a structured collection of data that is organized and stored for easy access, retrieval, and management. It typically consists of tables, each containing rows and columns of data.\n",
    "\n",
    "**SQL (Structured Query Language) Databases:** SQL databases are relational databases that use a structured query language (SQL) for defining, manipulating, and controlling data. Examples include MySQL, PostgreSQL, SQLite, and Oracle. They use a predefined schema and are good for applications requiring complex queries and transactions.\n",
    "\n",
    "**NoSQL Databases:** NoSQL databases are non-relational databases that provide a mechanism for storage and retrieval of data modeled in means other than the tabular relations used in relational databases. Examples include MongoDB, Cassandra, Redis, and Couchbase. NoSQL databases are schema-less or have a flexible schema, making them suitable for handling large volumes of unstructured data and scalable applications.\n",
    "\n",
    "### Q2. What is DDL? Explain why CREATE, DROP, ALTER, and TRUNCATE are used with an example.\n",
    "\n",
    "Ans:DDL (Data Definition Language): DDL is a subset of SQL used to define and modify the structure of database objects such as tables, indexes, and schemas.\n",
    "\n",
    "**Examples:**\n",
    "\n",
    "**CREATE:** Used to create new database objects. Example: CREATE TABLE Students (id INT, name VARCHAR(50));\n",
    "\n",
    "**DROP:** Used to delete existing database objects. Example: DROP TABLE Students;\n",
    "\n",
    "**ALTER:** Used to modify the structure of existing database objects. Example: ALTER TABLE Students ADD COLUMN age INT;\n",
    "\n",
    "**TRUNCATE:** Used to delete all rows from a table without removing the table structure. Example: TRUNCATE TABLE Students;\n",
    "\n",
    "### Q3. What is DML? Explain INSERT, UPDATE, and DELETE with an example.\n",
    "\n",
    "Ans:DML (Data Manipulation Language): DML is a subset of SQL used to manage data within database objects.\n",
    "\n",
    "Examples:\n",
    "\n",
    "**INSERT:** Used to insert new rows of data into a table. \n",
    "Example: INSERT INTO Students (id, name, age) VALUES (1, 'John', 20);\n",
    "\n",
    "**UPDATE:** Used to modify existing data in a table. Example: UPDATE Students SET age = 21 WHERE id = 1;\n",
    "\n",
    "**DELETE:** Used to delete existing rows from a table. Example: DELETE FROM Students WHERE id = 1;\n",
    "\n",
    "### Q4. What is DQL? Explain SELECT with an example.\n",
    "\n",
    "Ans: DQL (Data Query Language): DQL is a subset of SQL used to retrieve data from the database.\n",
    "\n",
    "**Example:**\n",
    "\n",
    "**SELECT:** Used to retrieve data from one or more tables. \n",
    "\n",
    "Example: SELECT * FROM Students WHERE age > 18;\n",
    "\n",
    "### Q5. Explain Primary Key and Foreign Key.\n",
    "\n",
    "Ans: **Primary Key:** A primary key is a unique identifier for each row in a table. It ensures that each record in a table is uniquely identifiable. Example: id column in a Students table.\n",
    "\n",
    "**Foreign Key:** A foreign key is a column or a set of columns in one table that refers to the primary key in another table. It establishes a relationship between the two tables. Example: student_id column in a Grades table referencing the id column in the Students table."
   ]
  },
  {
   "cell_type": "markdown",
   "id": "76d5a61b",
   "metadata": {},
   "source": [
    "### Q7. Give the order of execution of SQL clauses in an SQL query."
   ]
  },
  {
   "cell_type": "markdown",
   "id": "5b8e90c9",
   "metadata": {},
   "source": [
    "Ans: The general order of execution of SQL clauses in an SQL query is as follows:\n",
    "\n",
    "**FROM:** Specifies the tables from which data will be retrieved.\n",
    "\n",
    "**WHERE:** Filters the rows based on specified conditions.\n",
    "\n",
    "**GROUP BY:** Groups the rows that have the same values into summary rows.\n",
    "\n",
    "**HAVING:** Filters the groups based on specified conditions.\n",
    "\n",
    "**SELECT:** Retrieves the desired columns or expressions.\n",
    "\n",
    "**ORDER BY:** Sorts the result set based on specified columns or expressions.\n",
    "\n",
    "**LIMIT/OFFSET:** Limits the number of rows returned by the query"
   ]
  },
  {
   "cell_type": "code",
   "execution_count": null,
   "id": "7dbc2d03",
   "metadata": {},
   "outputs": [],
   "source": []
  }
 ],
 "metadata": {
  "kernelspec": {
   "display_name": "Python 3 (ipykernel)",
   "language": "python",
   "name": "python3"
  },
  "language_info": {
   "codemirror_mode": {
    "name": "ipython",
    "version": 3
   },
   "file_extension": ".py",
   "mimetype": "text/x-python",
   "name": "python",
   "nbconvert_exporter": "python",
   "pygments_lexer": "ipython3",
   "version": "3.9.13"
  }
 },
 "nbformat": 4,
 "nbformat_minor": 5
}
