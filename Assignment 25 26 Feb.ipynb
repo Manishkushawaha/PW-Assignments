{
 "cells": [
  {
   "cell_type": "raw",
   "id": "96a8510e",
   "metadata": {},
   "source": [
    "Consider the below code to answer further questions:"
   ]
  },
  {
   "cell_type": "code",
   "execution_count": 2,
   "id": "90de23b9",
   "metadata": {},
   "outputs": [],
   "source": [
    "import numpy as np\n",
    "list_ = [ 1 , 2 , 3 , 4 , 5 ]\n",
    "array_list = np.array(object = list_)"
   ]
  },
  {
   "cell_type": "raw",
   "id": "78c2348a",
   "metadata": {},
   "source": [
    "Q1. Is there any difference in the data type of variables list_ and array_list? If there is then write a code to print the data types of both the variables."
   ]
  },
  {
   "cell_type": "raw",
   "id": "1c05b3a5",
   "metadata": {},
   "source": [
    "Ans: In Python, there are two primary data types that can be used to store a collection of values: lists and arrays. Lists are a built-in data type in Python, while arrays need to be imported from the NumPy module."
   ]
  },
  {
   "cell_type": "code",
   "execution_count": 3,
   "id": "2dcd7aa8",
   "metadata": {},
   "outputs": [
    {
     "name": "stdout",
     "output_type": "stream",
     "text": [
      "<class 'list'>\n",
      "[1 2 3 4 5]\n"
     ]
    }
   ],
   "source": [
    "list_ = [ 1 , 2 , 3 , 4 , 5 ]\n",
    "\n",
    "array_list = np.array(object = list_)\n",
    "\n",
    "print(type(list_))\n",
    "print(array_list)"
   ]
  },
  {
   "cell_type": "raw",
   "id": "8416fe51",
   "metadata": {},
   "source": [
    "Q2. Write a code to print the data type of each and every element of both the variables list_ andarra_list."
   ]
  },
  {
   "cell_type": "code",
   "execution_count": 4,
   "id": "78313b2b",
   "metadata": {},
   "outputs": [
    {
     "name": "stdout",
     "output_type": "stream",
     "text": [
      "The data type of element 0 in list_ is <class 'int'>\n",
      "The data type of element 1 in list_ is <class 'int'>\n",
      "The data type of element 2 in list_ is <class 'int'>\n",
      "The data type of element 3 in list_ is <class 'int'>\n",
      "The data type of element 4 in list_ is <class 'int'>\n",
      "The data type of element 0 in list_ is <class 'numpy.int32'>\n",
      "The data type of element 1 in list_ is <class 'numpy.int32'>\n",
      "The data type of element 2 in list_ is <class 'numpy.int32'>\n",
      "The data type of element 3 in list_ is <class 'numpy.int32'>\n",
      "The data type of element 4 in list_ is <class 'numpy.int32'>\n"
     ]
    }
   ],
   "source": [
    "list_ = [ 1 , 2 , 3 , 4 , 5 ]\n",
    "\n",
    "array_list = np.array(object = list_)\n",
    "\n",
    "for i in range(len(list_)):\n",
    "    \n",
    "    print(f\"The data type of element {i} in list_ is {type(list_[i])}\")\n",
    "    \n",
    "for i in range(len(array_list)):\n",
    "    \n",
    "    print(f\"The data type of element {i} in list_ is {type(array_list[i])}\")\n",
    "    "
   ]
  },
  {
   "cell_type": "raw",
   "id": "02873202",
   "metadata": {},
   "source": [
    "Q3. Considering the following changes in the variable, array_list:\n",
    "    \n",
    "array_list = np.array(object = list_, dtype = int)\n",
    "\n",
    "Will there be any difference in the data type of the elements present in both the variables, list_ and arra_list? If so then print the data types of each and every element present in both the variables, list_\n",
    "and arra_list.\n",
    "\n",
    "Consider the below code to answer further questions:\n",
    "\n",
    "import numpy as np\n",
    "num_list = [ [ 1 , 2 , 3 ] , [ 4 , 5 , 6 ] ]\n",
    "num_array = np.array(object = num_list)"
   ]
  },
  {
   "cell_type": "code",
   "execution_count": 8,
   "id": "a80376a0",
   "metadata": {},
   "outputs": [
    {
     "name": "stdout",
     "output_type": "stream",
     "text": [
      "The data type of element 0 in list_ is <class 'int'>\n",
      "The data type of element 1 in list_ is <class 'int'>\n",
      "The data type of element 2 in list_ is <class 'int'>\n",
      "The data type of element 3 in list_ is <class 'int'>\n",
      "The data type of element 4 in list_ is <class 'int'>\n",
      "The data type of element 0 in array_list is <class 'numpy.int32'>\n",
      "The data type of element 1 in array_list is <class 'numpy.int32'>\n",
      "The data type of element 2 in array_list is <class 'numpy.int32'>\n",
      "The data type of element 3 in array_list is <class 'numpy.int32'>\n",
      "The data type of element 4 in array_list is <class 'numpy.int32'>\n"
     ]
    }
   ],
   "source": [
    "import numpy as np\n",
    "\n",
    "list_ = [1, 2, 3, 4, 5]\n",
    "array_list = np.array(object=list_, dtype=int)\n",
    "\n",
    "for i in range(len(list_)):\n",
    "    print(f\"The data type of element {i} in list_ is {type(list_[i])}\")\n",
    "\n",
    "for i in range(len(array_list)):\n",
    "    print(f\"The data type of element {i} in array_list is {type(array_list[i])}\")"
   ]
  },
  {
   "cell_type": "code",
   "execution_count": 7,
   "id": "227ca8ba",
   "metadata": {},
   "outputs": [
    {
     "name": "stdout",
     "output_type": "stream",
     "text": [
      "The data type of element (0, 0) in num_list is <class 'int'>\n",
      "The data type of element (0, 1) in num_list is <class 'int'>\n",
      "The data type of element (0, 2) in num_list is <class 'int'>\n",
      "The data type of element (1, 0) in num_list is <class 'int'>\n",
      "The data type of element (1, 1) in num_list is <class 'int'>\n",
      "The data type of element (1, 2) in num_list is <class 'int'>\n",
      "The data type of element (0, 0) in num_array is <class 'numpy.int32'>\n",
      "The data type of element (0, 1) in num_array is <class 'numpy.int32'>\n",
      "The data type of element (0, 2) in num_array is <class 'numpy.int32'>\n",
      "The data type of element (1, 0) in num_array is <class 'numpy.int32'>\n",
      "The data type of element (1, 1) in num_array is <class 'numpy.int32'>\n",
      "The data type of element (1, 2) in num_array is <class 'numpy.int32'>\n"
     ]
    }
   ],
   "source": [
    "num_list = [ [ 1 , 2 , 3 ] , [ 4 , 5 , 6 ] ]\n",
    "\n",
    "num_array = np.array(object = num_list)\n",
    "\n",
    "for i in range(len(num_list)):\n",
    "    \n",
    "    for j in range(len(num_list[i])):\n",
    "        \n",
    "        print(f\"The data type of element ({i}, {j}) in num_list is {type(num_list[i][j])}\")\n",
    "        \n",
    "        \n",
    "for i in range(num_array.shape[0]):\n",
    "    \n",
    "    for j in range(num_array.shape[1]):\n",
    "        \n",
    "        print(f\"The data type of element ({i}, {j}) in num_array is {type(num_array[i][j])}\")"
   ]
  },
  {
   "cell_type": "raw",
   "id": "951e2c4d",
   "metadata": {},
   "source": [
    "Q4. Write a code to find the following characteristics of variable, num_array:\n",
    "(i) shape\n",
    "(ii) size"
   ]
  },
  {
   "cell_type": "code",
   "execution_count": 9,
   "id": "8f7a6144",
   "metadata": {},
   "outputs": [
    {
     "name": "stdout",
     "output_type": "stream",
     "text": [
      "The shape of num_array is (2, 3)\n",
      "The size of num_array is 6\n"
     ]
    }
   ],
   "source": [
    "import numpy as np\n",
    "\n",
    "num_list = [[1, 2, 3], [4, 5, 6]]\n",
    "num_array = np.array(num_list)\n",
    "\n",
    "\n",
    "print(f\"The shape of num_array is {num_array.shape}\")\n",
    "\n",
    "\n",
    "print(f\"The size of num_array is {num_array.size}\")"
   ]
  },
  {
   "cell_type": "raw",
   "id": "ca3cb531",
   "metadata": {},
   "source": [
    "Q5. Write a code to create numpy array of 3*3 matrix containing zeros only, using a numpy array creation function.\n",
    "\n",
    "[Hint: The size of the array will be 9 and the shape will be (3,3).]"
   ]
  },
  {
   "cell_type": "code",
   "execution_count": 10,
   "id": "4af700fd",
   "metadata": {},
   "outputs": [
    {
     "name": "stdout",
     "output_type": "stream",
     "text": [
      "[[0. 0. 0.]\n",
      " [0. 0. 0.]\n",
      " [0. 0. 0.]]\n"
     ]
    }
   ],
   "source": [
    "import numpy as np\n",
    "\n",
    "zeros_array = np.zeros((3, 3))\n",
    "\n",
    "print(zeros_array)"
   ]
  },
  {
   "cell_type": "raw",
   "id": "60f6e96d",
   "metadata": {},
   "source": [
    "Q6. Create an identity matrix of shape (5,5) using numpy functions?\n",
    "\n",
    "[Hint: An identity matrix is a matrix containing 1 diagonally and other elements will be 0.]"
   ]
  },
  {
   "cell_type": "code",
   "execution_count": 11,
   "id": "7588e58c",
   "metadata": {},
   "outputs": [
    {
     "name": "stdout",
     "output_type": "stream",
     "text": [
      "[[1. 0. 0. 0. 0.]\n",
      " [0. 1. 0. 0. 0.]\n",
      " [0. 0. 1. 0. 0.]\n",
      " [0. 0. 0. 1. 0.]\n",
      " [0. 0. 0. 0. 1.]]\n"
     ]
    }
   ],
   "source": [
    "import numpy as np\n",
    "\n",
    "identity_matrix = np.identity(5)\n",
    "\n",
    "print(identity_matrix)"
   ]
  },
  {
   "cell_type": "code",
   "execution_count": null,
   "id": "52636f68",
   "metadata": {},
   "outputs": [],
   "source": []
  }
 ],
 "metadata": {
  "kernelspec": {
   "display_name": "Python 3 (ipykernel)",
   "language": "python",
   "name": "python3"
  },
  "language_info": {
   "codemirror_mode": {
    "name": "ipython",
    "version": 3
   },
   "file_extension": ".py",
   "mimetype": "text/x-python",
   "name": "python",
   "nbconvert_exporter": "python",
   "pygments_lexer": "ipython3",
   "version": "3.9.13"
  }
 },
 "nbformat": 4,
 "nbformat_minor": 5
}
