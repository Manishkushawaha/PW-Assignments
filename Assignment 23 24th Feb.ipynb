{
 "cells": [
  {
   "cell_type": "raw",
   "id": "1804405a",
   "metadata": {},
   "source": [
    "Q1. List any five functions of the pandas library with execution."
   ]
  },
  {
   "cell_type": "raw",
   "id": "fb622bf6",
   "metadata": {},
   "source": [
    "Here are five functions of the pandas library with examples of their execution:\n",
    "\n",
    "1) read_csv() - This function is used to read a CSV file and return a pandas DataFrame.\n",
    "\n",
    "2) head() - This function is used to return the first n rows of a DataFrame.\n",
    "\n",
    "3) describe() - This function is used to generate descriptive statistics of a DataFrame.\n",
    "\n",
    "4)groupby() - This function is used to group data by one or more columns and apply a function to the groups.\n",
    "\n",
    "5)pivot_table() - This function is used to create a pivot table from a DataFrame."
   ]
  },
  {
   "cell_type": "code",
   "execution_count": 9,
   "id": "28d6f538",
   "metadata": {},
   "outputs": [
    {
     "data": {
      "text/html": [
       "<div>\n",
       "<style scoped>\n",
       "    .dataframe tbody tr th:only-of-type {\n",
       "        vertical-align: middle;\n",
       "    }\n",
       "\n",
       "    .dataframe tbody tr th {\n",
       "        vertical-align: top;\n",
       "    }\n",
       "\n",
       "    .dataframe thead th {\n",
       "        text-align: right;\n",
       "    }\n",
       "</style>\n",
       "<table border=\"1\" class=\"dataframe\">\n",
       "  <thead>\n",
       "    <tr style=\"text-align: right;\">\n",
       "      <th></th>\n",
       "      <th>Student ID</th>\n",
       "      <th>Class</th>\n",
       "      <th>Study hrs</th>\n",
       "      <th>Sleeping hrs</th>\n",
       "      <th>Social Media usage hrs</th>\n",
       "      <th>Mobile Games hrs</th>\n",
       "      <th>Percantege</th>\n",
       "    </tr>\n",
       "  </thead>\n",
       "  <tbody>\n",
       "    <tr>\n",
       "      <th>0</th>\n",
       "      <td>1001</td>\n",
       "      <td>10</td>\n",
       "      <td>2</td>\n",
       "      <td>9</td>\n",
       "      <td>3</td>\n",
       "      <td>5</td>\n",
       "      <td>50</td>\n",
       "    </tr>\n",
       "    <tr>\n",
       "      <th>1</th>\n",
       "      <td>1002</td>\n",
       "      <td>10</td>\n",
       "      <td>6</td>\n",
       "      <td>8</td>\n",
       "      <td>2</td>\n",
       "      <td>0</td>\n",
       "      <td>80</td>\n",
       "    </tr>\n",
       "    <tr>\n",
       "      <th>2</th>\n",
       "      <td>1003</td>\n",
       "      <td>10</td>\n",
       "      <td>3</td>\n",
       "      <td>8</td>\n",
       "      <td>2</td>\n",
       "      <td>4</td>\n",
       "      <td>60</td>\n",
       "    </tr>\n",
       "    <tr>\n",
       "      <th>3</th>\n",
       "      <td>1004</td>\n",
       "      <td>11</td>\n",
       "      <td>0</td>\n",
       "      <td>10</td>\n",
       "      <td>1</td>\n",
       "      <td>5</td>\n",
       "      <td>45</td>\n",
       "    </tr>\n",
       "    <tr>\n",
       "      <th>4</th>\n",
       "      <td>1005</td>\n",
       "      <td>11</td>\n",
       "      <td>4</td>\n",
       "      <td>7</td>\n",
       "      <td>2</td>\n",
       "      <td>0</td>\n",
       "      <td>75</td>\n",
       "    </tr>\n",
       "    <tr>\n",
       "      <th>5</th>\n",
       "      <td>1006</td>\n",
       "      <td>11</td>\n",
       "      <td>10</td>\n",
       "      <td>7</td>\n",
       "      <td>0</td>\n",
       "      <td>0</td>\n",
       "      <td>96</td>\n",
       "    </tr>\n",
       "    <tr>\n",
       "      <th>6</th>\n",
       "      <td>1007</td>\n",
       "      <td>12</td>\n",
       "      <td>4</td>\n",
       "      <td>6</td>\n",
       "      <td>0</td>\n",
       "      <td>0</td>\n",
       "      <td>80</td>\n",
       "    </tr>\n",
       "    <tr>\n",
       "      <th>7</th>\n",
       "      <td>1008</td>\n",
       "      <td>12</td>\n",
       "      <td>10</td>\n",
       "      <td>6</td>\n",
       "      <td>2</td>\n",
       "      <td>0</td>\n",
       "      <td>90</td>\n",
       "    </tr>\n",
       "    <tr>\n",
       "      <th>8</th>\n",
       "      <td>1009</td>\n",
       "      <td>12</td>\n",
       "      <td>2</td>\n",
       "      <td>8</td>\n",
       "      <td>2</td>\n",
       "      <td>4</td>\n",
       "      <td>60</td>\n",
       "    </tr>\n",
       "    <tr>\n",
       "      <th>9</th>\n",
       "      <td>1010</td>\n",
       "      <td>12</td>\n",
       "      <td>6</td>\n",
       "      <td>9</td>\n",
       "      <td>1</td>\n",
       "      <td>0</td>\n",
       "      <td>85</td>\n",
       "    </tr>\n",
       "  </tbody>\n",
       "</table>\n",
       "</div>"
      ],
      "text/plain": [
       "   Student ID  Class  Study hrs  Sleeping hrs  Social Media usage hrs  \\\n",
       "0        1001     10          2             9                       3   \n",
       "1        1002     10          6             8                       2   \n",
       "2        1003     10          3             8                       2   \n",
       "3        1004     11          0            10                       1   \n",
       "4        1005     11          4             7                       2   \n",
       "5        1006     11         10             7                       0   \n",
       "6        1007     12          4             6                       0   \n",
       "7        1008     12         10             6                       2   \n",
       "8        1009     12          2             8                       2   \n",
       "9        1010     12          6             9                       1   \n",
       "\n",
       "   Mobile Games hrs  Percantege  \n",
       "0                 5          50  \n",
       "1                 0          80  \n",
       "2                 4          60  \n",
       "3                 5          45  \n",
       "4                 0          75  \n",
       "5                 0          96  \n",
       "6                 0          80  \n",
       "7                 0          90  \n",
       "8                 4          60  \n",
       "9                 0          85  "
      ]
     },
     "execution_count": 9,
     "metadata": {},
     "output_type": "execute_result"
    }
   ],
   "source": [
    "import pandas as pd\n",
    "\n",
    "df = pd.read_csv('D:\\\\Data sets\\\\student_results.csv')\n",
    "df"
   ]
  },
  {
   "cell_type": "code",
   "execution_count": 10,
   "id": "3e70a74b",
   "metadata": {},
   "outputs": [
    {
     "data": {
      "text/html": [
       "<div>\n",
       "<style scoped>\n",
       "    .dataframe tbody tr th:only-of-type {\n",
       "        vertical-align: middle;\n",
       "    }\n",
       "\n",
       "    .dataframe tbody tr th {\n",
       "        vertical-align: top;\n",
       "    }\n",
       "\n",
       "    .dataframe thead th {\n",
       "        text-align: right;\n",
       "    }\n",
       "</style>\n",
       "<table border=\"1\" class=\"dataframe\">\n",
       "  <thead>\n",
       "    <tr style=\"text-align: right;\">\n",
       "      <th></th>\n",
       "      <th>Student ID</th>\n",
       "      <th>Class</th>\n",
       "      <th>Study hrs</th>\n",
       "      <th>Sleeping hrs</th>\n",
       "      <th>Social Media usage hrs</th>\n",
       "      <th>Mobile Games hrs</th>\n",
       "      <th>Percantege</th>\n",
       "    </tr>\n",
       "  </thead>\n",
       "  <tbody>\n",
       "    <tr>\n",
       "      <th>0</th>\n",
       "      <td>1001</td>\n",
       "      <td>10</td>\n",
       "      <td>2</td>\n",
       "      <td>9</td>\n",
       "      <td>3</td>\n",
       "      <td>5</td>\n",
       "      <td>50</td>\n",
       "    </tr>\n",
       "    <tr>\n",
       "      <th>1</th>\n",
       "      <td>1002</td>\n",
       "      <td>10</td>\n",
       "      <td>6</td>\n",
       "      <td>8</td>\n",
       "      <td>2</td>\n",
       "      <td>0</td>\n",
       "      <td>80</td>\n",
       "    </tr>\n",
       "    <tr>\n",
       "      <th>2</th>\n",
       "      <td>1003</td>\n",
       "      <td>10</td>\n",
       "      <td>3</td>\n",
       "      <td>8</td>\n",
       "      <td>2</td>\n",
       "      <td>4</td>\n",
       "      <td>60</td>\n",
       "    </tr>\n",
       "  </tbody>\n",
       "</table>\n",
       "</div>"
      ],
      "text/plain": [
       "   Student ID  Class  Study hrs  Sleeping hrs  Social Media usage hrs  \\\n",
       "0        1001     10          2             9                       3   \n",
       "1        1002     10          6             8                       2   \n",
       "2        1003     10          3             8                       2   \n",
       "\n",
       "   Mobile Games hrs  Percantege  \n",
       "0                 5          50  \n",
       "1                 0          80  \n",
       "2                 4          60  "
      ]
     },
     "execution_count": 10,
     "metadata": {},
     "output_type": "execute_result"
    }
   ],
   "source": [
    "df.head(3)"
   ]
  },
  {
   "cell_type": "code",
   "execution_count": 11,
   "id": "51a6cce4",
   "metadata": {
    "scrolled": true
   },
   "outputs": [
    {
     "data": {
      "text/html": [
       "<div>\n",
       "<style scoped>\n",
       "    .dataframe tbody tr th:only-of-type {\n",
       "        vertical-align: middle;\n",
       "    }\n",
       "\n",
       "    .dataframe tbody tr th {\n",
       "        vertical-align: top;\n",
       "    }\n",
       "\n",
       "    .dataframe thead th {\n",
       "        text-align: right;\n",
       "    }\n",
       "</style>\n",
       "<table border=\"1\" class=\"dataframe\">\n",
       "  <thead>\n",
       "    <tr style=\"text-align: right;\">\n",
       "      <th></th>\n",
       "      <th>Student ID</th>\n",
       "      <th>Class</th>\n",
       "      <th>Study hrs</th>\n",
       "      <th>Sleeping hrs</th>\n",
       "      <th>Social Media usage hrs</th>\n",
       "      <th>Mobile Games hrs</th>\n",
       "      <th>Percantege</th>\n",
       "    </tr>\n",
       "  </thead>\n",
       "  <tbody>\n",
       "    <tr>\n",
       "      <th>count</th>\n",
       "      <td>10.00000</td>\n",
       "      <td>10.000000</td>\n",
       "      <td>10.000</td>\n",
       "      <td>10.000000</td>\n",
       "      <td>10.000000</td>\n",
       "      <td>10.000000</td>\n",
       "      <td>10.000000</td>\n",
       "    </tr>\n",
       "    <tr>\n",
       "      <th>mean</th>\n",
       "      <td>1005.50000</td>\n",
       "      <td>11.100000</td>\n",
       "      <td>4.700</td>\n",
       "      <td>7.800000</td>\n",
       "      <td>1.500000</td>\n",
       "      <td>1.800000</td>\n",
       "      <td>72.100000</td>\n",
       "    </tr>\n",
       "    <tr>\n",
       "      <th>std</th>\n",
       "      <td>3.02765</td>\n",
       "      <td>0.875595</td>\n",
       "      <td>3.335</td>\n",
       "      <td>1.316561</td>\n",
       "      <td>0.971825</td>\n",
       "      <td>2.347576</td>\n",
       "      <td>17.342626</td>\n",
       "    </tr>\n",
       "    <tr>\n",
       "      <th>min</th>\n",
       "      <td>1001.00000</td>\n",
       "      <td>10.000000</td>\n",
       "      <td>0.000</td>\n",
       "      <td>6.000000</td>\n",
       "      <td>0.000000</td>\n",
       "      <td>0.000000</td>\n",
       "      <td>45.000000</td>\n",
       "    </tr>\n",
       "    <tr>\n",
       "      <th>25%</th>\n",
       "      <td>1003.25000</td>\n",
       "      <td>10.250000</td>\n",
       "      <td>2.250</td>\n",
       "      <td>7.000000</td>\n",
       "      <td>1.000000</td>\n",
       "      <td>0.000000</td>\n",
       "      <td>60.000000</td>\n",
       "    </tr>\n",
       "    <tr>\n",
       "      <th>50%</th>\n",
       "      <td>1005.50000</td>\n",
       "      <td>11.000000</td>\n",
       "      <td>4.000</td>\n",
       "      <td>8.000000</td>\n",
       "      <td>2.000000</td>\n",
       "      <td>0.000000</td>\n",
       "      <td>77.500000</td>\n",
       "    </tr>\n",
       "    <tr>\n",
       "      <th>75%</th>\n",
       "      <td>1007.75000</td>\n",
       "      <td>12.000000</td>\n",
       "      <td>6.000</td>\n",
       "      <td>8.750000</td>\n",
       "      <td>2.000000</td>\n",
       "      <td>4.000000</td>\n",
       "      <td>83.750000</td>\n",
       "    </tr>\n",
       "    <tr>\n",
       "      <th>max</th>\n",
       "      <td>1010.00000</td>\n",
       "      <td>12.000000</td>\n",
       "      <td>10.000</td>\n",
       "      <td>10.000000</td>\n",
       "      <td>3.000000</td>\n",
       "      <td>5.000000</td>\n",
       "      <td>96.000000</td>\n",
       "    </tr>\n",
       "  </tbody>\n",
       "</table>\n",
       "</div>"
      ],
      "text/plain": [
       "       Student ID      Class  Study hrs  Sleeping hrs  Social Media usage hrs  \\\n",
       "count    10.00000  10.000000     10.000     10.000000               10.000000   \n",
       "mean   1005.50000  11.100000      4.700      7.800000                1.500000   \n",
       "std       3.02765   0.875595      3.335      1.316561                0.971825   \n",
       "min    1001.00000  10.000000      0.000      6.000000                0.000000   \n",
       "25%    1003.25000  10.250000      2.250      7.000000                1.000000   \n",
       "50%    1005.50000  11.000000      4.000      8.000000                2.000000   \n",
       "75%    1007.75000  12.000000      6.000      8.750000                2.000000   \n",
       "max    1010.00000  12.000000     10.000     10.000000                3.000000   \n",
       "\n",
       "       Mobile Games hrs  Percantege  \n",
       "count         10.000000   10.000000  \n",
       "mean           1.800000   72.100000  \n",
       "std            2.347576   17.342626  \n",
       "min            0.000000   45.000000  \n",
       "25%            0.000000   60.000000  \n",
       "50%            0.000000   77.500000  \n",
       "75%            4.000000   83.750000  \n",
       "max            5.000000   96.000000  "
      ]
     },
     "execution_count": 11,
     "metadata": {},
     "output_type": "execute_result"
    }
   ],
   "source": [
    "df.describe()"
   ]
  },
  {
   "cell_type": "code",
   "execution_count": 18,
   "id": "6587c271",
   "metadata": {},
   "outputs": [
    {
     "data": {
      "text/plain": [
       "{(0, 11): [3], (2, 10): [0], (2, 12): [8], (3, 10): [2], (4, 11): [4], (4, 12): [6], (6, 10): [1], (6, 12): [9], (10, 11): [5], (10, 12): [7]}"
      ]
     },
     "execution_count": 18,
     "metadata": {},
     "output_type": "execute_result"
    }
   ],
   "source": [
    "grouped = df.groupby(['Study hrs','Class']).groups\n",
    "grouped"
   ]
  },
  {
   "cell_type": "code",
   "execution_count": 24,
   "id": "fc05ab5c",
   "metadata": {},
   "outputs": [
    {
     "data": {
      "text/html": [
       "<div>\n",
       "<style scoped>\n",
       "    .dataframe tbody tr th:only-of-type {\n",
       "        vertical-align: middle;\n",
       "    }\n",
       "\n",
       "    .dataframe tbody tr th {\n",
       "        vertical-align: top;\n",
       "    }\n",
       "\n",
       "    .dataframe thead tr th {\n",
       "        text-align: left;\n",
       "    }\n",
       "\n",
       "    .dataframe thead tr:last-of-type th {\n",
       "        text-align: right;\n",
       "    }\n",
       "</style>\n",
       "<table border=\"1\" class=\"dataframe\">\n",
       "  <thead>\n",
       "    <tr>\n",
       "      <th></th>\n",
       "      <th colspan=\"4\" halign=\"left\">Budget(M$)</th>\n",
       "      <th colspan=\"4\" halign=\"left\">Ratings%</th>\n",
       "    </tr>\n",
       "    <tr>\n",
       "      <th>Year</th>\n",
       "      <th>2002</th>\n",
       "      <th>2008</th>\n",
       "      <th>2009</th>\n",
       "      <th>2010</th>\n",
       "      <th>2002</th>\n",
       "      <th>2008</th>\n",
       "      <th>2009</th>\n",
       "      <th>2010</th>\n",
       "    </tr>\n",
       "    <tr>\n",
       "      <th>Genre</th>\n",
       "      <th></th>\n",
       "      <th></th>\n",
       "      <th></th>\n",
       "      <th></th>\n",
       "      <th></th>\n",
       "      <th></th>\n",
       "      <th></th>\n",
       "      <th></th>\n",
       "    </tr>\n",
       "  </thead>\n",
       "  <tbody>\n",
       "    <tr>\n",
       "      <th>Action</th>\n",
       "      <td>NaN</td>\n",
       "      <td>30.0</td>\n",
       "      <td>200.0</td>\n",
       "      <td>20.0</td>\n",
       "      <td>NaN</td>\n",
       "      <td>52.5</td>\n",
       "      <td>63.0</td>\n",
       "      <td>52.0</td>\n",
       "    </tr>\n",
       "    <tr>\n",
       "      <th>Adventure</th>\n",
       "      <td>NaN</td>\n",
       "      <td>105.0</td>\n",
       "      <td>18.0</td>\n",
       "      <td>NaN</td>\n",
       "      <td>NaN</td>\n",
       "      <td>44.0</td>\n",
       "      <td>84.0</td>\n",
       "      <td>NaN</td>\n",
       "    </tr>\n",
       "    <tr>\n",
       "      <th>Comedy</th>\n",
       "      <td>8.0</td>\n",
       "      <td>25.0</td>\n",
       "      <td>NaN</td>\n",
       "      <td>NaN</td>\n",
       "      <td>81.0</td>\n",
       "      <td>70.5</td>\n",
       "      <td>NaN</td>\n",
       "      <td>NaN</td>\n",
       "    </tr>\n",
       "  </tbody>\n",
       "</table>\n",
       "</div>"
      ],
      "text/plain": [
       "          Budget(M$)                     Ratings%                  \n",
       "Year            2002   2008   2009  2010     2002  2008  2009  2010\n",
       "Genre                                                              \n",
       "Action           NaN   30.0  200.0  20.0      NaN  52.5  63.0  52.0\n",
       "Adventure        NaN  105.0   18.0   NaN      NaN  44.0  84.0   NaN\n",
       "Comedy           8.0   25.0    NaN   NaN     81.0  70.5   NaN   NaN"
      ]
     },
     "execution_count": 24,
     "metadata": {},
     "output_type": "execute_result"
    }
   ],
   "source": [
    "df=pd.read_csv('D:\\\\Data sets\\\\Movie_rating.csv')\n",
    "df\n",
    "df.pivot_table(index='Genre',columns='Year')"
   ]
  },
  {
   "cell_type": "raw",
   "id": "b3101c85",
   "metadata": {},
   "source": [
    "Q2. Given a Pandas DataFrame df with columns 'A', 'B', and 'C', write a Python function to re-index the DataFrame with a new index that starts from 1 and increments by 2 for each row."
   ]
  },
  {
   "cell_type": "code",
   "execution_count": 29,
   "id": "3498e390",
   "metadata": {},
   "outputs": [
    {
     "name": "stdout",
     "output_type": "stream",
     "text": [
      "   A       B  C\n",
      "1  1    Male  9\n",
      "3  2  Female  4\n",
      "5  3    Male  5\n",
      "7  4  Female  6\n",
      "9  5    Male  8\n"
     ]
    }
   ],
   "source": [
    "import pandas as pd\n",
    "\n",
    "def reindex_df(df):\n",
    "    \n",
    "    n_rows = df.shape[0]\n",
    "    \n",
    "    new_index = []\n",
    "    \n",
    "    for i in range(n_rows):\n",
    "        new_index.append(i*2+1)\n",
    "        \n",
    "    df.index = new_index\n",
    "    return df\n",
    "\n",
    "df = pd.DataFrame({'A':[1,2,3,4,5], 'B':['Male','Female','Male','Female','Male'],\n",
    "                  'C':[9,4,5,6,8]})\n",
    "df = reindex_df(df)\n",
    "print(df)"
   ]
  },
  {
   "cell_type": "raw",
   "id": "59805b4c",
   "metadata": {},
   "source": [
    "Q3. You have a Pandas DataFrame df with a column named 'Values'. Write a Python function that \n",
    "iterates over the DataFrame and calculates the sum of the first three values in the 'Values' column. The \n",
    "function should print the sum to the console.\n",
    "\n",
    "For example, if the 'Values' column of df contains the values [10, 20, 30, 40, 50], your function should \n",
    "calculate and print the sum of the first three values, which is 60."
   ]
  },
  {
   "cell_type": "code",
   "execution_count": 37,
   "id": "6201d633",
   "metadata": {},
   "outputs": [
    {
     "name": "stdout",
     "output_type": "stream",
     "text": [
      "Sum of the first three values in the 'Values' column: 60\n"
     ]
    }
   ],
   "source": [
    "import pandas as pd\n",
    "\n",
    "def sum_of_first_three(df):\n",
    "    \n",
    "    first_three_values = df['Values'][:3]\n",
    "    \n",
    "    sum_first_three = sum(first_three_values)\n",
    "    \n",
    "    print(\"Sum of the first three values in the 'Values' column:\", sum_first_three)\n",
    "\n",
    "df = pd.DataFrame({'Values':[10,20,30,40,50]})\n",
    "sum_of_first_three(df)"
   ]
  },
  {
   "cell_type": "raw",
   "id": "79cb3541",
   "metadata": {},
   "source": [
    "Q4. Given a Pandas DataFrame df with a column 'Text', write a Python function to create a new column 'Word_Count' that contains the number of words in each row of the 'Text' column"
   ]
  },
  {
   "cell_type": "code",
   "execution_count": 40,
   "id": "c4a2b9c1",
   "metadata": {},
   "outputs": [
    {
     "name": "stdout",
     "output_type": "stream",
     "text": [
      "                      Text  Word_count\n",
      "0      The quick brown fox           4\n",
      "1  jumps over the lazy dog           5\n"
     ]
    }
   ],
   "source": [
    "import pandas as pd\n",
    "\n",
    "def add_word_count_column(df):\n",
    "    \n",
    "    word_lists = df['Text'].str.split()\n",
    "    \n",
    "    df['Word_count'] = word_lists.apply(len)\n",
    "    \n",
    "    return df\n",
    "\n",
    "df = pd.DataFrame({'Text': ['The quick brown fox', 'jumps over the lazy dog']})\n",
    "\n",
    "df = add_word_count_column(df)\n",
    "\n",
    "print(df)"
   ]
  },
  {
   "cell_type": "raw",
   "id": "3d978107",
   "metadata": {},
   "source": [
    "Q5. How are DataFrame.size() and DataFrame.shape() different?\n",
    "Ans:\n",
    "DataFrame.size returns the total number of elements in the DataFrame, which is the product of the number of rows and the number of columns.\n",
    "\n",
    "DataFrame.shape returns a tuple containing the number of rows and columns in the DataFrame.\n",
    "\n",
    "So, DataFrame.size returns a single integer value, while DataFrame.shape returns a tuple of two integers.\n",
    "\n",
    "Q6. Which function of pandas do we use to read an excel file?\n",
    "Ans:\n",
    "import pandas as pd\n",
    "\n",
    "df = pd.read_excel('file.xlsx')\n",
    "\n",
    "This will read the Excel file 'file.xlsx' and create a pandas DataFrame df containing its data. By default, read_excel() reads the first sheet of the Excel file, but you can specify a particular sheet by passing its name or index as an argument to the function. You can also specify various options for reading Excel files, such as the range of rows and columns to read, the header row to use, and so on. You can find more information on the read_excel() function in the pandas documentation."
   ]
  },
  {
   "cell_type": "raw",
   "id": "1963c276",
   "metadata": {},
   "source": [
    "Q7. You have a Pandas DataFrame df that contains a column named 'Email' that contains email \n",
    "addresses in the format 'username@domain.com'. Write a Python function that creates a new column \n",
    "'Username' in df that contains only the username part of each email address.\n",
    "\n",
    "The username is the part of the email address that appears before the '@' symbol. For example, if the \n",
    "email address is 'john.doe@example.com', the 'Username' column should contain 'john.doe'. Your \n",
    "function should extract the username from each email address and store it in the new 'Username' \n",
    "column."
   ]
  },
  {
   "cell_type": "code",
   "execution_count": 46,
   "id": "e2fb667d",
   "metadata": {},
   "outputs": [
    {
     "name": "stdout",
     "output_type": "stream",
     "text": [
      "                  EMail  Username\n",
      "0  john.doe@example.com  john.doe\n",
      "1  jane.doe@example.com  jane.doe\n"
     ]
    }
   ],
   "source": [
    "def add_username_column(df):\n",
    "    \n",
    "    username_column = df['EMail'].str.split('@')\n",
    "    \n",
    "    df['Username'] = username_column.apply(lambda x : x[0])\n",
    "    \n",
    "    return df\n",
    "\n",
    "df =pd.DataFrame({'EMail':['john.doe@example.com', 'jane.doe@example.com']})\n",
    "df = add_username_column(df)\n",
    "print(df)"
   ]
  },
  {
   "cell_type": "raw",
   "id": "134609d1",
   "metadata": {},
   "source": [
    "Q8. You have a Pandas DataFrame df with columns 'A', 'B', and 'C'. Write a Python function that selects all rows where the value in column 'A' is greater than 5 and the value in column 'B' is less than 10. The \n",
    "function should return a new DataFrame that contains only the selected rows.\n",
    "\n",
    "For example, if df contains the following values:\n",
    "\n",
    "   A   B   C\n",
    "\n",
    "0  3   5   1\n",
    "\n",
    "1  8   2   7\n",
    "\n",
    "2  6   9   4\n",
    "\n",
    "3  2   3   5\n",
    "\n",
    "4  9   1   2\n",
    "\n",
    "Your function should select the following rows:   A   B   C\n",
    "\n",
    "1  8   2   7\n",
    "\n",
    "4  9   1   2\n",
    "\n",
    "The function should return a new DataFrame that contains only the selected rows"
   ]
  },
  {
   "cell_type": "code",
   "execution_count": 47,
   "id": "3a4a52e4",
   "metadata": {},
   "outputs": [
    {
     "name": "stdout",
     "output_type": "stream",
     "text": [
      "   A  B  C\n",
      "1  8  2  7\n",
      "2  6  9  4\n",
      "4  9  1  2\n"
     ]
    }
   ],
   "source": [
    "import pandas as pd\n",
    "\n",
    "def select_rows(df):\n",
    "    \n",
    "    return df[(df['A'] > 5) & (df['B'] < 10)]\n",
    "\n",
    "df = pd.DataFrame({'A': [3, 8, 6, 2, 9], 'B': [5, 2, 9, 3, 1], \n",
    "                   'C': [1, 7, 4, 5, 2]})\n",
    "\n",
    "selected_rows = select_rows(df)\n",
    "\n",
    "print(selected_rows)"
   ]
  },
  {
   "cell_type": "raw",
   "id": "ee881050",
   "metadata": {},
   "source": [
    "Q9. Given a Pandas DataFrame df with a column 'Values', write a Python function to calculate the mean, median, and standard deviation of the values in the 'Values' column."
   ]
  },
  {
   "cell_type": "code",
   "execution_count": 3,
   "id": "b3e8d774",
   "metadata": {},
   "outputs": [
    {
     "name": "stdout",
     "output_type": "stream",
     "text": [
      "Mean: 5.0\n",
      "Median: 5.0\n",
      "Standard deviation: 2.7386127875258306\n"
     ]
    }
   ],
   "source": [
    "import pandas as pd\n",
    "\n",
    "def calculate_stats(df):\n",
    "    \n",
    "    mean = df['Values'].mean()\n",
    "    median = df['Values'].median()\n",
    "    std_dev = df['Values'].std()\n",
    "    return mean,median,std_dev\n",
    "\n",
    "df = pd.DataFrame({'Values': [2, 5, 7, 3, 8, 6, 9, 1, 4]})\n",
    "\n",
    "mean, median, std_dev = calculate_stats(df)\n",
    "print('Mean:', mean)\n",
    "print('Median:', median)\n",
    "print('Standard deviation:', std_dev)"
   ]
  },
  {
   "cell_type": "raw",
   "id": "c5ff13c6",
   "metadata": {},
   "source": [
    "Q10. Given a Pandas DataFrame df with a column 'Sales' and a column 'Date', write a Python function to create a new column 'MovingAverage' that contains the moving average of the sales for the past 7 days for each row in the DataFrame. The moving average should be calculated using a window of size 7 and should include the current day."
   ]
  },
  {
   "cell_type": "code",
   "execution_count": 5,
   "id": "1eaa0e50",
   "metadata": {},
   "outputs": [
    {
     "name": "stdout",
     "output_type": "stream",
     "text": [
      "            Sales  MovingAverage\n",
      "Date                            \n",
      "2022-01-01     10      10.000000\n",
      "2022-01-02     15      12.500000\n",
      "2022-01-03     12      12.333333\n",
      "2022-01-04     18      13.750000\n",
      "2022-01-05     20      15.000000\n",
      "2022-01-06     25      16.666667\n",
      "2022-01-07     22      17.428571\n",
      "2022-01-08     28      20.000000\n",
      "2022-01-09     30      22.142857\n",
      "2022-01-10     35      25.428571\n"
     ]
    }
   ],
   "source": [
    "import pandas as pd\n",
    "\n",
    "def add_moving_average(df):\n",
    "    df['MovingAverage'] = df['Sales'].rolling(window=7, min_periods=1).mean()\n",
    "    return df\n",
    "\n",
    "df = pd.DataFrame({'Sales': [10, 15, 12, 18, 20, 25, 22, 28, 30, 35],\n",
    "                   'Date': ['2022-01-01', '2022-01-02', '2022-01-03', '2022-01-04', '2022-01-05',\n",
    "                            '2022-01-06', '2022-01-07', '2022-01-08', '2022-01-09', '2022-01-10']})\n",
    "\n",
    "df['Date'] = pd.to_datetime(df['Date'])\n",
    "\n",
    "df.set_index('Date',inplace = True)\n",
    "\n",
    "df = add_moving_average(df)\n",
    "\n",
    "print(df)"
   ]
  },
  {
   "cell_type": "raw",
   "id": "84a2d107",
   "metadata": {},
   "source": [
    "Q11. You have a Pandas DataFrame df with a column 'Date'. Write a Python function that creates a new column 'Weekday' in the DataFrame. The 'Weekday' column should contain the weekday name (e.g. Monday, Tuesday) corresponding to each date in the 'Date' column.\n",
    "\n",
    "For example, if df contains the following values:\n",
    "\n",
    "         Date\n",
    "\n",
    "0  2023-01-01\n",
    "\n",
    "1  2023-01-02\n",
    "\n",
    "2  2023-01-03\n",
    "\n",
    "3  2023-01-04\n",
    "\n",
    "4  2023-01-05\n",
    "\n",
    "Your function should create the following DataFrame:\n",
    "\n",
    "\n",
    "         Date    Weekday\n",
    "\n",
    "0  2023-01-01    Sunday\n",
    "\n",
    "1  2023-01-02     Monday\n",
    "\n",
    "2  2023-01-03    Tuesday\n",
    "\n",
    "3  2023-01-04    Wednesday\n",
    "\n",
    "4  2023-01-05    Thursday\n",
    "\n",
    "The function should return the modified DataFrame."
   ]
  },
  {
   "cell_type": "code",
   "execution_count": 30,
   "id": "710a0920",
   "metadata": {},
   "outputs": [
    {
     "data": {
      "text/html": [
       "<div>\n",
       "<style scoped>\n",
       "    .dataframe tbody tr th:only-of-type {\n",
       "        vertical-align: middle;\n",
       "    }\n",
       "\n",
       "    .dataframe tbody tr th {\n",
       "        vertical-align: top;\n",
       "    }\n",
       "\n",
       "    .dataframe thead th {\n",
       "        text-align: right;\n",
       "    }\n",
       "</style>\n",
       "<table border=\"1\" class=\"dataframe\">\n",
       "  <thead>\n",
       "    <tr style=\"text-align: right;\">\n",
       "      <th></th>\n",
       "      <th>Date</th>\n",
       "      <th>Weekday</th>\n",
       "    </tr>\n",
       "  </thead>\n",
       "  <tbody>\n",
       "    <tr>\n",
       "      <th>0</th>\n",
       "      <td>2023-01-01</td>\n",
       "      <td>Sunday</td>\n",
       "    </tr>\n",
       "    <tr>\n",
       "      <th>1</th>\n",
       "      <td>2023-01-02</td>\n",
       "      <td>Monday</td>\n",
       "    </tr>\n",
       "    <tr>\n",
       "      <th>2</th>\n",
       "      <td>2023-01-03</td>\n",
       "      <td>Tuesday</td>\n",
       "    </tr>\n",
       "    <tr>\n",
       "      <th>3</th>\n",
       "      <td>2023-01-04</td>\n",
       "      <td>Wednesday</td>\n",
       "    </tr>\n",
       "    <tr>\n",
       "      <th>4</th>\n",
       "      <td>2023-01-05</td>\n",
       "      <td>Thursday</td>\n",
       "    </tr>\n",
       "  </tbody>\n",
       "</table>\n",
       "</div>"
      ],
      "text/plain": [
       "        Date    Weekday\n",
       "0 2023-01-01     Sunday\n",
       "1 2023-01-02     Monday\n",
       "2 2023-01-03    Tuesday\n",
       "3 2023-01-04  Wednesday\n",
       "4 2023-01-05   Thursday"
      ]
     },
     "execution_count": 30,
     "metadata": {},
     "output_type": "execute_result"
    }
   ],
   "source": [
    "import pandas as pd\n",
    "\n",
    "def add_weekday_column(df):\n",
    "    \n",
    "    df['Date'] = pd.to_datetime(df['Date'])\n",
    "    \n",
    "    df['Weekday'] = df['Date'].dt.day_name()\n",
    "    \n",
    "    return df\n",
    "\n",
    "df = pd.DataFrame({'Date':[ '2023-01-01','2023-01-02','2023-01-03'\n",
    "                           ,'2023-01-04','2023-01-05']})\n",
    "\n",
    "df = add_weekday_column(df)\n",
    "\n",
    "df"
   ]
  },
  {
   "cell_type": "raw",
   "id": "24e571d3",
   "metadata": {},
   "source": [
    "Q12. Given a Pandas DataFrame df with a column 'Date' that contains timestamps, write a Python function to select all rows where the date is between '2023-01-01' and '2023-01-31'."
   ]
  },
  {
   "cell_type": "code",
   "execution_count": 32,
   "id": "7d7c0baf",
   "metadata": {},
   "outputs": [
    {
     "name": "stdout",
     "output_type": "stream",
     "text": [
      "Empty DataFrame\n",
      "Columns: [Date, Weekday]\n",
      "Index: []\n"
     ]
    }
   ],
   "source": [
    "import pandas as pd\n",
    "\n",
    "def select_date_time_range(df):\n",
    "    \n",
    "    df['Date'] = pd.to_datetime(df['Date'])\n",
    "    \n",
    "    date_range = (df['Date'] >= '2023-01-01') &  (df['Date'] >= '2023-01-31')\n",
    "    \n",
    "    return df[date_range]\n",
    "\n",
    "df = select_date_time_range(df)\n",
    "print(df)\n",
    "   "
   ]
  },
  {
   "cell_type": "raw",
   "id": "6389da71",
   "metadata": {},
   "source": [
    "Q13. To use the basic functions of pandas, what is the first and foremost necessary library that needs to be imported?"
   ]
  },
  {
   "cell_type": "raw",
   "id": "bc481d6f",
   "metadata": {},
   "source": [
    "The first and foremost necessary library that needs to be imported to use the basic functions of pandas is pandas itself. This can be done using the import statement, like so:\n",
    "\n",
    "import pandas as pd\n",
    "\n",
    "Here, we are importing the pandas library and giving it the alias pd to make it easier to refer to throughout our code. Once we have imported pandas, we can use its functions and classes to create, manipulate, and analyze data stored in pandas objects such as Series and DataFrame.\n"
   ]
  },
  {
   "cell_type": "code",
   "execution_count": null,
   "id": "a4e8869a",
   "metadata": {},
   "outputs": [],
   "source": []
  }
 ],
 "metadata": {
  "kernelspec": {
   "display_name": "Python 3 (ipykernel)",
   "language": "python",
   "name": "python3"
  },
  "language_info": {
   "codemirror_mode": {
    "name": "ipython",
    "version": 3
   },
   "file_extension": ".py",
   "mimetype": "text/x-python",
   "name": "python",
   "nbconvert_exporter": "python",
   "pygments_lexer": "ipython3",
   "version": "3.9.13"
  }
 },
 "nbformat": 4,
 "nbformat_minor": 5
}
