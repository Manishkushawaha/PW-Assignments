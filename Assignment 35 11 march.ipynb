{
 "cells": [
  {
   "cell_type": "raw",
   "id": "d1354152",
   "metadata": {},
   "source": [
    "Q1: What is the difference between a t-test and a z-test? Provide an example scenario where you would use each type of test."
   ]
  },
  {
   "cell_type": "raw",
   "id": "5f497efc",
   "metadata": {},
   "source": [
    "Ans:The t-test and z-test are both statistical hypothesis tests used to make inferences about population parameters based on sample data. However, they differ in certain key aspects, including the assumptions about the population, sample size, and variability. Here's a brief comparison:\n",
    "\n",
    "T-Test:\n",
    "\n",
    "1.Assumes that the population follows a normal distribution, but the sample size is small (typically n < 30).\n",
    "\n",
    "2.Is used when the population standard deviation is unknown and needs to be estimated from the sample.\n",
    "\n",
    "3.Involves the use of t-distribution for calculating the critical value or p-value.\n",
    "\n",
    "4.Has lower statistical power compared to a z-test due to the smaller sample size.\n",
    "\n",
    "\n",
    "Z-Test:\n",
    "\n",
    "1.Assumes that the population follows a normal distribution and the sample size is large (typically n ≥ 30).\n",
    "\n",
    "2.Is used when the population standard deviation is known or when the sample size is large enough to approximate the population standard deviation as known.\n",
    "\n",
    "3.Involves the use of standard normal distribution (z-distribution) for calculating the critical value or p-value.\n",
    "\n",
    "4.Has higher statistical power compared to a t-test due to the larger sample size.\n",
    "\n",
    "Example scenarios where you would use each type of test:\n",
    "\n",
    "T-Test: Suppose you want to compare the average test scores of two groups of students (e.g., Group A and Group B) to see if there is a statistically significant difference. If you have small sample sizes for both groups (e.g., n < 30) and the population standard deviations are unknown, you would use a t-test, such as the independent samples t-test or paired samples t-test, depending on the study design.\n",
    "\n",
    "Z-Test: Suppose you want to estimate the average height of all adults in a particular country. If you have a large sample size (e.g., n ≥ 30) and you know or can reasonably assume that the population standard deviation is constant, you can use a z-test to make inferences about the population mean."
   ]
  },
  {
   "cell_type": "raw",
   "id": "3312da99",
   "metadata": {},
   "source": [
    "Q2: Differentiate between one-tailed and two-tailed tests."
   ]
  },
  {
   "cell_type": "raw",
   "id": "a2d2737b",
   "metadata": {},
   "source": [
    "Ans:One-tailed and two-tailed tests are two types of hypothesis tests used in statistics to determine the statistical significance of a sample statistic or estimate. The key difference between them is in the directionality of the alternative hypothesis and the corresponding critical region.\n",
    "\n",
    "One-tailed test:\n",
    "1.Also known as a directional test.\n",
    "\n",
    "2.The alternative hypothesis is specified to have a specific direction, either greater than or less than a certain value.\n",
    "\n",
    "3.The critical region, where the null hypothesis is rejected, is located entirely in one tail of the distribution.\n",
    "\n",
    "4.It is used when there is a specific hypothesis or expectation about the direction of the effect or relationship being tested.\n",
    "\n",
    "5.It has higher power, meaning it is more likely to detect a significant effect if it exists in the specified direction.\n",
    "\n",
    "6.It is denoted as a \"one-tailed\" or \"one-sided\" test.\n",
    "\n",
    "Two-tailed test:\n",
    "    \n",
    "1.Also known as a non-directional test.\n",
    "\n",
    "2.The alternative hypothesis is not specified to have a particular direction; it simply states that there is a difference or relationship between variables.\n",
    "\n",
    "3.The critical region is divided into two tails of the distribution, allowing for the possibility of the effect or relationship being in either direction.\n",
    "\n",
    "4.It is used when there is no specific expectation about the direction of the effect or relationship being tested.\n",
    "\n",
    "5.It has lower power compared to a one-tailed test, as it is divided into two tails and requires a larger sample size to detect \n",
    "a significant effect.\n",
    "\n",
    "6.It is denoted as a \"two-tailed\" or \"two-sided\" test."
   ]
  },
  {
   "cell_type": "raw",
   "id": "419edb80",
   "metadata": {},
   "source": [
    "Q3: Explain the concept of Type 1 and Type 2 errors in hypothesis testing. Provide an example scenario for each type of error."
   ]
  },
  {
   "cell_type": "raw",
   "id": "b1235aef",
   "metadata": {},
   "source": [
    "Ans:A Type 1 error occurs when we reject a null hypothesis that is actually true. A Type 2 error occurs when we fail to reject a null hypothesis that is actually false.\n",
    "\n",
    "\n",
    "Here are some examples:\n",
    "\n",
    "Type 1 error: Suppose a pharmaceutical company is testing a new drug and wants to see if it is effective at treating a particular condition. The null hypothesis is that the drug has no effect, and the alternative hypothesis is that the drug is effective. If the company rejects the null hypothesis and concludes that the drug is effective when it is actually not, they have made a Type 1 error.\n",
    "\n",
    "Type 2 error: Continuing with the same example, suppose the pharmaceutical company fails to reject the null hypothesis and concludes that the drug has no effect when it is actually effective. In this case, they have made a Type 2 error."
   ]
  },
  {
   "cell_type": "raw",
   "id": "05a47c1d",
   "metadata": {},
   "source": [
    "Q4:  Explain Bayes's theorem with an example."
   ]
  },
  {
   "cell_type": "raw",
   "id": "40b1df26",
   "metadata": {},
   "source": [
    "Bayes' theorem is a fundamental concept in probability theory that describes how to update the probability of an event based on new evidence. It allows us to calculate the conditional probability of an event A given event B, considering our prior knowledge of the probability of A and the probability of B given A.\n",
    "\n",
    "Bayes' theorem can be stated as:\n",
    "\n",
    "P(A|B) = (P(B|A) * P(A)) / P(B)\n",
    "\n",
    "Where:\n",
    "\n",
    "P(A|B) is the probability of event A occurring given event B has occurred (the posterior probability).\n",
    "P(B|A) is the probability of event B occurring given event A has occurred (the likelihood).\n",
    "P(A) is the prior probability of event A occurring.\n",
    "P(B) is the prior probability of event B occurring.\n",
    "Example:\n",
    "Let's consider a medical scenario. Suppose a certain disease affects 1% of the population, and a diagnostic test for the disease is known to be accurate 95% of the time. If a person tests positive for the disease, what is the probability that they actually have the disease?\n",
    "\n",
    "P(A) represents the prior probability of having the disease (1% or 0.01).\n",
    "P(B|A) represents the probability of testing positive given that the person has the disease (95% or 0.95).\n",
    "P(B) represents the probability of testing positive (which can be calculated using the law of total probability).\n",
    "Assuming we have all the necessary probabilities, we can apply Bayes' theorem to find the posterior probability:\n",
    "\n",
    "P(A|B) = (P(B|A) * P(A)) / P(B)\n",
    "\n",
    "Using the given values:\n",
    "\n",
    "P(A|B) = (0.95 * 0.01) / P(B)\n",
    "\n",
    "To find P(B), we can use the law of total probability:\n",
    "\n",
    "P(B) = P(B|A) * P(A) + P(B|not A) * P(not A)\n",
    "\n",
    "If we assume the test accuracy for individuals without the disease is 90%:\n",
    "\n",
    "P(B) = (0.95 * 0.01) + (0.10 * 0.99) = 0.1045\n",
    "\n",
    "Substituting the values into Bayes' theorem:\n",
    "\n",
    "P(A|B) = (0.95 * 0.01) / 0.1045 ≈ 0.0091"
   ]
  },
  {
   "cell_type": "raw",
   "id": "190e760f",
   "metadata": {},
   "source": [
    "Q5: What is a confidence interval? How to calculate the confidence interval, explain with an example."
   ]
  },
  {
   "cell_type": "raw",
   "id": "47a94ed5",
   "metadata": {},
   "source": [
    "Ans:A confidence interval is a range of values that provides an estimate of the unknown population parameter, along with a level of confidence in the estimate. It quantifies the uncertainty associated with estimating a population parameter based on a sample.\n",
    "\n",
    "To calculate a confidence interval, you typically need three pieces of information: the sample data, the desired level of confidence, and a statistical formula or method. Here's an example of calculating a confidence interval for the mean using Python:\n",
    "\n",
    "Example:\n",
    "Suppose you have a dataset of 100 measurements of a certain variable, and you want to estimate the population mean of that variable along with a 95% confidence level."
   ]
  },
  {
   "cell_type": "code",
   "execution_count": 2,
   "id": "c2998c7c",
   "metadata": {},
   "outputs": [
    {
     "name": "stdout",
     "output_type": "stream",
     "text": [
      "Confidence Interval: [20.09, 24.91]\n"
     ]
    }
   ],
   "source": [
    "import numpy as np\n",
    "import scipy.stats as stats\n",
    "\n",
    "# Sample data\n",
    "data = np.array([17, 22, 28, 25, 20, 19, 24, 26, 21, 23])\n",
    "\n",
    "# Calculate the sample mean and standard deviation\n",
    "sample_mean = np.mean(data)\n",
    "sample_std = np.std(data, ddof=1)\n",
    "\n",
    "# Set the desired confidence level (95% in this example)\n",
    "confidence_level = 0.95\n",
    "\n",
    "# Calculate the critical value corresponding to the confidence level\n",
    "critical_value = stats.t.ppf((1 + confidence_level) / 2, df=len(data) - 1)\n",
    "\n",
    "# Calculate the margin of error\n",
    "margin_of_error = critical_value * (sample_std / np.sqrt(len(data)))\n",
    "\n",
    "# Calculate the lower and upper bounds of the confidence interval\n",
    "lower_bound = sample_mean - margin_of_error\n",
    "upper_bound = sample_mean + margin_of_error\n",
    "\n",
    "# Print the confidence interval\n",
    "print(\"Confidence Interval: [{:.2f}, {:.2f}]\".format(lower_bound, upper_bound))\n"
   ]
  },
  {
   "cell_type": "raw",
   "id": "05a89d7a",
   "metadata": {},
   "source": [
    "Q6. Use Bayes' Theorem to calculate the probability of an event occurring given prior knowledge of the event's probability and new evidence. Provide a sample problem and solution."
   ]
  },
  {
   "cell_type": "raw",
   "id": "1efb448b",
   "metadata": {},
   "source": [
    "Ans: \n",
    "Problem:\n",
    "\n",
    "In a certain city, 5% of people have a particular disease. A diagnostic test for the disease correctly identifies the disease in 98% of cases when a person actually has it and correctly identifies the absence of the disease in 95% of cases when a person does not have it. If a randomly selected person from the city tests positive for the disease, what is the probability that they actually have the disease?"
   ]
  },
  {
   "cell_type": "code",
   "execution_count": 1,
   "id": "a0dec427",
   "metadata": {},
   "outputs": [
    {
     "name": "stdout",
     "output_type": "stream",
     "text": [
      "The probability of having the disease given a positive test is: 0.5077720207253884\n"
     ]
    }
   ],
   "source": [
    "# Prior probability of having the disease\n",
    "prior_prob_disease = 0.05\n",
    "\n",
    "# Probability of a positive test given the disease\n",
    "prob_positive_given_disease = 0.98\n",
    "\n",
    "# Probability of a negative test given not having the disease\n",
    "prob_negative_given_no_disease = 0.95\n",
    "\n",
    "# Probability of a positive test given not having the disease\n",
    "prob_positive_given_no_disease = 1 - prob_negative_given_no_disease\n",
    "\n",
    "# Calculate the probability of having the disease given a positive test using Bayes' Theorem\n",
    "prob_positive = (prior_prob_disease * prob_positive_given_disease) + ((1 - prior_prob_disease) * prob_positive_given_no_disease)\n",
    "prob_disease_given_positive = (prior_prob_disease * prob_positive_given_disease) / prob_positive\n",
    "\n",
    "# Print the result\n",
    "print(\"The probability of having the disease given a positive test is:\", prob_disease_given_positive)\n"
   ]
  },
  {
   "cell_type": "raw",
   "id": "8be894d9",
   "metadata": {},
   "source": [
    "Q7. Calculate the 95% confidence interval for a sample of data with a mean of 50 and a standard deviation of 5. Interpret the results."
   ]
  },
  {
   "cell_type": "code",
   "execution_count": 7,
   "id": "b16bc622",
   "metadata": {},
   "outputs": [
    {
     "name": "stdout",
     "output_type": "stream",
     "text": [
      "Confidence Interval: [49.02, 50.98]\n"
     ]
    }
   ],
   "source": [
    "import math\n",
    "\n",
    "sample_mean = 50\n",
    "sample_std_dev = 5\n",
    "sample_size = 100\n",
    "confidence_level = 0.95\n",
    "\n",
    "critical_value = 1.96\n",
    "\n",
    "standard_error = sample_std_dev / math.sqrt(sample_size)\n",
    "\n",
    "lower_bound = sample_mean - (critical_value * standard_error)\n",
    "upper_bound = sample_mean + (critical_value * standard_error)\n",
    "\n",
    "print(\"Confidence Interval: [{:.2f}, {:.2f}]\".format(lower_bound, upper_bound))\n"
   ]
  },
  {
   "cell_type": "raw",
   "id": "8bab7a59",
   "metadata": {},
   "source": [
    "Interpreting the results:\n",
    "The calculated 95% confidence interval represents the range of values within which we can reasonably expect the true population mean to fall. In this case, the confidence interval might look something like [49.02, 50.98]. This means that we can be 95% confident that the true population mean lies within this interval."
   ]
  },
  {
   "cell_type": "raw",
   "id": "fdcb6c1c",
   "metadata": {},
   "source": [
    "Q8. What is the margin of error in a confidence interval? How does sample size affect the margin of error? Provide an example of a scenario where a larger sample size would result in a smaller margin of error."
   ]
  },
  {
   "cell_type": "raw",
   "id": "c294d68f",
   "metadata": {},
   "source": [
    "Ans:The margin of error in a confidence interval represents the range within which the true population parameter is likely to fall. It is influenced by the sample size and the desired level of confidence.\n",
    "\n",
    "Increasing the sample size generally decreases the margin of error. With a larger sample, the estimate of the population parameter becomes more precise and reliable, resulting in a smaller margin of error.\n",
    "\n",
    "For example, suppose we want to estimate the average height of adults in a city with a 95% confidence level. If we only sample 50 individuals, the margin of error might be ±2 inches. However, if we increase the sample size to 500, the margin of error could reduce to ±0.5 inches, providing a more precise estimate of the population's average height."
   ]
  },
  {
   "cell_type": "raw",
   "id": "0000c862",
   "metadata": {},
   "source": [
    "Q9. Calculate the z-score for a data point with a value of 75, a population mean of 70, and a population standard deviation of 5. Interpret the results."
   ]
  },
  {
   "cell_type": "code",
   "execution_count": 6,
   "id": "9c241192",
   "metadata": {},
   "outputs": [
    {
     "name": "stdout",
     "output_type": "stream",
     "text": [
      "Z-score: 1.0\n"
     ]
    }
   ],
   "source": [
    "data_point = 75\n",
    "population_mean = 70\n",
    "population_std_dev = 5\n",
    "\n",
    "z_score = (data_point - population_mean) / population_std_dev\n",
    "\n",
    "print(\"Z-score:\", z_score)\n"
   ]
  },
  {
   "cell_type": "raw",
   "id": "2bdc38c5",
   "metadata": {},
   "source": [
    "Q10. In a study of the effectiveness of a new weight loss drug, a sample of 50 participants lost an average of 6 pounds with a standard deviation of 2.5 pounds. Conduct a hypothesis test to determine if the drug is significantly effective at a 95% confidence level using a t-test."
   ]
  },
  {
   "cell_type": "code",
   "execution_count": 5,
   "id": "9cbf3533",
   "metadata": {},
   "outputs": [
    {
     "name": "stdout",
     "output_type": "stream",
     "text": [
      "Reject the null hypothesis. The drug is significantly effective.\n",
      "t-statistic: 16.9706\n",
      "p-value: 0.0000\n"
     ]
    }
   ],
   "source": [
    "import scipy.stats as stats\n",
    "\n",
    "sample_mean = 6\n",
    "sample_std_dev = 2.5\n",
    "sample_size = 50\n",
    "\n",
    "confidence_level = 0.95\n",
    "hypothesized_mean = 0  # Null hypothesis: the drug is not effective\n",
    "\n",
    "\n",
    "standard_error = sample_std_dev / (sample_size ** 0.5)\n",
    "\n",
    "\n",
    "t_statistic = (sample_mean - hypothesized_mean) / standard_error\n",
    "\n",
    "\n",
    "degrees_of_freedom = sample_size - 1\n",
    "\n",
    "\n",
    "p_value = 2 * (1 - stats.t.cdf(abs(t_statistic), degrees_of_freedom))\n",
    "\n",
    "\n",
    "if p_value < (1 - confidence_level):\n",
    "    print(\"Reject the null hypothesis. The drug is significantly effective.\")\n",
    "else:\n",
    "    print(\"Fail to reject the null hypothesis. The drug is not significantly effective.\")\n",
    "\n",
    "\n",
    "print(\"t-statistic: {:.4f}\".format(t_statistic))\n",
    "print(\"p-value: {:.4f}\".format(p_value))\n"
   ]
  },
  {
   "cell_type": "raw",
   "id": "290ff196",
   "metadata": {},
   "source": [
    "Q11. In a survey of 500 people, 65% reported being satisfied with their current job. Calculate the 95% confidence interval for the true proportion of people who are satisfied with their job."
   ]
  },
  {
   "cell_type": "code",
   "execution_count": 3,
   "id": "5e649b93",
   "metadata": {},
   "outputs": [
    {
     "name": "stdout",
     "output_type": "stream",
     "text": [
      "Confidence Interval: [0.6082, 0.6918]\n"
     ]
    }
   ],
   "source": [
    "import scipy.stats as stats\n",
    "import math\n",
    "\n",
    "sample_proportion = 0.65\n",
    "sample_size = 500\n",
    "confidence_level = 0.95\n",
    "\n",
    "\n",
    "critical_value = stats.norm.ppf((1 + confidence_level) / 2)\n",
    "\n",
    "\n",
    "standard_error = math.sqrt((sample_proportion * (1 - sample_proportion)) / sample_size)\n",
    "\n",
    "\n",
    "lower_bound = sample_proportion - (critical_value * standard_error)\n",
    "upper_bound = sample_proportion + (critical_value * standard_error)\n",
    "\n",
    "\n",
    "print(\"Confidence Interval: [{:.4f}, {:.4f}]\".format(lower_bound, upper_bound))\n"
   ]
  },
  {
   "cell_type": "raw",
   "id": "7b1d3f82",
   "metadata": {},
   "source": [
    "Q12. A researcher is testing the effectiveness of two different teaching methods on student performance. Sample A has a mean score of 85 with a standard deviation of 6, while sample B has a mean score of 82 with a standard deviation of 5. Conduct a hypothesis test to determine if the two teaching methods have a significant difference in student performance using a t-test with a significance level of 0.01."
   ]
  },
  {
   "cell_type": "code",
   "execution_count": 2,
   "id": "ebfc77c4",
   "metadata": {},
   "outputs": [
    {
     "name": "stdout",
     "output_type": "stream",
     "text": [
      "Reject the null hypothesis. There is a significant difference in student performance between the teaching methods.\n",
      "t-statistic: 2.7161\n",
      "p-value: 0.0078\n"
     ]
    }
   ],
   "source": [
    "import scipy.stats as stats\n",
    "\n",
    "sample_a_mean = 85\n",
    "sample_a_std_dev = 6\n",
    "sample_a_size = 50\n",
    "\n",
    "sample_b_mean = 82\n",
    "sample_b_std_dev = 5\n",
    "sample_b_size = 50\n",
    "\n",
    "significance_level = 0.01\n",
    "\n",
    "\n",
    "t_statistic, p_value = stats.ttest_ind_from_stats(sample_a_mean, sample_a_std_dev, sample_a_size,\n",
    "                                                  sample_b_mean, sample_b_std_dev, sample_b_size)\n",
    "\n",
    "\n",
    "if p_value < significance_level:\n",
    "    print(\"Reject the null hypothesis. There is a significant difference in student performance between the teaching methods.\")\n",
    "else:\n",
    "    print(\"Fail to reject the null hypothesis. There is no significant difference in student performance between the teaching methods.\")\n",
    "\n",
    "print(\"t-statistic: {:.4f}\".format(t_statistic))\n",
    "print(\"p-value: {:.4f}\".format(p_value))\n"
   ]
  },
  {
   "cell_type": "raw",
   "id": "334d3c7a",
   "metadata": {},
   "source": [
    "Q13. A population has a mean of 60 and a standard deviation of 8. A sample of 50 observations has a mean of 65. Calculate the 90% confidence interval for the true population mean."
   ]
  },
  {
   "cell_type": "code",
   "execution_count": 1,
   "id": "783f78ec",
   "metadata": {},
   "outputs": [
    {
     "name": "stdout",
     "output_type": "stream",
     "text": [
      "Confidence Interval: [63.10, 66.90]\n"
     ]
    }
   ],
   "source": [
    "import scipy.stats as stats\n",
    "import math\n",
    "\n",
    "population_mean = 60\n",
    "population_std_dev = 8\n",
    "sample_mean = 65\n",
    "sample_size = 50\n",
    "confidence_level = 0.9\n",
    "\n",
    "degrees_of_freedom = sample_size - 1\n",
    "critical_value = stats.t.ppf((1 + confidence_level) / 2, degrees_of_freedom)\n",
    "\n",
    "\n",
    "standard_error = population_std_dev / math.sqrt(sample_size)\n",
    "\n",
    "lower_bound = sample_mean - (critical_value * standard_error)\n",
    "upper_bound = sample_mean + (critical_value * standard_error)\n",
    "\n",
    "print(\"Confidence Interval: [{:.2f}, {:.2f}]\".format(lower_bound, upper_bound))\n"
   ]
  },
  {
   "cell_type": "raw",
   "id": "c05e6d49",
   "metadata": {},
   "source": [
    "Q14. In a study of the effects of caffeine on reaction time, a sample of 30 participants had an average reaction time of 0.25 seconds with a standard deviation of 0.05 seconds. Conduct a hypothesis test to determine if the caffeine has a significant effect on reaction time at a 90% confidence level using a t-test."
   ]
  },
  {
   "cell_type": "raw",
   "id": "2ceb71c4",
   "metadata": {},
   "source": [
    "Ans: Null hypothesis (H0): The mean reaction time is equal to 0.25 seconds.\n",
    "Alternative hypothesis (Ha): The mean reaction time is not equal to 0.25 seconds."
   ]
  },
  {
   "cell_type": "code",
   "execution_count": 10,
   "id": "b028af15",
   "metadata": {},
   "outputs": [
    {
     "name": "stdout",
     "output_type": "stream",
     "text": [
      "T_statistics: 0.0\n",
      "critical_value: 1.6991270265334972\n",
      "Fail to reject the null hypothesis. There is insufficient evidence to conclude that caffeine has a significant effect on reaction time.\n"
     ]
    }
   ],
   "source": [
    "import scipy.stats as stats\n",
    "\n",
    "n = 30\n",
    "sample_mean = 0.25\n",
    "sample_std = 0.05\n",
    "\n",
    "null_hypothesis = 0.25\n",
    "alpha = 0.1\n",
    "\n",
    "t = (sample_mean - null_hypothesis)/(sample_std/n**0.5)\n",
    "\n",
    "\n",
    "\n",
    "critical_value = stats.t.ppf(1-alpha/2,df = n-1)\n",
    "print(\"T_statistics:\",t)\n",
    "print(\"critical_value:\",critical_value)\n",
    "\n",
    "\n",
    "if abs(t) > critical_value:\n",
    "    print(\"Reject the null hypothesis. Caffeine has a significant effect on reaction time.\")\n",
    "else:\n",
    "    print(\"Fail to reject the null hypothesis. There is insufficient evidence to conclude that caffeine has a significant effect on reaction time.\")"
   ]
  },
  {
   "cell_type": "code",
   "execution_count": null,
   "id": "d56051ac",
   "metadata": {},
   "outputs": [],
   "source": []
  },
  {
   "cell_type": "code",
   "execution_count": null,
   "id": "3f3bfa4c",
   "metadata": {},
   "outputs": [],
   "source": []
  },
  {
   "cell_type": "code",
   "execution_count": null,
   "id": "938272f0",
   "metadata": {},
   "outputs": [],
   "source": []
  },
  {
   "cell_type": "code",
   "execution_count": null,
   "id": "d937a0a0",
   "metadata": {},
   "outputs": [],
   "source": []
  }
 ],
 "metadata": {
  "kernelspec": {
   "display_name": "Python 3 (ipykernel)",
   "language": "python",
   "name": "python3"
  },
  "language_info": {
   "codemirror_mode": {
    "name": "ipython",
    "version": 3
   },
   "file_extension": ".py",
   "mimetype": "text/x-python",
   "name": "python",
   "nbconvert_exporter": "python",
   "pygments_lexer": "ipython3",
   "version": "3.9.13"
  }
 },
 "nbformat": 4,
 "nbformat_minor": 5
}
