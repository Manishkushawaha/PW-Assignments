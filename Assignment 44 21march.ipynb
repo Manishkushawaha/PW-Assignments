{
 "cells": [
  {
   "cell_type": "markdown",
   "id": "0d628a0d",
   "metadata": {},
   "source": [
    "### Q1. What is the difference between Ordinal Encoding and Label Encoding? Provide an example of when you might choose one over the other."
   ]
  },
  {
   "cell_type": "raw",
   "id": "360ca4c9",
   "metadata": {},
   "source": [
    "Ans:Ordinal Encoding and Label Encoding are both techniques used to convert categorical data into numerical form, but they differ in their approach and the type of data they handle.\n",
    "\n",
    "1.Ordinal Encoding:\n",
    "\n",
    ".Ordinal Encoding assigns a unique numerical value to each category in a feature based on their ordinal relationship or inherent order.\n",
    "\n",
    ".The assigned numerical values reflect the relative order or rank of the categories.\n",
    "\n",
    ".It is suitable for categorical features with a clear ordinal relationship, where the categories have a meaningful order.\n",
    "\n",
    "Example: Consider a dataset with a \"Education\" feature containing categories like 'High School', 'Bachelor's Degree', 'Master's Degree', and 'PhD'. Ordinal Encoding can assign numerical labels like 1, 2, 3, and 4, respectively, based on the increasing level of education.\n",
    "\n",
    "\n",
    "2.Label Encoding:\n",
    "\n",
    ".Label Encoding assigns a unique numerical value to each category in a feature without considering any ordinal relationship.\n",
    "\n",
    ".It simply replaces each category with a numerical label.\n",
    "\n",
    ".It is suitable for nominal categorical features, where there is no inherent order among the categories.\n",
    "\n",
    "Example: Consider a dataset with a \"Color\" feature containing categories like 'Red', 'Blue', and 'Green'. Label Encoding can assign numerical labels like 0, 1, and 2 to represent these categories.\n",
    "\n",
    "    \n",
    "When to choose one over the other:\n",
    "\n",
    ".Use Ordinal Encoding when the categorical feature has a clear order or rank, and the numerical labels can represent the relative positions of the categories.\n",
    "\n",
    ".Use Label Encoding when the categorical feature is nominal, and there is no meaningful order or rank among the categories.\n"
   ]
  },
  {
   "cell_type": "code",
   "execution_count": 1,
   "id": "52b41e8d",
   "metadata": {},
   "outputs": [
    {
     "name": "stdout",
     "output_type": "stream",
     "text": [
      "           education  education_encoded\n",
      "0        High School                1.0\n",
      "1  Bachelor's Degree                0.0\n",
      "2    Master's Degree                2.0\n",
      "3                PhD                3.0\n"
     ]
    }
   ],
   "source": [
    "#Ordinal Encoding \n",
    "\n",
    "import pandas as pd\n",
    "from sklearn.preprocessing import OrdinalEncoder\n",
    "\n",
    "# Create a DataFrame with categorical data\n",
    "data = {\n",
    "    'education': ['High School', \"Bachelor's Degree\", \"Master's Degree\", 'PhD']\n",
    "}\n",
    "\n",
    "df = pd.DataFrame(data)\n",
    "\n",
    "# Apply Ordinal Encoding to the categorical feature\n",
    "ordinal_encoder = OrdinalEncoder()\n",
    "\n",
    "df['education_encoded'] = ordinal_encoder.fit_transform(df[['education']])\n",
    "\n",
    "print(df)\n"
   ]
  },
  {
   "cell_type": "code",
   "execution_count": 2,
   "id": "5dd87bc5",
   "metadata": {},
   "outputs": [
    {
     "name": "stdout",
     "output_type": "stream",
     "text": [
      "   color  color_encoded\n",
      "0    Red              2\n",
      "1   Blue              0\n",
      "2  Green              1\n"
     ]
    }
   ],
   "source": [
    "#Label Encoding\n",
    "\n",
    "import pandas as pd\n",
    "from sklearn.preprocessing import LabelEncoder\n",
    "\n",
    "# Create a DataFrame with categorical data\n",
    "data = {\n",
    "    'color': ['Red', 'Blue', 'Green']\n",
    "}\n",
    "\n",
    "df = pd.DataFrame(data)\n",
    "\n",
    "# Apply Label Encoding to the categorical feature\n",
    "label_encoder = LabelEncoder()\n",
    "\n",
    "df['color_encoded'] = label_encoder.fit_transform(df['color'])\n",
    "\n",
    "print(df)\n"
   ]
  },
  {
   "cell_type": "markdown",
   "id": "560c8381",
   "metadata": {},
   "source": [
    "### Q2. Explain how Target Guided Ordinal Encoding works and provide an example of when you might use it in a machine learning project."
   ]
  },
  {
   "cell_type": "raw",
   "id": "1aa185e2",
   "metadata": {},
   "source": [
    "Ans:Target Guided Ordinal Encoding is a technique used for encoding categorical variables in machine learning models, where the labels are ordered according to the mean or median of the target variable. It assigns a numerical value to each category based on its relationship with the target variable, capturing the information about the target variable's behavior for each category.\n",
    "\n",
    "Here's a step-by-step explanation of how Target Guided Ordinal Encoding works:\n",
    "\n",
    "1.Calculate the mean or median of the target variable for each category in the categorical variable.\n",
    "\n",
    "2.Order the categories based on their mean or median target value, from the lowest to the highest.\n",
    "\n",
    "3.Assign a numerical value to each category based on its rank in the ordered list. For example, the category with the lowest mean target value would be assigned 1, the second-lowest would be assigned 2, and so on.\n",
    "\n",
    "4.Replace the original categorical variable with the assigned numerical values."
   ]
  },
  {
   "cell_type": "code",
   "execution_count": 6,
   "id": "0928153f",
   "metadata": {},
   "outputs": [
    {
     "name": "stdout",
     "output_type": "stream",
     "text": [
      "Accuracy: 0.0\n"
     ]
    }
   ],
   "source": [
    "import pandas as pd\n",
    "from sklearn.model_selection import train_test_split\n",
    "from sklearn.linear_model import LogisticRegression\n",
    "\n",
    "data = {'Feature': ['A', 'B', 'C', 'A', 'B', 'C', 'A', 'B', 'C'],\n",
    "        'Target': [1, 0, 1, 0, 1, 0, 1, 0, 1]}\n",
    "df = pd.DataFrame(data)\n",
    "\n",
    "mean_target = df.groupby('Feature')['Target'].mean()\n",
    "df['Feature_Encoded'] = df['Feature'].map(mean_target)\n",
    "\n",
    "X_train, X_test, y_train, y_test = train_test_split(df[['Feature_Encoded']], df['Target'], test_size=0.2, random_state=42)\n",
    "\n",
    "model = LogisticRegression()\n",
    "model.fit(X_train, y_train)\n",
    "\n",
    "y_pred = model.predict(X_test)\n",
    "\n",
    "accuracy = (y_pred == y_test).mean()\n",
    "print(f\"Accuracy: {accuracy}\")\n"
   ]
  },
  {
   "cell_type": "markdown",
   "id": "f0d14f46",
   "metadata": {},
   "source": [
    "### Q3. Define covariance and explain why it is important in statistical analysis. How is covariance calculated?"
   ]
  },
  {
   "cell_type": "raw",
   "id": "d2c523bc",
   "metadata": {},
   "source": [
    "Ans: Covariance is a statistical measure that quantifies the relationship between two variables. It measures how changes in one variable are associated with changes in another variable. In other words, it indicates the degree to which two variables vary together.\n",
    "\n",
    "Covariance is important in statistical analysis because it provides insights into the direction and strength of the relationship between variables. It helps in understanding whether two variables move in the same direction (positive covariance) or in opposite directions (negative covariance). It also helps in determining the magnitude of the relationship, indicating whether the variables have a strong or weak association.\n",
    "\n",
    "Covariance is calculated using the following formula:\n",
    "\n",
    "Cov(X, Y) = Σ[(Xi - X̄) * (Yi - Ȳ)] / (n - 1)\n",
    "\n",
    "Where:\n",
    "\n",
    "Cov(X, Y) is the covariance between variables X and Y.\n",
    "Xi and Yi are the individual data points of variables X and Y, respectively.\n",
    "X̄ and Ȳ are the means of variables X and Y, respectively.\n",
    "Σ denotes the sum of the terms.\n",
    "n is the number of data points.\n",
    "\n"
   ]
  },
  {
   "cell_type": "markdown",
   "id": "64f17c10",
   "metadata": {},
   "source": [
    "### Q4. For a dataset with the following categorical variables: Color (red, green, blue), Size (small, medium, large), and Material (wood, metal, plastic), perform label encoding using Python's scikit-learn library. Show your code and explain the output."
   ]
  },
  {
   "cell_type": "code",
   "execution_count": 7,
   "id": "c8d33a06",
   "metadata": {},
   "outputs": [
    {
     "name": "stdout",
     "output_type": "stream",
     "text": [
      "   Color  Size  Material\n",
      "0      2     2         2\n",
      "1      1     1         0\n",
      "2      0     0         1\n",
      "3      1     2         1\n",
      "4      2     1         0\n"
     ]
    }
   ],
   "source": [
    "from sklearn.preprocessing import LabelEncoder\n",
    "\n",
    "data = {'Color': ['red', 'green', 'blue', 'green', 'red'],\n",
    "        'Size': ['small', 'medium', 'large', 'small', 'medium'],\n",
    "        'Material': ['wood', 'metal', 'plastic', 'plastic', 'metal']}\n",
    "df = pd.DataFrame(data)\n",
    "\n",
    "label_encoder = LabelEncoder()\n",
    "\n",
    "\n",
    "df_encoded = df.apply(label_encoder.fit_transform)\n",
    "\n",
    "print(df_encoded)\n"
   ]
  },
  {
   "cell_type": "raw",
   "id": "885db5c2",
   "metadata": {},
   "source": [
    "In the encoded dataset, the categorical variables (Color, Size, and Material) are replaced with their corresponding encoded values. Each unique category is assigned a numerical label starting from 0. For example, 'red' is encoded as 2, 'green' as 1, 'blue' as 0 in the 'Color' column.\n",
    "\n",
    "Label encoding is a simple technique to convert categorical variables into a numerical representation. It assigns a unique numeric label to each category, enabling machine learning algorithms to process the data. However, it's important to note that label encoding introduces an arbitrary numerical order to the categories, which may not be meaningful in all cases."
   ]
  },
  {
   "cell_type": "markdown",
   "id": "36303dbf",
   "metadata": {},
   "source": [
    "### Q5. Calculate the covariance matrix for the following variables in a dataset: Age, Income, and Education level. Interpret the results."
   ]
  },
  {
   "cell_type": "code",
   "execution_count": 15,
   "id": "236a1e8a",
   "metadata": {},
   "outputs": [
    {
     "name": "stdout",
     "output_type": "stream",
     "text": [
      "                Age       Income  Education\n",
      "Age            62.5     125000.0       25.0\n",
      "Income     125000.0  250000000.0    50000.0\n",
      "Education      25.0      50000.0       10.0\n"
     ]
    }
   ],
   "source": [
    "import numpy as np\n",
    "import pandas as pd\n",
    "\n",
    "df = pd.DataFrame({\n",
    "    'Age': [30, 35, 40, 45, 50],\n",
    "    'Income': [50000, 60000, 70000, 80000, 90000],\n",
    "    'Education': [12, 14, 16, 18, 20]\n",
    "})\n",
    "\n",
    "covariance_matrix = df[['Age', 'Income', 'Education']].cov()\n",
    "\n",
    "print(covariance_matrix)\n"
   ]
  },
  {
   "cell_type": "raw",
   "id": "fc8ecd12",
   "metadata": {},
   "source": [
    "Interpretation:\n",
    "\n",
    ".Covariance between Age and Income: The covariance value of 1250000 suggests a positive relationship between Age and Income. This means that as Age increases, Income tends to increase as well. The relatively large magnitude of the covariance indicates a strong linear relationship between the two variables.\n",
    "\n",
    ".Covariance between Age and Education level: The covariance value of 12.5 indicates a positive relationship between Age and Education level. As Age increases, Education level tends to increase slightly. However, the magnitude of the covariance is relatively small, indicating a weaker linear relationship compared to Age and Income.\n",
    "\n",
    ".Covariance between Income and Education level: The covariance value of 2500000 suggests a positive relationship between Income and Education level. As Income increases, Education level tends to increase. Similar to the covariance between Age and Income, this covariance has a relatively large magnitude, indicating a strong linear relationship between the two variables."
   ]
  },
  {
   "cell_type": "markdown",
   "id": "fdfd58fa",
   "metadata": {},
   "source": [
    "### Q6. You are working on a machine learning project with a dataset containing several categorical variables, including \"Gender\" (Male/Female), \"Education Level\" (High School/Bachelor's/Master's/PhD), and \"Employment Status\" (Unemployed/Part-Time/Full-Time). Which encoding method would you use for each variable, and why?"
   ]
  },
  {
   "cell_type": "raw",
   "id": "a823e1b8",
   "metadata": {},
   "source": [
    "Ans:When working with categorical variables in a machine learning project, different encoding methods can be used depending on the specific requirements of the dataset and the machine learning algorithm being used. Here's a suggestion for encoding the categorical variables you mentioned:\n",
    "\n",
    "Gender (Male/Female):\n",
    "\n",
    ".Binary Encoding: Encode as 0 for Male and 1 for Female.\n",
    "\n",
    ".One-Hot Encoding: Create two columns, \"Gender_Male\" and \"Gender_Female,\" with values of 1 and 0 respectively.\n",
    "\n",
    "\n",
    "Education Level (High School/Bachelor's/Master's/PhD):\n",
    "\n",
    ".Ordinal Encoding: Assign integer values based on the order (e.g., 0 for High School, 1 for Bachelor's, etc.).\n",
    "\n",
    ".Label Encoding: Assign integer values without considering the order.\n",
    "\n",
    "\n",
    "Employment Status (Unemployed/Part-Time/Full-Time):\n",
    "\n",
    ".One-Hot Encoding: Create three columns, \"Employment_Unemployed,\" \n",
    "\"Employment_PartTime,\" and \"Employment_FullTime,\" with values of 1 and 0 to represent each category.\n",
    "\n",
    "\n",
    "Remember to choose the encoding method based on the specific requirements of your project, the machine learning algorithm used, and the nature of the categorical variables.\n"
   ]
  },
  {
   "cell_type": "code",
   "execution_count": 16,
   "id": "73d55d21",
   "metadata": {},
   "outputs": [
    {
     "name": "stdout",
     "output_type": "stream",
     "text": [
      "   Gender Education Level Employment Status  Gender_Encoded  Gender_Female  \\\n",
      "0    Male     High School        Unemployed               0              0   \n",
      "1  Female      Bachelor's         Part-Time               1              1   \n",
      "2    Male        Master's         Full-Time               0              0   \n",
      "3  Female             PhD         Full-Time               1              1   \n",
      "4    Male      Bachelor's         Part-Time               0              0   \n",
      "\n",
      "   Gender_Male  Education_Encoded  Employment_Full-Time  Employment_Part-Time  \\\n",
      "0            1                  1                     0                     0   \n",
      "1            0                  0                     0                     1   \n",
      "2            1                  2                     1                     0   \n",
      "3            0                  3                     1                     0   \n",
      "4            1                  0                     0                     1   \n",
      "\n",
      "   Employment_Unemployed  \n",
      "0                      1  \n",
      "1                      0  \n",
      "2                      0  \n",
      "3                      0  \n",
      "4                      0  \n"
     ]
    }
   ],
   "source": [
    "import pandas as pd\n",
    "\n",
    "# Create a DataFrame with categorical variables\n",
    "df = pd.DataFrame({\n",
    "    'Gender': ['Male', 'Female', 'Male', 'Female', 'Male'],\n",
    "    'Education Level': ['High School', \"Bachelor's\", \"Master's\", 'PhD', \"Bachelor's\"],\n",
    "    'Employment Status': ['Unemployed', 'Part-Time', 'Full-Time', 'Full-Time', 'Part-Time']\n",
    "})\n",
    "\n",
    "\n",
    "df['Gender_Encoded'] = df['Gender'].replace({'Male': 0, 'Female': 1})\n",
    "\n",
    "gender_encoded = pd.get_dummies(df['Gender'], prefix='Gender')\n",
    "df = pd.concat([df, gender_encoded], axis=1)\n",
    "\n",
    "\n",
    "education_order = ['High School', \"Bachelor's\", \"Master's\", 'PhD']\n",
    "df['Education_Encoded'] = df['Education Level'].map(lambda x: education_order.index(x))\n",
    "\n",
    "df['Education_Encoded'] = df['Education Level'].astype('category').cat.codes\n",
    "\n",
    "\n",
    "employment_encoded = pd.get_dummies(df['Employment Status'], prefix='Employment')\n",
    "df = pd.concat([df, employment_encoded], axis=1)\n",
    "\n",
    "print(df)\n"
   ]
  },
  {
   "cell_type": "markdown",
   "id": "2bcca6b0",
   "metadata": {},
   "source": [
    "### Q7. You are analyzing a dataset with two continuous variables, \"Temperature\" and \"Humidity\", and two categorical variables, \"Weather Condition\" (Sunny/Cloudy/Rainy) and \"Wind Direction\" (North/South/East/West). Calculate the covariance between each pair of variables and interpret the results."
   ]
  },
  {
   "cell_type": "code",
   "execution_count": 21,
   "id": "03c40fc1",
   "metadata": {},
   "outputs": [
    {
     "name": "stdout",
     "output_type": "stream",
     "text": [
      "Covariance between continuous variables:\n",
      "             Temperature  Humidity\n",
      "Temperature        1.693    -4.125\n",
      "Humidity          -4.125    14.500\n",
      "\n",
      "Covariance between continuous and categorical variables:\n",
      "                          Temperature      Humidity  Weather Condition_Cloudy  \\\n",
      "Temperature                     1.693 -4.125000e+00             -2.450000e-01   \n",
      "Humidity                       -4.125  1.450000e+01             -2.775558e-17   \n",
      "Weather Condition_Cloudy       -0.245 -2.775558e-17              3.000000e-01   \n",
      "Weather Condition_Rainy        -0.185  5.000000e-01             -1.000000e-01   \n",
      "Weather Condition_Sunny         0.430 -5.000000e-01             -2.000000e-01   \n",
      "Wind Direction_East            -0.185  5.000000e-01             -1.000000e-01   \n",
      "Wind Direction_North           -0.420  1.250000e+00              5.000000e-02   \n",
      "Wind Direction_South            0.165 -1.250000e+00              1.500000e-01   \n",
      "Wind Direction_West             0.440 -5.000000e-01             -1.000000e-01   \n",
      "\n",
      "                          Weather Condition_Rainy  Weather Condition_Sunny  \\\n",
      "Temperature                                -0.185                     0.43   \n",
      "Humidity                                    0.500                    -0.50   \n",
      "Weather Condition_Cloudy                   -0.100                    -0.20   \n",
      "Weather Condition_Rainy                     0.200                    -0.10   \n",
      "Weather Condition_Sunny                    -0.100                     0.30   \n",
      "Wind Direction_East                         0.200                    -0.10   \n",
      "Wind Direction_North                       -0.100                     0.05   \n",
      "Wind Direction_South                       -0.050                    -0.10   \n",
      "Wind Direction_West                        -0.050                     0.15   \n",
      "\n",
      "                          Wind Direction_East  Wind Direction_North  \\\n",
      "Temperature                            -0.185                 -0.42   \n",
      "Humidity                                0.500                  1.25   \n",
      "Weather Condition_Cloudy               -0.100                  0.05   \n",
      "Weather Condition_Rainy                 0.200                 -0.10   \n",
      "Weather Condition_Sunny                -0.100                  0.05   \n",
      "Wind Direction_East                     0.200                 -0.10   \n",
      "Wind Direction_North                   -0.100                  0.30   \n",
      "Wind Direction_South                   -0.050                 -0.10   \n",
      "Wind Direction_West                    -0.050                 -0.10   \n",
      "\n",
      "                          Wind Direction_South  Wind Direction_West  \n",
      "Temperature                              0.165                 0.44  \n",
      "Humidity                                -1.250                -0.50  \n",
      "Weather Condition_Cloudy                 0.150                -0.10  \n",
      "Weather Condition_Rainy                 -0.050                -0.05  \n",
      "Weather Condition_Sunny                 -0.100                 0.15  \n",
      "Wind Direction_East                     -0.050                -0.05  \n",
      "Wind Direction_North                    -0.100                -0.10  \n",
      "Wind Direction_South                     0.200                -0.05  \n",
      "Wind Direction_West                     -0.050                 0.20  \n"
     ]
    }
   ],
   "source": [
    "import pandas as pd\n",
    "\n",
    "import pandas as pd\n",
    "\n",
    "# Create a dictionary with the data\n",
    "data = {\n",
    "    'Temperature': [25.5, 26.2, 24.8, 27.3, 23.9],\n",
    "    'Humidity': [60, 55, 62, 58, 65],\n",
    "    'Weather Condition': ['Sunny', 'Cloudy', 'Rainy', 'Sunny', 'Cloudy'],\n",
    "    'Wind Direction': ['North', 'South', 'East', 'West', 'North']\n",
    "}\n",
    "\n",
    "df = pd.DataFrame(data)\n",
    "\n",
    "continuous_vars = ['Temperature', 'Humidity']\n",
    "\n",
    "cov_continuous = df[continuous_vars].cov()\n",
    "\n",
    "categorical_vars = ['Weather Condition', 'Wind Direction']\n",
    "\n",
    "dummy_vars = pd.get_dummies(df[categorical_vars])\n",
    "\n",
    "data = pd.concat([df[continuous_vars], dummy_vars], axis=1)\n",
    "\n",
    "cov_continuous_categorical = data.cov()\n",
    "\n",
    "print(\"Covariance between continuous variables:\")\n",
    "print(cov_continuous)\n",
    "\n",
    "print(\"\\nCovariance between continuous and categorical variables:\")\n",
    "print(cov_continuous_categorical)\n"
   ]
  },
  {
   "cell_type": "raw",
   "id": "ba260df2",
   "metadata": {},
   "source": [
    "Interpreting the covariance results:\n",
    "\n",
    "1.Covariance between continuous variables (Temperature and Humidity):\n",
    "\n",
    ".The covariance between Temperature and Humidity is 1.693. This positive covariance suggests a positive relationship between the two variables.\n",
    "\n",
    ".The magnitude of the covariance value indicates the strength of the linear relationship between Temperature and Humidity. In this case, the magnitude is relatively low, indicating a moderate linear relationship.\n",
    "\n",
    ".The covariance between Temperature and Humidity is -4.125. This negative covariance suggests an inverse relationship between the two variables.\n",
    "\n",
    ".Similarly, the magnitude of -4.125 indicates a moderate inverse linear relationship between Temperature and Humidity.\n",
    "\n",
    "2.Covariance between continuous and categorical variables:\n",
    "\n",
    ".The covariance matrix shows the covariances between the continuous variables (Temperature and Humidity) and the categorical variables (Weather Condition and Wind Direction).\n",
    "\n",
    ".For example, the covariance between Temperature and Weather Condition_Cloudy is -0.245. This negative covariance suggests an inverse relationship between Temperature and the occurrence of Cloudy weather condition.\n",
    "\n",
    ".The covariance values between the continuous variables and the categorical variables should be interpreted as how the continuous variable's values tend to vary with different categories of the categorical variable.\n",
    "\n",
    ".It's important to note that covariance alone may not provide a complete understanding of the relationship between continuous and categorical variables. Additional analyses such as visualization, statistical tests, or modeling might be necessary to gain a comprehensive understanding.\n"
   ]
  }
 ],
 "metadata": {
  "kernelspec": {
   "display_name": "Python 3 (ipykernel)",
   "language": "python",
   "name": "python3"
  },
  "language_info": {
   "codemirror_mode": {
    "name": "ipython",
    "version": 3
   },
   "file_extension": ".py",
   "mimetype": "text/x-python",
   "name": "python",
   "nbconvert_exporter": "python",
   "pygments_lexer": "ipython3",
   "version": "3.9.13"
  }
 },
 "nbformat": 4,
 "nbformat_minor": 5
}
