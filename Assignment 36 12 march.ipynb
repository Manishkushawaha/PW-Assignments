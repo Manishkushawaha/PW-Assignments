{
 "cells": [
  {
   "cell_type": "raw",
   "id": "3faec23a",
   "metadata": {},
   "source": [
    "Q1. Calculate the 95% confidence interval for a sample of data with a mean of 50 and a standard deviation of 5 using Python. Interpret the results."
   ]
  },
  {
   "cell_type": "code",
   "execution_count": 1,
   "id": "77e2bd88",
   "metadata": {},
   "outputs": [
    {
     "name": "stdout",
     "output_type": "stream",
     "text": [
      "Confidence Interval: (49.02001800772997, 50.97998199227003)\n"
     ]
    }
   ],
   "source": [
    "import scipy.stats as stats\n",
    "\n",
    "sample_mean = 50\n",
    "sample_std = 5\n",
    "sample_size = 100  \n",
    "\n",
    "confidence_level = 0.95\n",
    "z_score = stats.norm.ppf((1 + confidence_level) / 2) \n",
    "\n",
    "margin_of_error = z_score * (sample_std / (sample_size ** 0.5))  \n",
    "\n",
    "lower_bound = sample_mean - margin_of_error  \n",
    "upper_bound = sample_mean + margin_of_error  \n",
    "\n",
    "confidence_interval = (lower_bound, upper_bound)  \n",
    "\n",
    "print(\"Confidence Interval:\", confidence_interval)\n"
   ]
  },
  {
   "cell_type": "raw",
   "id": "aaeeae99",
   "metadata": {},
   "source": [
    "Interpretation: This means that we can be 95% confident that the true population mean lies within the range of 49.02 to 50.97 based on the given sample."
   ]
  },
  {
   "cell_type": "raw",
   "id": "14250719",
   "metadata": {},
   "source": [
    "Q2. Conduct a chi-square goodness of fit test to determine if the distribution of colors of M&Ms in a bag matches the expected distribution of 20% blue, 20% orange, 20% green, 10% yellow, 10% red, and 20% brown. Use Python to perform the test with a significance level of 0.05."
   ]
  },
  {
   "cell_type": "code",
   "execution_count": 3,
   "id": "6675f41f",
   "metadata": {},
   "outputs": [
    {
     "name": "stdout",
     "output_type": "stream",
     "text": [
      "There is no evidence to reject the null hypothesis.\n",
      "Chi-square statistic: 10.833333333333334\n",
      "p-value: 0.054786483102389184\n"
     ]
    }
   ],
   "source": [
    "import scipy.stats as stats\n",
    "\n",
    "observed_values = [45, 30, 25, 15, 10, 25] \n",
    "expected_values = [0.2, 0.2, 0.2, 0.1, 0.1, 0.2] \n",
    "\n",
    "\n",
    "\n",
    "total_observed_count = sum(observed_values)\n",
    "expected_frequencies = [expected_value * total_observed_count for expected_value in expected_values]\n",
    "\n",
    "\n",
    "chi2, p_value = stats.chisquare(observed_values, expected_frequencies)\n",
    "\n",
    "\n",
    "significance_level = 0.05\n",
    "if p_value < significance_level:\n",
    "    print(\"There is evidence to reject the null hypothesis.\")\n",
    "else:\n",
    "    print(\"There is no evidence to reject the null hypothesis.\")\n",
    "\n",
    "print(\"Chi-square statistic:\", chi2)\n",
    "print(\"p-value:\", p_value)\n"
   ]
  },
  {
   "cell_type": "raw",
   "id": "5ed92248",
   "metadata": {},
   "source": [
    "Q3. Use Python to calculate the chi-square statistic and p-value for a contingency table with the following data:\n",
    "    \n",
    "          Group A   Group B \n",
    "\n",
    "Outcome_1    20       15\n",
    "\n",
    "Outcome_2    10       25\n",
    "\n",
    "Outcome_3    15       20\n",
    "\n",
    "Interpret the results of the test"
   ]
  },
  {
   "cell_type": "code",
   "execution_count": 4,
   "id": "76ab730d",
   "metadata": {},
   "outputs": [
    {
     "name": "stdout",
     "output_type": "stream",
     "text": [
      "There is no evidence to reject the null hypothesis.\n",
      "Chi-square statistic: 5.833333333333334\n",
      "p-value: 0.05411376622282158\n"
     ]
    }
   ],
   "source": [
    "import numpy as np\n",
    "import scipy.stats as stats\n",
    "\n",
    "# Create the contingency table\n",
    "observed_values = np.array([[20, 15], [10, 25], [15, 20]])\n",
    "\n",
    "\n",
    "chi2, p_value= stats.chi2_contingency(observed_values)\n",
    "\n",
    "\n",
    "significance_level = 0.05\n",
    "\n",
    "if p_value < significance_level:\n",
    "    print(\"There is evidence to reject the null hypothesis.\")\n",
    "else:\n",
    "    print(\"There is no evidence to reject the null hypothesis.\")\n",
    "\n",
    "print(\"Chi-square statistic:\", chi2)\n",
    "print(\"p-value:\", p_value)\n"
   ]
  },
  {
   "cell_type": "raw",
   "id": "bac55b4c",
   "metadata": {},
   "source": [
    "Interpretation:\n",
    "Based on the results of the test, if the p-value is less than the chosen significance level (e.g., 0.05), we can conclude that there is evidence to reject the null hypothesis. This means that there is a statistically significant association between the groups (Group A and Group B) and the outcomes (Outcome_1, Outcome_2, Outcome_3). Conversely, if the p-value is greater than the significance level, we do not have enough evidence to reject the null hypothesis, suggesting that there is no significant association between the groups and outcomes. The chi-square statistic provides a measure of the strength of the association between the variables."
   ]
  },
  {
   "cell_type": "code",
   "execution_count": null,
   "id": "e2193525",
   "metadata": {},
   "outputs": [],
   "source": [
    "Q4.A study of the prevalence of smoking in a population of 500 individuals found that 60 individuals \n",
    "smoked. Use Python to calculate the 95% confidence interval for the true proportion of individuals in the \n",
    "population who smoke."
   ]
  },
  {
   "cell_type": "code",
   "execution_count": 6,
   "id": "47aee5ca",
   "metadata": {},
   "outputs": [
    {
     "name": "stdout",
     "output_type": "stream",
     "text": [
      "Confidence Interval: (0.09151638887130706, 0.14848361112869293)\n"
     ]
    }
   ],
   "source": [
    "import statsmodels.stats.proportion as proportion\n",
    "\n",
    "sample_size = 500\n",
    "observed_smokers = 60\n",
    "\n",
    "\n",
    "sample_proportion = observed_smokers / sample_size\n",
    "\n",
    "\n",
    "confidence_interval = proportion.proportion_confint(observed_smokers, sample_size, alpha=0.05, method='normal')\n",
    "\n",
    "print(\"Confidence Interval:\", confidence_interval)\n"
   ]
  },
  {
   "cell_type": "raw",
   "id": "4c52a955",
   "metadata": {},
   "source": [
    "Q5. Calculate the 90% confidence interval for a sample of data with a mean of 75 and a standard deviation of 12 using Python. Interpret the results."
   ]
  },
  {
   "cell_type": "code",
   "execution_count": 7,
   "id": "4ea3fdf5",
   "metadata": {},
   "outputs": [
    {
     "name": "stdout",
     "output_type": "stream",
     "text": [
      "Confidence Interval: (73.02617564765823, 76.97382435234177)\n"
     ]
    }
   ],
   "source": [
    "import scipy.stats as stats\n",
    "\n",
    "sample_mean = 75\n",
    "sample_std = 12\n",
    "sample_size = 100\n",
    "\n",
    "confidence_level = 0.90\n",
    "z_score = stats.norm.ppf((1 + confidence_level) / 2) \n",
    "\n",
    "margin_of_error = z_score * (sample_std / (sample_size ** 0.5)) \n",
    "\n",
    "lower_bound = sample_mean - margin_of_error \n",
    "upper_bound = sample_mean + margin_of_error  \n",
    "\n",
    "confidence_interval = (lower_bound, upper_bound)  \n",
    "\n",
    "print(\"Confidence Interval:\", confidence_interval)\n"
   ]
  },
  {
   "cell_type": "raw",
   "id": "7ea515e5",
   "metadata": {},
   "source": [
    "Interpretation: This means that we can be 90% confident that the true population mean lies within the range of 73.02 to 76.97 based on the given sample. In other words, if we were to repeat the sampling process multiple times and calculate the confidence intervals each time, we would expect approximately 90% of those intervals to contain the true population mean."
   ]
  },
  {
   "cell_type": "raw",
   "id": "29356218",
   "metadata": {},
   "source": [
    "Q6. Use Python to plot the chi-square distribution with 10 degrees of freedom. Label the axes and shade the area corresponding to a chi-square statistic of 15."
   ]
  },
  {
   "cell_type": "code",
   "execution_count": 8,
   "id": "b260a06f",
   "metadata": {},
   "outputs": [
    {
     "data": {
      "image/png": "[encoded data removed]",
      "text/plain": [
       "<Figure size 640x480 with 1 Axes>"
      ]
     },
     "metadata": {},
     "output_type": "display_data"
    }
   ],
   "source": [
    "import numpy as np\n",
    "import matplotlib.pyplot as plt\n",
    "import scipy.stats as stats\n",
    "\n",
    "df = 10  \n",
    "x = np.linspace(0, 30, 1000)\n",
    "\n",
    "pdf = stats.chi2.pdf(x, df)\n",
    "\n",
    "plt.plot(x, pdf, label=f\"df={df}\")\n",
    "\n",
    "\n",
    "x_fill = np.linspace(15, 30, 1000)\n",
    "pdf_fill = stats.chi2.pdf(x_fill, df)\n",
    "plt.fill_between(x_fill, pdf_fill, alpha=0.3)\n",
    "\n",
    "\n",
    "plt.xlabel(\"Chi-square statistic\")\n",
    "plt.ylabel(\"Probability Density Function\")\n",
    "plt.title(\"Chi-square Distribution\")\n",
    "\n",
    "plt.legend()\n",
    "plt.show()\n"
   ]
  },
  {
   "cell_type": "code",
   "execution_count": null,
   "id": "8c18d905",
   "metadata": {},
   "outputs": [],
   "source": [
    "Q7. A random sample of 1000 people was asked if they preferred Coke or Pepsi. Of the sample, 520 \n",
    "preferred Coke. Calculate a 99% confidence interval for the true proportion of people in the population who \n",
    "prefer Coke."
   ]
  },
  {
   "cell_type": "code",
   "execution_count": 9,
   "id": "30aebdcf",
   "metadata": {},
   "outputs": [
    {
     "name": "stdout",
     "output_type": "stream",
     "text": [
      "Confidence Interval: (0.4793051576779699, 0.5606948423220302)\n"
     ]
    }
   ],
   "source": [
    "import statsmodels.stats.proportion as proportion\n",
    "\n",
    "sample_size = 1000\n",
    "observed_preferred_coke = 520\n",
    "\n",
    "# Calculate the proportion of people who prefer Coke in the sample\n",
    "sample_proportion = observed_preferred_coke / sample_size\n",
    "\n",
    "# Calculate the confidence interval\n",
    "confidence_interval = proportion.proportion_confint(observed_preferred_coke, sample_size, alpha=0.01, method='normal')\n",
    "\n",
    "print(\"Confidence Interval:\", confidence_interval)\n"
   ]
  },
  {
   "cell_type": "raw",
   "id": "2f891aee",
   "metadata": {},
   "source": [
    "Interpretation: This means that we can be 99% confident that the true proportion of people in the population who prefer Coke lies within the range of 0.479 to 0.560 based on the observed data from the sample of 1000 people. In other words, if we were to repeat the sampling process multiple times and calculate the confidence intervals each time, we would expect approximately 99% of those intervals to contain the true population proportion."
   ]
  },
  {
   "cell_type": "raw",
   "id": "b9fb66a3",
   "metadata": {},
   "source": [
    "Q8. A researcher hypothesizes that a coin is biased towards tails. They flip the coin 100 times and observe 45 tails. Conduct a chi-square goodness of fit test to determine if the observed frequencies match the expected frequencies of a fair coin. Use a significance level of 0.05."
   ]
  },
  {
   "cell_type": "code",
   "execution_count": 15,
   "id": "42dcda58",
   "metadata": {},
   "outputs": [
    {
     "name": "stdout",
     "output_type": "stream",
     "text": [
      "There is no evidence to reject the null hypothesis.\n",
      "Chi-square statistic: 1.0\n",
      "p-value: 0.31731050786291115\n"
     ]
    }
   ],
   "source": [
    "import numpy as np\n",
    "import scipy.stats as stats\n",
    "\n",
    "observed_tails = 45\n",
    "expected_tails = 50  # Expected number of tails for a fair coin\n",
    "expected_heads = 50  # Expected number of heads for a fair coin\n",
    "\n",
    "# Create the observed and expected frequency arrays\n",
    "observed_freq = np.array([observed_tails, 100 - observed_tails])\n",
    "expected_freq = np.array([expected_tails, expected_heads])\n",
    "\n",
    "\n",
    "chi2, p_value = stats.chisquare(observed_freq, expected_freq)\n",
    "\n",
    "\n",
    "significance_level = 0.05\n",
    "if p_value < significance_level:\n",
    "    print(\"There is evidence to reject the null hypothesis.\")\n",
    "else:\n",
    "    print(\"There is no evidence to reject the null hypothesis.\")\n",
    "\n",
    "print(\"Chi-square statistic:\", chi2)\n",
    "print(\"p-value:\", p_value)\n"
   ]
  },
  {
   "cell_type": "raw",
   "id": "31ee9c7c",
   "metadata": {},
   "source": [
    "Q9. A study was conducted to determine if there is an association between smoking status (smoker or \n",
    "non-smoker) and lung cancer diagnosis (yes or no). The results are shown in the contingency table below. \n",
    "Conduct a chi-square test for independence to determine if there is a significant association between \n",
    "smoking status and lung cancer diagnosis.\n",
    "\n",
    "          Lung Cancer: Yes     Lung Cancer: No\n",
    "            \n",
    "Smoker         60                   140\n",
    "\n",
    "Non-smoker     30                   170\n",
    "\n",
    "Use a significance level of 0.05\n"
   ]
  },
  {
   "cell_type": "code",
   "execution_count": 13,
   "id": "927bd9b9",
   "metadata": {},
   "outputs": [
    {
     "name": "stdout",
     "output_type": "stream",
     "text": [
      "There is evidence to reject the null hypothesis.\n",
      "Chi-square statistic: 12.057347670250895\n",
      "p-value: 0.0005158863863703744\n"
     ]
    }
   ],
   "source": [
    "import numpy as np\n",
    "import scipy.stats as stats\n",
    "\n",
    "# Create the contingency table\n",
    "observed_values = np.array([[60, 140], [30, 170]])\n",
    "\n",
    "# Perform the chi-square test for independence\n",
    "chi2, p_value, _, _ = stats.chi2_contingency(observed_values)\n",
    "\n",
    "\n",
    "significance_level = 0.05\n",
    "if p_value < significance_level:\n",
    "    print(\"There is evidence to reject the null hypothesis.\")\n",
    "else:\n",
    "    print(\"There is no evidence to reject the null hypothesis.\")\n",
    "\n",
    "print(\"Chi-square statistic:\", chi2)\n",
    "print(\"p-value:\", p_value)\n"
   ]
  },
  {
   "cell_type": "raw",
   "id": "7d34229b",
   "metadata": {},
   "source": [
    "Interpretation: Based on the results of the test, if the p-value is less than the chosen significance level (e.g., 0.05), we can conclude that there is evidence to reject the null hypothesis. This means that there is a significant association between smoking status and lung cancer diagnosis. In other words, the occurrence of lung cancer differs significantly between smokers and non-smokers. Conversely, if the p-value is greater than the significance level, we do not have enough evidence to reject the null hypothesis, suggesting that there is no significant association between smoking status and lung cancer diagnosis. The chi-square statistic provides a measure of the strength of the association between the variables."
   ]
  },
  {
   "cell_type": "raw",
   "id": "e0c97f37",
   "metadata": {},
   "source": [
    "Q10. A study was conducted to determine if the proportion of people who prefer milk chocolate, dark chocolate, or white chocolate is different in the U.S. versus the U.K. A random sample of 500 people from the U.S. and a random sample of 500 people from the U.K. were surveyed. The results are shown in the contingency table below. Conduct a chi-square test for independence to determine if there is a significant association between chocolate preference and country of origin.\n",
    "\n",
    "\n",
    "              Milk Chocolate     Dark Chocolate     White Chocolate\n",
    "    \n",
    "U.S. (n=500)      200               150                  150\n",
    "\n",
    "U.K. (n=500)      225               175                  100\n",
    "\n",
    "Use a significance level of 0.01"
   ]
  },
  {
   "cell_type": "code",
   "execution_count": 12,
   "id": "6cd185c0",
   "metadata": {},
   "outputs": [
    {
     "name": "stdout",
     "output_type": "stream",
     "text": [
      "There is evidence to reject the null hypothesis.\n",
      "Chi-square statistic: 13.393665158371041\n",
      "p-value: 0.0012348168997745918\n"
     ]
    }
   ],
   "source": [
    "import numpy as np\n",
    "import scipy.stats as stats\n",
    "\n",
    "\n",
    "observed_values = np.array([[200, 150, 150], [225, 175, 100]])\n",
    "\n",
    "\n",
    "chi2, p_value, _, _ = stats.chi2_contingency(observed_values)\n",
    "\n",
    "\n",
    "significance_level = 0.01\n",
    "if p_value < significance_level:\n",
    "    print(\"There is evidence to reject the null hypothesis.\")\n",
    "else:\n",
    "    print(\"There is no evidence to reject the null hypothesis.\")\n",
    "\n",
    "print(\"Chi-square statistic:\", chi2)\n",
    "print(\"p-value:\", p_value)\n"
   ]
  },
  {
   "cell_type": "raw",
   "id": "58257dcd",
   "metadata": {},
   "source": [
    "Interpretation: The chi-square test for independence yielded a p-value less than 0.01, providing strong evidence to reject the null hypothesis. This indicates a significant association between chocolate preference and country of origin. Therefore, the proportion of people who prefer milk chocolate, dark chocolate, or white chocolate differs significantly between the U.S. and the U.K."
   ]
  },
  {
   "cell_type": "raw",
   "id": "4ba7bb85",
   "metadata": {},
   "source": [
    "Q11. A random sample of 30 people was selected from a population with an unknown mean and standard deviation. The sample mean was found to be 72 and the sample standard deviation was found to be 10. \n",
    "Conduct a hypothesis test to determine if the population mean is significantly different from 70. Use a significance level of 0.05."
   ]
  },
  {
   "cell_type": "code",
   "execution_count": 14,
   "id": "c8ad350d",
   "metadata": {},
   "outputs": [
    {
     "name": "stdout",
     "output_type": "stream",
     "text": [
      "There is no evidence to reject the null hypothesis.\n",
      "t-statistic: 1.0954451150103321\n",
      "p-value: 0.2823362372860698\n"
     ]
    }
   ],
   "source": [
    "import scipy.stats as stats\n",
    "\n",
    "sample_mean = 72\n",
    "sample_std = 10\n",
    "population_mean = 70\n",
    "sample_size = 30\n",
    "significance_level = 0.05\n",
    "\n",
    "t_statistic = (sample_mean - population_mean) / (sample_std / (sample_size ** 0.5))\n",
    "\n",
    "degrees_of_freedom = sample_size - 1\n",
    "\n",
    "# Calculate the p-value for a two-tailed test\n",
    "p_value = 2 * (1 - stats.t.cdf(abs(t_statistic), df=degrees_of_freedom))\n",
    "\n",
    "\n",
    "if p_value < significance_level:\n",
    "    print(\"There is evidence to reject the null hypothesis.\")\n",
    "else:\n",
    "    print(\"There is no evidence to reject the null hypothesis.\")\n",
    "\n",
    "print(\"t-statistic:\", t_statistic)\n",
    "print(\"p-value:\", p_value)\n"
   ]
  },
  {
   "cell_type": "code",
   "execution_count": null,
   "id": "d0bf55bf",
   "metadata": {},
   "outputs": [],
   "source": []
  }
 ],
 "metadata": {
  "kernelspec": {
   "display_name": "Python 3 (ipykernel)",
   "language": "python",
   "name": "python3"
  },
  "language_info": {
   "codemirror_mode": {
    "name": "ipython",
    "version": 3
   },
   "file_extension": ".py",
   "mimetype": "text/x-python",
   "name": "python",
   "nbconvert_exporter": "python",
   "pygments_lexer": "ipython3",
   "version": "3.9.13"
  }
 },
 "nbformat": 4,
 "nbformat_minor": 5
}
