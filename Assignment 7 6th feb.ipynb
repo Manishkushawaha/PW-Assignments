{
 "cells": [
  {
   "cell_type": "markdown",
   "id": "6d02a961",
   "metadata": {},
   "source": [
    "Q1. Create a function which will take a list as an argument and return the product of all the numbers after creating a flat list.\n",
    "\n",
    "Use the below-given list as an argument for your function.\n",
    "\n",
    "\n",
    "list1 = [1,2,3,4, [44,55,66, True], False, (34,56,78,89,34), {1,2,3,3,2,1}, {1:34, \"key2\": [55, 67, 78, 89], 4: (45, \n",
    "22, 61, 34)}, [56, 'data science'], 'Machine Learning']\n",
    "\n",
    "\n",
    "Note: you must extract numeric keys and values of the dictionary also"
   ]
  },
  {
   "cell_type": "code",
   "execution_count": 5,
   "id": "6c6084c7",
   "metadata": {},
   "outputs": [
    {
     "name": "stdout",
     "output_type": "stream",
     "text": [
      "Product of all the number after creating a flat list: 4134711838987085478833841242112000\n"
     ]
    }
   ],
   "source": [
    "list1 = [1,2,3,4, [44,55,66, True], False, (34,56,78,89,34), {1,2,3,3,2,1}, {1:34, \"key2\": [55, 67, 78, 89], 4: (45, \n",
    "22, 61, 34)}, [56, 'data science'], 'Machine Learning']\n",
    "\n",
    "from functools import reduce\n",
    "\n",
    "def get_int_product(list1):\n",
    "    \n",
    "    l = []\n",
    "    \n",
    "    for i in list1:\n",
    "        \n",
    "        if type(i) == int:\n",
    "            l.append(i)\n",
    "            \n",
    "        if type(i) == list:\n",
    "            for j in i:\n",
    "                if type(j) == int:\n",
    "                    l.append(j)\n",
    "                    \n",
    "        elif type(i) == tuple:\n",
    "            for k in i :\n",
    "                if type(k) == int:\n",
    "                    l.append(k)\n",
    "                    \n",
    "        elif type(i) == set:\n",
    "            for m in i :\n",
    "                if type(m) == int:\n",
    "                    l.append(m)\n",
    "                    \n",
    "        elif type(i) == dict:\n",
    "            for key , value in i.items():\n",
    "                \n",
    "                if type(key) == int:\n",
    "                    l.append(key)\n",
    "                    \n",
    "                if type(value) == int:\n",
    "                    l.append(value)\n",
    "                    \n",
    "                if type(value) in [list , tuple]:\n",
    "                    for item in value:\n",
    "                        if type(item) == int:\n",
    "                            l.append(item)\n",
    "\n",
    "    prod = reduce(lambda x , y : x*y  , l)\n",
    "\n",
    "    return prod\n",
    "\n",
    "print(\"Product of all the number after creating a flat list:\",get_int_product(list1))"
   ]
  },
  {
   "cell_type": "markdown",
   "id": "23ee29e0",
   "metadata": {},
   "source": [
    "Q2. Write a python program for encrypting a message sent to you by your friend. The logic of encryption should be such that, for a the output should be z. For b, the output should be y. For c, the output should \n",
    "be x respectively. Also, the whitespace should be replaced with a dollar sign. Keep the punctuation marks unchanged.\n",
    "\n",
    "\n",
    "Input Sentence: I want to become a Data Scientist.\n",
    "\n",
    "\n",
    "Encrypt the above input sentence using the program you just created.\n",
    "\n",
    "\n",
    "Note: Convert the given input sentence into lowercase before encrypting. The final output should be lowercase."
   ]
  },
  {
   "cell_type": "code",
   "execution_count": 1,
   "id": "07a6d3f3",
   "metadata": {},
   "outputs": [
    {
     "name": "stdout",
     "output_type": "stream",
     "text": [
      " r dzmg gl yvxlnv z wzgz hxrvmgrhg.\n"
     ]
    }
   ],
   "source": [
    "def encrypt(sentence):\n",
    "    \n",
    "    sentence = sentence.lower()\n",
    "    \n",
    "    encrypted_key = {'a': 'z', 'b': 'y', 'c': 'x', 'd': 'w', 'e': 'v', 'f': 'u', 'g': 't', 'h': 's', 'i': 'r', 'j': 'q',\n",
    "                     'k': 'p', 'l': 'o', 'm': 'n', 'n': 'm', 'o': 'l', 'p': 'k', 'q': 'j', 'r': 'i', 's': 'h', 't': 'g', \n",
    "                     'u': 'f', 'v': 'e', 'w': 'd', 'x': 'c', 'y': 'b', 'z': 'a',' ' : '$'\n",
    "                    }\n",
    "    encrypted = ' '\n",
    "    \n",
    "    for i in sentence:\n",
    "        if i.isalpha():\n",
    "            encrypted = encrypted + encrypted_key[i]\n",
    "        \n",
    "        else:\n",
    "            encrypted = encrypted + i\n",
    "            \n",
    "    return encrypted\n",
    "    \n",
    " \n",
    "sentence = \"I want to become a Data Scientist.\"\n",
    "encrypted_key = encrypt(sentence)\n",
    "print(encrypted_key)"
   ]
  },
  {
   "cell_type": "code",
   "execution_count": null,
   "id": "483c453e",
   "metadata": {},
   "outputs": [],
   "source": []
  }
 ],
 "metadata": {
  "kernelspec": {
   "display_name": "Python 3 (ipykernel)",
   "language": "python",
   "name": "python3"
  },
  "language_info": {
   "codemirror_mode": {
    "name": "ipython",
    "version": 3
   },
   "file_extension": ".py",
   "mimetype": "text/x-python",
   "name": "python",
   "nbconvert_exporter": "python",
   "pygments_lexer": "ipython3",
   "version": "3.9.13"
  }
 },
 "nbformat": 4,
 "nbformat_minor": 5
}
