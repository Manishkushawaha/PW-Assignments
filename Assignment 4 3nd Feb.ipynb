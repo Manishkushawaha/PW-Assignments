{
 "cells": [
  {
   "cell_type": "markdown",
   "id": "a7e7236c",
   "metadata": {},
   "source": [
    "Q1. Which keyword is used to create a function? Create a function to return a list of odd numbers in the \n",
    "range of 1 to 25."
   ]
  },
  {
   "cell_type": "markdown",
   "id": "0588e7c8",
   "metadata": {},
   "source": [
    " Ans:The keyword used to create a function in Python is \"def\"."
   ]
  },
  {
   "cell_type": "code",
   "execution_count": 1,
   "id": "3e8244ce",
   "metadata": {},
   "outputs": [
    {
     "name": "stdout",
     "output_type": "stream",
     "text": [
      "[1, 3, 5, 7, 9, 11, 13, 15, 17, 19, 21, 23, 25]\n"
     ]
    }
   ],
   "source": [
    "def odd_numbers(n):\n",
    "    \n",
    "    list_of_odd = []\n",
    "    \n",
    "    for i in range(1,n+1):\n",
    "        if i % 2 !=0:\n",
    "            \n",
    "            list_of_odd.append(i)\n",
    "    return list_of_odd\n",
    "\n",
    "print(odd_numbers(25))"
   ]
  },
  {
   "cell_type": "raw",
   "id": "22255410",
   "metadata": {},
   "source": [
    "Q2. Why *args and **kwargs is used in some functions? Create a function each for *args and **kwargs \n",
    "to demonstrate their use"
   ]
  },
  {
   "cell_type": "raw",
   "id": "0c42dcd2",
   "metadata": {},
   "source": [
    "Ans: *args allows you to pass a variable number of non-keyword arguments to a function. The * before the parameter name args allows it to accept any number of non-keyword arguments, which are then passed to the function as a tuple.\n",
    "\n",
    "**kwargs allows you to pass a variable number of keyword arguments to a function. The two asterisks before the parameter name kwargs allow it to accept any number of keyword arguments, which are then passed to the function as a dictionary.\n"
   ]
  },
  {
   "cell_type": "code",
   "execution_count": 2,
   "id": "137422a0",
   "metadata": {},
   "outputs": [
    {
     "name": "stdout",
     "output_type": "stream",
     "text": [
      "Hello\n",
      "How\n",
      "are\n",
      "you?\n"
     ]
    }
   ],
   "source": [
    "def args(*args):\n",
    "    for i in args:\n",
    "        print(i)\n",
    "        \n",
    "args(\"Hello\",\"How\",\"are\",\"you?\")"
   ]
  },
  {
   "cell_type": "code",
   "execution_count": 3,
   "id": "2a0a3015",
   "metadata": {},
   "outputs": [
    {
     "data": {
      "text/plain": [
       "{'a': [1, 2, 3, 4], 'b': 'sudh', 'c': 23.45}"
      ]
     },
     "execution_count": 3,
     "metadata": {},
     "output_type": "execute_result"
    }
   ],
   "source": [
    "def test15(**kwargs):\n",
    "    return kwargs\n",
    "test15(a = [1,2,3,4] , b = \"sudh\" , c = 23.45 )"
   ]
  },
  {
   "cell_type": "raw",
   "id": "618b3862",
   "metadata": {},
   "source": [
    "Q3. What is an iterator in python? Name the method used to initialise the iterator object and the method \n",
    "used for iteration. Use these methods to print the first five elements of the given list [2, 4, 6, 8, 10, 12, 14, \n",
    "16, 18, 20]."
   ]
  },
  {
   "cell_type": "markdown",
   "id": "74bd041c",
   "metadata": {},
   "source": [
    "To create an iterator object in Python, you can use the built-in iter() function, which takes an iterable object as its argument and returns an iterator object. To iterate over the elements of an iterator object, you can use the built-in next() function, which returns the next element in the iterator."
   ]
  },
  {
   "cell_type": "code",
   "execution_count": 7,
   "id": "26cb1763",
   "metadata": {},
   "outputs": [
    {
     "name": "stdout",
     "output_type": "stream",
     "text": [
      "2\n",
      "4\n",
      "6\n",
      "8\n",
      "10\n"
     ]
    }
   ],
   "source": [
    "list=[2,4,6,8,10,12,14,16,18,20]\n",
    "iteration= iter(list)\n",
    "\n",
    "for i in range(5):\n",
    "    print(next(iteration))\n",
    "    "
   ]
  },
  {
   "cell_type": "raw",
   "id": "fbbea341",
   "metadata": {},
   "source": [
    "Q4.  What is a generator function in python? Why yield keyword is used? Give an example of a generator function"
   ]
  },
  {
   "cell_type": "raw",
   "id": "4e8e72d4",
   "metadata": {},
   "source": [
    "A generator function in Python is a special type of function that generates a sequence of values on-the-fly rather than computing them all at once and storing them in memory like a list.\n",
    "\n",
    "The generator function is defined using the yield keyword instead of the return keyword. When a generator function is called, it returns an iterator object, which can be used to iterate over the generated sequence of values. Each time the yield keyword is encountered, the function pauses and returns the current value to the iterator, allowing the caller to access the next value in the sequence."
   ]
  },
  {
   "cell_type": "code",
   "execution_count": 28,
   "id": "58f89fcf",
   "metadata": {},
   "outputs": [],
   "source": [
    "def fibonacci():\n",
    "    a = 0\n",
    "    b = 1\n",
    "    while True:\n",
    "        yield a\n",
    "        a , b = b,a+b"
   ]
  },
  {
   "cell_type": "code",
   "execution_count": 29,
   "id": "e0052519",
   "metadata": {},
   "outputs": [
    {
     "name": "stdout",
     "output_type": "stream",
     "text": [
      "0\n",
      "1\n",
      "1\n",
      "2\n",
      "3\n",
      "5\n",
      "8\n",
      "13\n",
      "21\n",
      "34\n"
     ]
    }
   ],
   "source": [
    "fib = fibonacci()\n",
    "\n",
    "for i in range(10):\n",
    "    print(next(fib))"
   ]
  },
  {
   "cell_type": "raw",
   "id": "71e10570",
   "metadata": {},
   "source": [
    "Q5. Create a generator function for prime numbers less than 1000. Use the next() method to print the first 20 prime numbers."
   ]
  },
  {
   "cell_type": "code",
   "execution_count": 36,
   "id": "6c4993a9",
   "metadata": {},
   "outputs": [],
   "source": [
    "def prime_number():\n",
    "    for num in range(2,1000):\n",
    "        for i in range(2,num):\n",
    "            if num % i == 0:\n",
    "                break\n",
    "        else:\n",
    "            yield num"
   ]
  },
  {
   "cell_type": "code",
   "execution_count": 38,
   "id": "b43e89eb",
   "metadata": {},
   "outputs": [
    {
     "name": "stdout",
     "output_type": "stream",
     "text": [
      "2\n",
      "3\n",
      "5\n",
      "7\n",
      "11\n",
      "13\n",
      "17\n",
      "19\n",
      "23\n",
      "29\n",
      "31\n",
      "37\n",
      "41\n",
      "43\n",
      "47\n",
      "53\n",
      "59\n",
      "61\n",
      "67\n",
      "71\n"
     ]
    }
   ],
   "source": [
    "prime_num = prime_number()\n",
    "\n",
    "count = 0\n",
    "while count < 20:\n",
    "    prime = next(prime_num)\n",
    "    print(prime)\n",
    "    count = count +1"
   ]
  },
  {
   "cell_type": "raw",
   "id": "64f55c01",
   "metadata": {},
   "source": [
    "Q6. Write a python program to print the first 10 Fibonacci numbers using a while loop."
   ]
  },
  {
   "cell_type": "code",
   "execution_count": 61,
   "id": "458c8358",
   "metadata": {},
   "outputs": [
    {
     "name": "stdout",
     "output_type": "stream",
     "text": [
      "0\n",
      "1\n",
      "1\n",
      "2\n",
      "3\n",
      "5\n",
      "8\n",
      "13\n",
      "21\n",
      "34\n"
     ]
    }
   ],
   "source": [
    "n = 10\n",
    "a = 0\n",
    "b = 1\n",
    "count = 0\n",
    "\n",
    "while count < n:\n",
    "    print(a)\n",
    "    c = a+b\n",
    "    a = b\n",
    "    b = c\n",
    "    count = count + 1\n",
    "      "
   ]
  },
  {
   "cell_type": "raw",
   "id": "a01ab988",
   "metadata": {},
   "source": [
    "Q7.Write a List Comprehension to iterate through the given string:‘pwskills’.\n",
    "\n",
    "Expected output: ['p', 'w', 's', 'k', 'i', 'l', 'l', 's']"
   ]
  },
  {
   "cell_type": "code",
   "execution_count": 1,
   "id": "f20543f1",
   "metadata": {},
   "outputs": [
    {
     "data": {
      "text/plain": [
       "['p', 'w', 's', 'k', 'i', 'l', 'l', 's']"
      ]
     },
     "execution_count": 1,
     "metadata": {},
     "output_type": "execute_result"
    }
   ],
   "source": [
    "str = \"pwskills\"\n",
    "list(map(lambda str:str.lower(),str))"
   ]
  },
  {
   "cell_type": "raw",
   "id": "107850ed",
   "metadata": {},
   "source": [
    "Q8. Write a python program to check whether a given number is Palindrome or not using a while loop."
   ]
  },
  {
   "cell_type": "code",
   "execution_count": 1,
   "id": "5f59e6ca",
   "metadata": {},
   "outputs": [
    {
     "name": "stdout",
     "output_type": "stream",
     "text": [
      "enter the number:525\n",
      "Num is a palindrome.\n"
     ]
    }
   ],
   "source": [
    "num = int(input(\"enter the number:\"))\n",
    "temp = num\n",
    "rev_num = 0\n",
    "\n",
    "while temp > 0: \n",
    "    rev_num = rev_num *10 + temp % 10\n",
    "    temp = temp // 10\n",
    "    \n",
    "if num == rev_num:\n",
    "    print(\"Num is a palindrome.\")\n",
    "    \n",
    "else:\n",
    "    print(\"Num is not a palindrome.\")"
   ]
  },
  {
   "cell_type": "raw",
   "id": "ba6d29de",
   "metadata": {},
   "source": [
    "Q9. Write a code to print odd numbers from 1 to 100 using list comprehension."
   ]
  },
  {
   "cell_type": "code",
   "execution_count": 3,
   "id": "6269f4c6",
   "metadata": {},
   "outputs": [
    {
     "name": "stdout",
     "output_type": "stream",
     "text": [
      "[1, 3, 5, 7, 9, 11, 13, 15, 17, 19, 21, 23, 25, 27, 29, 31, 33, 35, 37, 39, 41, 43, 45, 47, 49, 51, 53, 55, 57, 59, 61, 63, 65, 67, 69, 71, 73, 75, 77, 79, 81, 83, 85, 87, 89, 91, 93, 95, 97, 99]\n"
     ]
    }
   ],
   "source": [
    "odd_num = list(filter(lambda x : x % 2 != 0,range(1,101)))\n",
    "print(odd_num)"
   ]
  },
  {
   "cell_type": "code",
   "execution_count": null,
   "id": "69e75e3e",
   "metadata": {},
   "outputs": [],
   "source": []
  }
 ],
 "metadata": {
  "kernelspec": {
   "display_name": "Python 3 (ipykernel)",
   "language": "python",
   "name": "python3"
  },
  "language_info": {
   "codemirror_mode": {
    "name": "ipython",
    "version": 3
   },
   "file_extension": ".py",
   "mimetype": "text/x-python",
   "name": "python",
   "nbconvert_exporter": "python",
   "pygments_lexer": "ipython3",
   "version": "3.9.13"
  }
 },
 "nbformat": 4,
 "nbformat_minor": 5
}
