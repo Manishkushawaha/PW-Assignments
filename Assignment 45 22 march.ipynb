{
 "cells": [
  {
   "cell_type": "markdown",
   "id": "8be73656",
   "metadata": {},
   "source": [
    "### Q1. Pearson correlation coefficient is a measure of the linear relationship between two variables. Suppose you have collected data on the amount of time students spend studying for an exam and their final exam scores. Calculate the Pearson correlation coefficient between these two variables and interpret the result."
   ]
  },
  {
   "cell_type": "code",
   "execution_count": 2,
   "id": "bac65251",
   "metadata": {},
   "outputs": [
    {
     "name": "stdout",
     "output_type": "stream",
     "text": [
      "Pearson correlation coefficient: 0.9\n"
     ]
    }
   ],
   "source": [
    "import scipy.stats as stats\n",
    "\n",
    "study_time = [10, 20, 15, 25, 30]\n",
    "exam_scores = [80, 85, 75, 90, 95]\n",
    "\n",
    "correlation_coefficient, _ = stats.pearsonr(study_time, exam_scores)\n",
    "\n",
    "print(\"Pearson correlation coefficient:\", correlation_coefficient)\n"
   ]
  },
  {
   "cell_type": "raw",
   "id": "e2ab5149",
   "metadata": {},
   "source": [
    "Interpreting the result:\n",
    "The printed Pearson correlation coefficient represents the strength and direction of the linear relationship between the study_time and exam_scores. The value ranges between -1 and 1.\n",
    "\n",
    ".A coefficient of 1 indicates a perfect positive linear relationship, meaning that as the study time increases, the exam scores also increase proportionally.\n",
    "\n",
    ".A coefficient of -1 indicates a perfect negative linear relationship, meaning that as the study time increases, the exam scores decrease proportionally.\n",
    "\n",
    ".A coefficient close to 0 indicates a weak or no linear relationship between the variables.\n",
    "\n",
    "The correlation coefficient is 0.9, it indicates a strong positive linear relationship between study time and exam scores. This means that as study time increases, the exam scores tend to increase as well.\n"
   ]
  },
  {
   "cell_type": "markdown",
   "id": "919fa9e0",
   "metadata": {},
   "source": [
    "### Q2. Spearman's rank correlation is a measure of the monotonic relationship between two variables. Suppose you have collected data on the amount of sleep individuals get each night and their overall job satisfaction level on a scale of 1 to 10. Calculate the Spearman's rank correlation between these two variables and interpret the result."
   ]
  },
  {
   "cell_type": "code",
   "execution_count": 2,
   "id": "ff466a90",
   "metadata": {},
   "outputs": [
    {
     "name": "stdout",
     "output_type": "stream",
     "text": [
      "Spearman's rank correlation coefficient: 0.20519567041703085\n",
      "p-value: 0.7405819415910722\n"
     ]
    }
   ],
   "source": [
    "import scipy.stats as stats\n",
    "\n",
    "sleep = [6, 8, 7, 5, 7]\n",
    "job_satisfaction = [8, 6, 9, 4, 7]\n",
    "\n",
    "correlation_coefficient, p_value = stats.spearmanr(sleep, job_satisfaction)\n",
    "\n",
    "print(\"Spearman's rank correlation coefficient:\", correlation_coefficient)\n",
    "print(\"p-value:\", p_value)\n"
   ]
  },
  {
   "cell_type": "raw",
   "id": "c573172e",
   "metadata": {},
   "source": [
    "Interpreting the result:\n",
    "\n",
    "The Spearman's rank correlation coefficient ranges from -1 to 1, similar to Pearson's correlation coefficient. The interpretation of Spearman's rank correlation is as follows:\n",
    "\n",
    ".A coefficient of 1 indicates a perfect monotonic increasing relationship, meaning that as the amount of sleep increases, the job satisfaction level tends to increase as well.\n",
    "\n",
    ".A coefficient of -1 indicates a perfect monotonic decreasing relationship, meaning that as the amount of sleep increases, the job satisfaction level tends to decrease.\n",
    "\n",
    ".A coefficient close to 0 indicates no monotonic relationship between the variables.\n",
    "\n",
    "The Spearman's rank correlation coefficient of 0.2052 indicates a very weak positive monotonic relationship between the amount of sleep individuals get each night and their overall job satisfaction level. This means that there is a slight tendency for higher job satisfaction levels to be associated with slightly higher amounts of sleep, but the relationship is not strong."
   ]
  },
  {
   "cell_type": "markdown",
   "id": "4d7162dc",
   "metadata": {},
   "source": [
    "### Q3. Suppose you are conducting a study to examine the relationship between the number of hours of exercise per week and body mass index (BMI) in a sample of adults. You collected data on both variables for 50 participants. Calculate the Pearson correlation coefficient and the Spearman's rank correlation between these two variables and compare the results.\n"
   ]
  },
  {
   "cell_type": "code",
   "execution_count": 6,
   "id": "08116407",
   "metadata": {},
   "outputs": [
    {
     "name": "stdout",
     "output_type": "stream",
     "text": [
      "Pearson correlation coefficient: -0.44904338187395415\n",
      "Spearman's rank correlation coefficient: -0.39443575247618634\n"
     ]
    }
   ],
   "source": [
    "import scipy.stats as stats\n",
    "\n",
    "exercise_hours = [5, 7, 10, 3, 8, 6, 4, 9, 7, 5, 3, 6, 8, 10, 7, 4, 6, 9, 5, 8,\n",
    "                  7, 3, 6, 10, 9, 5, 4, 8, 6, 7, 9, 5, 3, 8, 6, 7, 10, 5, 4, 6,\n",
    "                  9, 7, 5, 8, 4, 3, 7, 6, 9, 5, 10, 4]\n",
    "BMI = [25, 28, 22, 30, 27, 26, 29, 23, 28, 25, 30, 26, 27, 22, 28, 29, 26, 23, 27, 25,\n",
    "       28, 30, 26, 22, 23, 27, 29, 28, 26, 25, 23, 27, 29, 28, 26, 25, 30, 27, 29, 23,\n",
    "       28, 26, 25, 30, 27, 23, 28, 29, 26, 25]\n",
    "\n",
    "\n",
    "pearson_correlation, _ = stats.pearsonr(exercise_hours[:50], BMI[:50])\n",
    "\n",
    "spearman_correlation, _ = stats.spearmanr(exercise_hours[:50], BMI[:50])\n",
    "\n",
    "print(\"Pearson correlation coefficient:\", pearson_correlation)\n",
    "print(\"Spearman's rank correlation coefficient:\", spearman_correlation)\n"
   ]
  },
  {
   "cell_type": "raw",
   "id": "dbc58c5e",
   "metadata": {},
   "source": [
    "Interpretate the result:\n",
    "\n",
    "both correlation coefficients suggest a weak negative relationship between the number of hours of exercise per week and BMI. However, it's important to note that correlation does not imply causation, and other factors may influence the relationship between exercise and BMI."
   ]
  },
  {
   "cell_type": "markdown",
   "id": "e091ea34",
   "metadata": {},
   "source": [
    "### Q4. A researcher is interested in examining the relationship between the number of hours individuals spend watching television per day and their level of physical activity. The researcher collected data on both variables from a sample of 50 participants. Calculate the Pearson correlation coefficient between these two variables.\n"
   ]
  },
  {
   "cell_type": "code",
   "execution_count": 17,
   "id": "efbf601b",
   "metadata": {},
   "outputs": [
    {
     "name": "stdout",
     "output_type": "stream",
     "text": [
      "Pearson correlation coefficient: -1.0\n"
     ]
    }
   ],
   "source": [
    "import numpy as np\n",
    "\n",
    "hours_tv = [3, 4, 2, 5, 1, 2, 3, 4, 5, 1, 2, 3, 4, 5, 1, 2, 3, 4, 5, 1, 2, 3, 4, 5, 1, 2, 3, 4, 5, 1, 2, 3, 4, 5, 1, 2, 3, 4, 5, 1, 2, 3, 4, 5, 1, 2, 3, 4, 5]\n",
    "\n",
    "physical_activity = [60, 50, 70, 40, 80, 70, 60, 50, 40, 80, 70, 60, 50, 40, 80, 70, 60, 50, 40, 80, 70, 60, 50, 40, 80, 70, 60, 50, 40, 80, 70, 60, 50, 40, \n",
    "                     80, 70, 60, 50, 40, 80, 70, 60, 50, 40, 80, 70, 60, 50, 40]\n",
    "\n",
    "correlation_coefficient = np.corrcoef(hours_tv, physical_activity)[0, 1]\n",
    "\n",
    "print(\"Pearson correlation coefficient:\", correlation_coefficient)\n",
    "\n"
   ]
  },
  {
   "cell_type": "markdown",
   "id": "eda49b61",
   "metadata": {},
   "source": [
    "### Q5. A survey was conducted to examine the relationship between age and preference for a particular brand of soft drink. The survey results are shown below:"
   ]
  },
  {
   "cell_type": "raw",
   "id": "ab9cbeb8",
   "metadata": {},
   "source": [
    "Age(Years)                           Soft drink Preference \n",
    "\n",
    "25                                         Coke\n",
    "\n",
    "42                                         Pepsi\n",
    "\n",
    "37                                         Mountain dew\n",
    "\n",
    "19                                         Coke\n",
    "\n",
    "31                                         Pepsi\n",
    "\n",
    "28                                         Coke\n"
   ]
  },
  {
   "cell_type": "code",
   "execution_count": 13,
   "id": "40f3bcf2",
   "metadata": {},
   "outputs": [
    {
     "name": "stdout",
     "output_type": "stream",
     "text": [
      "Pearson correlation coefficient: 0.7587035441865058\n"
     ]
    }
   ],
   "source": [
    "import scipy.stats as stats\n",
    "\n",
    "age = [25, 42, 37, 19, 31, 28]\n",
    "soft_drink_preference = [1, 2, 3, 1, 2, 1]  \n",
    "\n",
    "pearson_correlation, _ = stats.pearsonr(age, soft_drink_preference)\n",
    "\n",
    "print(\"Pearson correlation coefficient:\", pearson_correlation)\n"
   ]
  },
  {
   "cell_type": "markdown",
   "id": "f6c58654",
   "metadata": {},
   "source": [
    "### Q6. A company is interested in examining the relationship between the number of sales calls made per day and the number of sales made per week. The company collected data on both variables from a sample of 30 sales representatives. Calculate the Pearson correlation coefficient between these two variables."
   ]
  },
  {
   "cell_type": "code",
   "execution_count": 1,
   "id": "beb7c83c",
   "metadata": {},
   "outputs": [
    {
     "name": "stdout",
     "output_type": "stream",
     "text": [
      "Pearson correlation coefficient: 0.9374682057122026\n"
     ]
    }
   ],
   "source": [
    "import numpy as np\n",
    "\n",
    "sales_calls_per_day = [10, 8, 6, 7, 5, 9, 8, 6, 7, 8, 6, 9, 7, 6, 5, 8, 10, 9, 7, 6, 8, 7, 9, 6, 8, 7, 5, 9, 8, 10]\n",
    "\n",
    "sales_per_week = [5, 4, 3, 3, 2, 4, 4, 3, 3, 4, 3, 4, 3, 3, 2, 4, 5, 4, 3, 3, 4, 3, 4, 3, 4, 3, 2, 4, 3, 5]\n",
    "\n",
    "correlation_coefficient = np.corrcoef(sales_calls_per_day, sales_per_week)[0, 1]\n",
    "\n",
    "print(\"Pearson correlation coefficient:\", correlation_coefficient)\n"
   ]
  },
  {
   "cell_type": "code",
   "execution_count": null,
   "id": "852c7edd",
   "metadata": {},
   "outputs": [],
   "source": []
  }
 ],
 "metadata": {
  "kernelspec": {
   "display_name": "Python 3 (ipykernel)",
   "language": "python",
   "name": "python3"
  },
  "language_info": {
   "codemirror_mode": {
    "name": "ipython",
    "version": 3
   },
   "file_extension": ".py",
   "mimetype": "text/x-python",
   "name": "python",
   "nbconvert_exporter": "python",
   "pygments_lexer": "ipython3",
   "version": "3.9.13"
  }
 },
 "nbformat": 4,
 "nbformat_minor": 5
}
