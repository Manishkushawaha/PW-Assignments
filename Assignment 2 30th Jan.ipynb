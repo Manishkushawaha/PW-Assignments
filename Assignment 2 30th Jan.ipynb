{
 "cells": [
  {
   "cell_type": "markdown",
   "id": "a4f8ce32",
   "metadata": {},
   "source": [
    "(1)Write a program to accept percentage  from the user and display the grade according to the following criteria"
   ]
  },
  {
   "cell_type": "code",
   "execution_count": 1,
   "id": "8580f3d8",
   "metadata": {},
   "outputs": [
    {
     "name": "stdout",
     "output_type": "stream",
     "text": [
      "enter the percentage:90\n",
      "you got B Grade\n"
     ]
    }
   ],
   "source": [
    "marks=int(input(\"enter the percentage:\"))\n",
    "\n",
    "if marks >90:\n",
    "    print(\"you got A Grade\")\n",
    "    \n",
    "elif marks >80 and marks <=90:\n",
    "    print(\"you got B Grade\")\n",
    "    \n",
    "elif marks >=60 and marks <80:\n",
    "    print(\"you got C Grade\")\n",
    "    \n",
    "else:\n",
    "    print(\"you got D Grade\")\n",
    "    "
   ]
  },
  {
   "cell_type": "markdown",
   "id": "e1424f6f",
   "metadata": {},
   "source": [
    "(2)Write a program to accept the cost price of a bike and display the road tax to paid according following criteria"
   ]
  },
  {
   "cell_type": "code",
   "execution_count": 2,
   "id": "707aa834",
   "metadata": {},
   "outputs": [
    {
     "name": "stdout",
     "output_type": "stream",
     "text": [
      "Enter the cost price of bike: 90000\n",
      "tax to be paid 9000.0\n"
     ]
    }
   ],
   "source": [
    "tax=0\n",
    "price=int(input(\"Enter the cost price of bike: \"))\n",
    "\n",
    "if price > 100000:\n",
    "    tax = 15/100*price\n",
    "    \n",
    "elif price > 50000 and price <=100000:\n",
    "    tax=10/100*price\n",
    "    \n",
    "else:\n",
    "    tax=5/100*price\n",
    "    \n",
    "print (\"tax to be paid\",tax)\n",
    "    "
   ]
  },
  {
   "cell_type": "markdown",
   "id": "b795ddc4",
   "metadata": {},
   "source": [
    "(3)Accept any city from the user and display monuments of that city."
   ]
  },
  {
   "cell_type": "code",
   "execution_count": 3,
   "id": "8dd21302",
   "metadata": {},
   "outputs": [
    {
     "name": "stdout",
     "output_type": "stream",
     "text": [
      "Enter the name of city FARIDABAD\n",
      "The famous mounment in FARIDABAD is Unknown mounment\n"
     ]
    }
   ],
   "source": [
    "city=input(\"Enter the name of city \")\n",
    "\n",
    "if city == \"Delhi\":\n",
    "    mounment=\"Red Fort\"\n",
    "    \n",
    "elif city == \"Agra\":\n",
    "    mounment=\"Taj Mahal\"\n",
    "    \n",
    "elif city == \"Jaipur\":\n",
    "    mounment=\"Jal Mahal\"\n",
    "    \n",
    "else:\n",
    "    mounment=\"Unknown mounment\"\n",
    "    \n",
    "print(\"The famous mounment in\",city,\"is\",mounment)\n"
   ]
  },
  {
   "cell_type": "markdown",
   "id": "3cd9cea8",
   "metadata": {},
   "source": [
    "(4) Check how many times a given number can be divided by 3 before it is less than or equal to 10."
   ]
  },
  {
   "cell_type": "code",
   "execution_count": 3,
   "id": "794b22b9",
   "metadata": {},
   "outputs": [
    {
     "name": "stdout",
     "output_type": "stream",
     "text": [
      "Enter the number:45\n",
      "The number can be divide 2 time by 3 before it is less than or equal to 10.\n"
     ]
    }
   ],
   "source": [
    "number=int(input(\"Enter the number:\"))\n",
    "\n",
    "divisions=0\n",
    "\n",
    "while number > 10:\n",
    "    \n",
    "    if number % 3 == 0:\n",
    "        \n",
    "        number = number //3\n",
    "        divisions+=1\n",
    "    else:\n",
    "        break\n",
    "print(\"The number can be divide\",divisions,\"time by 3 before it is less than or equal to 10.\")"
   ]
  },
  {
   "cell_type": "markdown",
   "id": "da29fce6",
   "metadata": {},
   "source": [
    "(5) Why and when to use while loop in python give a detailed desciption with example"
   ]
  },
  {
   "cell_type": "markdown",
   "id": "95f26789",
   "metadata": {},
   "source": [
    "Ans:Python while loop is used to run a block code until a certain condition is met. Here, A while loop evaluates the condition. If the condition evaluates to True , the code inside the while loop is executed."
   ]
  },
  {
   "cell_type": "code",
   "execution_count": 10,
   "id": "6a2ddbbf",
   "metadata": {},
   "outputs": [
    {
     "name": "stdout",
     "output_type": "stream",
     "text": [
      "0\n",
      "1\n",
      "1\n",
      "2\n",
      "3\n",
      "5\n",
      "8\n",
      "13\n",
      "21\n",
      "34\n"
     ]
    }
   ],
   "source": [
    "#Example\n",
    "\n",
    "n=10\n",
    "a=0\n",
    "b=1\n",
    "count=0\n",
    "while count<n:\n",
    "    print(a)\n",
    "    c=a+b\n",
    "    a=b\n",
    "    b=c\n",
    "    count+=1"
   ]
  },
  {
   "cell_type": "markdown",
   "id": "70002a2e",
   "metadata": {},
   "source": [
    "(6) Use nested while loop to print 3 different pattern."
   ]
  },
  {
   "cell_type": "code",
   "execution_count": 11,
   "id": "19c2a2a4",
   "metadata": {},
   "outputs": [
    {
     "name": "stdout",
     "output_type": "stream",
     "text": [
      "*\n",
      "**\n",
      "***\n",
      "****\n",
      "*****\n"
     ]
    }
   ],
   "source": [
    "n = 5\n",
    "i = 1\n",
    "\n",
    "while i <= n:\n",
    "    j = 1\n",
    "    while j <= i:\n",
    "        print(\"*\",end=\"\")\n",
    "        j=j+1\n",
    "    print(\"\")\n",
    "    i=i+1"
   ]
  },
  {
   "cell_type": "code",
   "execution_count": 3,
   "id": "b053b7f3",
   "metadata": {},
   "outputs": [
    {
     "name": "stdout",
     "output_type": "stream",
     "text": [
      "*****\n",
      "****\n",
      "***\n",
      "**\n",
      "*\n"
     ]
    }
   ],
   "source": [
    "n = 5\n",
    "i = n\n",
    "while i >= 1:\n",
    "    j = i\n",
    "    while j >= 1:\n",
    "        print(\"*\", end=\"\")\n",
    "        j -= 1\n",
    "    print(\"\")\n",
    "    i -= 1"
   ]
  },
  {
   "cell_type": "code",
   "execution_count": 4,
   "id": "e5c2f9e2",
   "metadata": {},
   "outputs": [
    {
     "name": "stdout",
     "output_type": "stream",
     "text": [
      "    *\n",
      "   ***\n",
      "  *****\n",
      " *******\n",
      "*********\n"
     ]
    }
   ],
   "source": [
    "n = 5\n",
    "i = 1\n",
    "while i <= n:\n",
    "    j = 1\n",
    "    while j <= n-i:\n",
    "        print(\" \", end=\"\")\n",
    "        j += 1\n",
    "    k = 1\n",
    "    while k <= 2*i-1:\n",
    "        print(\"*\", end=\"\")\n",
    "        k += 1\n",
    "    print(\"\")\n",
    "    i += 1"
   ]
  },
  {
   "cell_type": "markdown",
   "id": "394898e2",
   "metadata": {},
   "source": [
    " (7) Reverse a while loop to display numbers from 10 to 1."
   ]
  },
  {
   "cell_type": "code",
   "execution_count": 5,
   "id": "30394afc",
   "metadata": {},
   "outputs": [
    {
     "name": "stdout",
     "output_type": "stream",
     "text": [
      "10\n",
      "9\n",
      "8\n",
      "7\n",
      "6\n",
      "5\n",
      "4\n",
      "3\n",
      "2\n",
      "1\n"
     ]
    }
   ],
   "source": [
    "i = 10\n",
    "while i >= 1:\n",
    "    print(i)\n",
    "    i -= 1"
   ]
  }
 ],
 "metadata": {
  "kernelspec": {
   "display_name": "Python 3 (ipykernel)",
   "language": "python",
   "name": "python3"
  },
  "language_info": {
   "codemirror_mode": {
    "name": "ipython",
    "version": 3
   },
   "file_extension": ".py",
   "mimetype": "text/x-python",
   "name": "python",
   "nbconvert_exporter": "python",
   "pygments_lexer": "ipython3",
   "version": "3.9.13"
  }
 },
 "nbformat": 4,
 "nbformat_minor": 5
}
