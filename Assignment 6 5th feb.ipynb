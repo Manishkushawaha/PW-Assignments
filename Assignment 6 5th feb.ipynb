{
 "cells": [
  {
   "cell_type": "raw",
   "id": "e1b394e2",
   "metadata": {},
   "source": [
    "Q1. Explain Class and Object with respect to Object-Oriented Programming. Give a suitable example"
   ]
  },
  {
   "cell_type": "raw",
   "id": "31d70965",
   "metadata": {},
   "source": [
    "A class is a collection of objects. A class contains the blueprints or the prototype from which the objects are being created. It is a logical entity that contains some attributes and methods.\n",
    "\n",
    "An object is an instance of a class, which can be created by calling the class constructor. Each object has its own state (i.e., values of its attributes), and can invoke its own methods. Objects are the basic building blocks of OOP, and allow for code reuse and modularity."
   ]
  },
  {
   "cell_type": "code",
   "execution_count": 7,
   "id": "53df50ec",
   "metadata": {},
   "outputs": [
    {
     "name": "stdout",
     "output_type": "stream",
     "text": [
      "(123242, 'manish123@gmail.com', 1233445)\n"
     ]
    }
   ],
   "source": [
    "class pwskills:\n",
    "    \n",
    "    def __init__(self,phone_no,email_id,student_id):\n",
    "        \n",
    "        self.phone_no=phone_no\n",
    "        self.email_id=email_id        \n",
    "        self.student_id=student_id\n",
    "        \n",
    "    def return_student_detail(self):\n",
    "        return self.phone_no,self.email_id, self.student_id\n",
    "manish=pwskills(123242,\"manish123@gmail.com\",1233445) \n",
    "print(manish.return_student_detail())"
   ]
  },
  {
   "cell_type": "raw",
   "id": "f468d044",
   "metadata": {},
   "source": [
    "Q2. Name the four pillars of OOPs.\n",
    "\n",
    "Ans:The four pillars of Object-Oriented Programming (OOP) are:\n",
    "\n",
    "Encapsulation: Encapsulation is the practice of hiding implementation details of an object from the outside world and providing access to it only through a well-defined interface. This allows for better organization and abstraction of code and helps to prevent unwanted modifications to the object's internal state.\n",
    "\n",
    "Inheritance: Inheritance is a mechanism that allows a new class to be based on an existing class, inheriting its attributes and methods. This allows for code reuse and helps to create a hierarchical class structure where more specialized classes can be derived from more general ones.\n",
    "\n",
    "Polymorphism: Polymorphism means the ability of objects to take on many forms. In OOP, polymorphism allows objects of different classes to be treated as if they were objects of the same class. This can be achieved through method overriding and method overloading.\n",
    "\n",
    "Abstraction: Abstraction is the practice of representing essential features of an object without including unnecessary details. This allows for a high-level view of the object and helps to reduce complexity and increase efficiency in code. Abstraction can be achieved through interfaces and abstract classes."
   ]
  },
  {
   "cell_type": "raw",
   "id": "6418054d",
   "metadata": {},
   "source": [
    "Q3. Explain why the __init__() function is used. Give a suitable example."
   ]
  },
  {
   "cell_type": "raw",
   "id": "09e5242d",
   "metadata": {},
   "source": [
    "The __init__() function is a special method in Python classes that gets called automatically when an instance of the class is created. It is used to initialize the attributes of an object with values passed as arguments during object creation.\n",
    "\n",
    "In other words, __init__() allows us to define how an object should be initialized or created, including setting initial values for the object's attributes."
   ]
  },
  {
   "cell_type": "code",
   "execution_count": 8,
   "id": "ce0a41a7",
   "metadata": {},
   "outputs": [
    {
     "name": "stdout",
     "output_type": "stream",
     "text": [
      "2022 Toyota Camry\n"
     ]
    }
   ],
   "source": [
    "class Car:\n",
    "    def __init__(self, make, model, year):\n",
    "        self.make = make\n",
    "        self.model = model\n",
    "        self.year = year\n",
    "\n",
    "    def get_info(self):\n",
    "        return f\"{self.year} {self.make} {self.model}\"\n",
    "my_car = Car(\"Toyota\", \"Camry\", 2022)\n",
    "print(my_car.get_info()) "
   ]
  },
  {
   "cell_type": "raw",
   "id": "0eab82eb",
   "metadata": {},
   "source": [
    "Q4. Why self is used in OOPs?"
   ]
  },
  {
   "cell_type": "raw",
   "id": "2c3fb0bc",
   "metadata": {},
   "source": [
    "object-oriented programming (OOP), self is a keyword that refers to the instance of the class that is currently being operated on. It is used to access and manipulate the attributes and methods of the object within the class definition.\n",
    "\n",
    "When a method is called on an instance of a class, Python automatically passes the instance as the first argument to the method. By convention, this argument is named self."
   ]
  },
  {
   "cell_type": "raw",
   "id": "1885528a",
   "metadata": {},
   "source": [
    "Q5. What is inheritance? Give an example for each type of inheritance"
   ]
  },
  {
   "cell_type": "raw",
   "id": "09290063",
   "metadata": {},
   "source": [
    "Inheritance is a fundamental concept in object-oriented programming (OOP) that allows us to define a new class based on an existing class, inheriting all of its attributes and methods. The existing class is called the parent or superclass, and the new class is called the child or subclass.\n",
    "\n",
    "There are four types of inheritance in Python:\n",
    "\n",
    "Single inheritance\n",
    "Multiple inheritance\n",
    "Multi-level inheritance\n",
    "Hierarchical inheritance"
   ]
  },
  {
   "cell_type": "raw",
   "id": "78ad55b2",
   "metadata": {},
   "source": [
    "1) Single inheritance:\n",
    "Single inheritance is when a child class inherits from a single parent class. It is the most common type of inheritance."
   ]
  },
  {
   "cell_type": "code",
   "execution_count": 12,
   "id": "4b2486fa",
   "metadata": {},
   "outputs": [
    {
     "name": "stdout",
     "output_type": "stream",
     "text": [
      "Buddy\n",
      "Woof!\n"
     ]
    }
   ],
   "source": [
    "class Animal():\n",
    "    def __init__(self,name):\n",
    "        self.name = name\n",
    "        \n",
    "    def speak(self):\n",
    "        pass\n",
    "    \n",
    "class Dog(Animal):\n",
    "    def speak(self):\n",
    "        return \"Woof!\"\n",
    "\n",
    "Dog = Dog(\"Buddy\")\n",
    "print(Dog.name)\n",
    "print(Dog.speak())\n"
   ]
  },
  {
   "cell_type": "raw",
   "id": "4add31db",
   "metadata": {},
   "source": [
    "2) Multiple inheritance:\n",
    "\n",
    "Multiple inheritance is when a child class inherits from multiple parent classes. In Python, we can specify multiple parent classes in the class definition by separating them with commas."
   ]
  },
  {
   "cell_type": "code",
   "execution_count": 14,
   "id": "176dcee4",
   "metadata": {},
   "outputs": [
    {
     "name": "stdout",
     "output_type": "stream",
     "text": [
      "I can fly\n",
      "I can swim\n"
     ]
    }
   ],
   "source": [
    "class Flyer:\n",
    "    def fly(self):\n",
    "        return \"I can fly\"\n",
    "    \n",
    "class Swimmer:\n",
    "    def swim(self):\n",
    "        return \"I can swim\"\n",
    "class Duck(Flyer,Swimmer):\n",
    "    pass\n",
    "\n",
    "Duck =Duck()\n",
    "print(Duck.fly())\n",
    "print(Duck.swim())"
   ]
  },
  {
   "cell_type": "raw",
   "id": "b2e2ecdd",
   "metadata": {},
   "source": [
    "3) Multi-level inheritance:\n",
    "Multi-level inheritance is when a child class inherits from a parent class that itself inherits from another parent class. This creates a hierarchy of inheritance."
   ]
  },
  {
   "cell_type": "code",
   "execution_count": 15,
   "id": "dd4c553c",
   "metadata": {},
   "outputs": [
    {
     "name": "stdout",
     "output_type": "stream",
     "text": [
      "Buddy\n",
      "Woof!\n"
     ]
    }
   ],
   "source": [
    "class Animal:\n",
    "    def __init__(self, name):\n",
    "        self.name = name\n",
    "\n",
    "\n",
    "class Mammal(Animal):\n",
    "    def speak(self):\n",
    "        pass\n",
    "\n",
    "\n",
    "class Dog(Mammal):\n",
    "    def speak(self):\n",
    "        return \"Woof!\"\n",
    "\n",
    "\n",
    "dog = Dog(\"Buddy\")\n",
    "print(dog.name)   \n",
    "print(dog.speak())"
   ]
  },
  {
   "cell_type": "raw",
   "id": "c5d8b67b",
   "metadata": {},
   "source": [
    "4) Hierarchical inheritance:\n",
    "Hierarchical inheritance is when multiple child classes inherit from"
   ]
  },
  {
   "cell_type": "code",
   "execution_count": null,
   "id": "92fb27b8",
   "metadata": {},
   "outputs": [],
   "source": []
  }
 ],
 "metadata": {
  "kernelspec": {
   "display_name": "Python 3 (ipykernel)",
   "language": "python",
   "name": "python3"
  },
  "language_info": {
   "codemirror_mode": {
    "name": "ipython",
    "version": 3
   },
   "file_extension": ".py",
   "mimetype": "text/x-python",
   "name": "python",
   "nbconvert_exporter": "python",
   "pygments_lexer": "ipython3",
   "version": "3.9.13"
  }
 },
 "nbformat": 4,
 "nbformat_minor": 5
}
