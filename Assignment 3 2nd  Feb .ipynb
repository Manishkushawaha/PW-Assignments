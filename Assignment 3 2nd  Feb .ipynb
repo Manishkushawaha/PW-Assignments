{
 "cells": [
  {
   "cell_type": "markdown",
   "id": "32d06600",
   "metadata": {},
   "source": [
    "(1) Explain with an example each when to use a for loop and a while loop."
   ]
  },
  {
   "cell_type": "markdown",
   "id": "785cbe14",
   "metadata": {},
   "source": [
    "Ans:In Python, you would use a for loop when you want to iterate over a sequence (such as a list, tuple, or string) and execute a block of code for each item in the sequence. The general structure of a for loop in Python is as follows:"
   ]
  },
  {
   "cell_type": "code",
   "execution_count": 1,
   "id": "ac25c421",
   "metadata": {},
   "outputs": [
    {
     "name": "stdout",
     "output_type": "stream",
     "text": [
      "1\n",
      "4\n",
      "9\n",
      "16\n",
      "25\n"
     ]
    }
   ],
   "source": [
    "numbers = [1,2,3,4,5]\n",
    "\n",
    "for number in numbers:\n",
    "    square = number**2\n",
    "    print(square)\n",
    "    "
   ]
  },
  {
   "cell_type": "markdown",
   "id": "2dd6cc41",
   "metadata": {},
   "source": [
    "On the other hand, you would use a while loop when you want to keep executing a block of code as long as a certain condition is true. The general structure of a while loop in Python is as follows:"
   ]
  },
  {
   "cell_type": "code",
   "execution_count": 2,
   "id": "691d7c1f",
   "metadata": {},
   "outputs": [
    {
     "name": "stdout",
     "output_type": "stream",
     "text": [
      "1\n",
      "4\n",
      "9\n",
      "16\n",
      "25\n"
     ]
    }
   ],
   "source": [
    "number = 1\n",
    "while number <= 5:\n",
    "    square = number**2\n",
    "    print(square)\n",
    "    number += 1"
   ]
  },
  {
   "cell_type": "markdown",
   "id": "e3d37068",
   "metadata": {},
   "source": [
    "(2) Write a python program to print the sum and product of the first 10 natural numbers using for \n",
    "and while loop."
   ]
  },
  {
   "cell_type": "code",
   "execution_count": 12,
   "id": "f163220b",
   "metadata": {
    "scrolled": false
   },
   "outputs": [
    {
     "name": "stdout",
     "output_type": "stream",
     "text": [
      "Sum of the first 10 natural numbers using for loop: 55\n"
     ]
    }
   ],
   "source": [
    "sum = 0\n",
    "\n",
    "for i in range(1,11):\n",
    "    \n",
    "    sum = sum +i\n",
    "    \n",
    "print(\"Sum of the first 10 natural numbers using for loop:\",sum)"
   ]
  },
  {
   "cell_type": "code",
   "execution_count": 13,
   "id": "ee3ffe92",
   "metadata": {},
   "outputs": [
    {
     "name": "stdout",
     "output_type": "stream",
     "text": [
      "Product of the first 10 natural numbers using for loop: 3628800\n"
     ]
    }
   ],
   "source": [
    "product = 1\n",
    "\n",
    "for i in range(1,11):\n",
    "    \n",
    "    product = product*i\n",
    "    \n",
    "print(\"Product of the first 10 natural numbers using for loop:\", product)"
   ]
  },
  {
   "cell_type": "code",
   "execution_count": 1,
   "id": "f355b937",
   "metadata": {},
   "outputs": [
    {
     "name": "stdout",
     "output_type": "stream",
     "text": [
      "Sum of the first 10 natural numbers using while loop: 55\n"
     ]
    }
   ],
   "source": [
    "sum = 0\n",
    "i = 1 \n",
    "while i <= 10:\n",
    "    \n",
    "    sum = sum + i\n",
    "    \n",
    "    i=i+1\n",
    "    \n",
    "print(\"Sum of the first 10 natural numbers using while loop:\",sum)    "
   ]
  },
  {
   "cell_type": "code",
   "execution_count": 2,
   "id": "a1110e54",
   "metadata": {},
   "outputs": [
    {
     "name": "stdout",
     "output_type": "stream",
     "text": [
      "Product of the first 10 natural numbers using while loop: 3628800\n"
     ]
    }
   ],
   "source": [
    "product = 1\n",
    "\n",
    "i = 1\n",
    "\n",
    "while i <= 10:\n",
    "    \n",
    "    product = product*i\n",
    "    \n",
    "    i+=1\n",
    "print(\"Product of the first 10 natural numbers using while loop:\", product)    "
   ]
  },
  {
   "cell_type": "markdown",
   "id": "f8fed669",
   "metadata": {},
   "source": [
    "(3)Create a python program to compute the electricity bill for a household.\n",
    "The per-unit charges in rupees are as follows: For the first 100 units, the user will be charged Rs. 4.5 per \n",
    "unit, for the next 100 units, the user will be charged Rs. 6 per unit, and for the next 100 units, the user will \n",
    "be charged Rs. 10 per unit, After 300 units and above the user will be charged Rs. 20 per unit.\n",
    "\n",
    "You are required to take the units of electricity consumed in a month from the user as input.\n",
    "\n",
    "Your program must pass this test case: when the unit of electricity consumed by the user in a month is \n",
    "310, the total electricity bill should be 2250."
   ]
  },
  {
   "cell_type": "code",
   "execution_count": 7,
   "id": "8c9cc006",
   "metadata": {},
   "outputs": [
    {
     "name": "stdout",
     "output_type": "stream",
     "text": [
      "Enter trhe number of units consumed: 310\n",
      "your electricity bill is : Rs 2250.0\n"
     ]
    }
   ],
   "source": [
    "units = int(input(\"Enter trhe number of units consumed: \"))\n",
    "\n",
    "bill = 0\n",
    "\n",
    "if units <= 100:\n",
    "    bill = units*4.5\n",
    "    \n",
    "elif units <= 200:\n",
    "    bill = (100*4.5) + ((units-100)*6)\n",
    "    \n",
    "elif units <= 300:\n",
    "    bill = (100*4.5) + (100*6) +((units-200)*10)\n",
    "    \n",
    "else:\n",
    "    bill =  (100*4.5) + (100*6) +(100*10) + ((units-300)*20)\n",
    "    \n",
    "print(\"your electricity bill is : Rs\", bill)"
   ]
  },
  {
   "cell_type": "markdown",
   "id": "0d09bf65",
   "metadata": {},
   "source": [
    "(4) Create a list of numbers from 1 to 100. Use for loop and while loop to calculate the cube of each \n",
    "number and if the cube of that number is divisible by 4 or 5 then append that number in a list and print \n",
    "that list."
   ]
  },
  {
   "cell_type": "code",
   "execution_count": 13,
   "id": "b3b880d3",
   "metadata": {},
   "outputs": [
    {
     "name": "stdout",
     "output_type": "stream",
     "text": [
      "Cude divisible by 4 or 5 using for loop  [8, 64, 125, 216, 512, 1000, 1728, 2744, 3375, 4096, 5832, 8000, 10648, 13824, 15625, 17576, 21952, 27000, 32768, 39304, 42875, 46656, 54872, 64000, 74088, 85184, 91125, 97336, 110592, 125000, 140608, 157464, 166375, 175616, 195112, 216000, 238328, 262144, 274625, 287496, 314432, 343000, 373248, 405224, 421875, 438976, 474552, 512000, 551368, 592704, 614125, 636056, 681472, 729000, 778688, 830584, 857375, 884736, 941192, 1000000]\n"
     ]
    }
   ],
   "source": [
    "number = list(range(1,101))\n",
    "\n",
    "cubes = []\n",
    "\n",
    "for i in number:\n",
    "    cube = (i ** 3)\n",
    "    \n",
    "    if cube % 4 == 0 or cube % 5 == 0:\n",
    "        \n",
    "        cubes.append(cube)\n",
    "        \n",
    "print(\"Cude divisible by 4 or 5 using for loop \", cubes)"
   ]
  },
  {
   "cell_type": "code",
   "execution_count": 1,
   "id": "fefede59",
   "metadata": {},
   "outputs": [
    {
     "name": "stdout",
     "output_type": "stream",
     "text": [
      "Cubes divisible by 4 or 5 using while loop: [8, 64, 125, 216, 512, 1000, 1728, 2744, 3375, 4096, 5832, 8000, 10648, 13824, 15625, 17576, 21952, 27000, 32768, 39304, 42875, 46656, 54872, 64000, 74088, 85184, 91125, 97336, 110592, 125000, 140608, 157464, 166375, 175616, 195112, 216000, 238328, 262144, 274625, 287496, 314432, 343000, 373248, 405224, 421875, 438976, 474552, 512000, 551368, 592704, 614125, 636056, 681472, 729000, 778688, 830584, 857375, 884736, 941192, 1000000]\n"
     ]
    }
   ],
   "source": [
    "numbers = list(range(1, 101))\n",
    "\n",
    "i = 0\n",
    "cubes = []\n",
    "while i < 100:\n",
    "    cube = numbers[i]**3\n",
    "    if cube % 4 == 0 or cube % 5 == 0:\n",
    "        cubes.append(cube)\n",
    "    i += 1\n",
    "print(\"Cubes divisible by 4 or 5 using while loop:\", cubes)"
   ]
  },
  {
   "cell_type": "markdown",
   "id": "025c2ccc",
   "metadata": {},
   "source": [
    "(5)  Write a program to filter count vowels in the below-given string.\n",
    "\n",
    "string = \"I want to become a data scientist\""
   ]
  },
  {
   "cell_type": "code",
   "execution_count": 6,
   "id": "3048a931",
   "metadata": {},
   "outputs": [
    {
     "name": "stdout",
     "output_type": "stream",
     "text": [
      "Number of vowels in the given string: 12\n"
     ]
    }
   ],
   "source": [
    "def count_vowels(string):\n",
    "    \n",
    "    vowels =\"AEIOUaeiou\"\n",
    "    count = 0\n",
    "    for i in string:\n",
    "        if i in vowels:\n",
    "            count= count + 1\n",
    "    return count \n",
    "string = \"I want to become a data scientist\"\n",
    "\n",
    "vowel_count = count_vowels(string)\n",
    "\n",
    "print(\"Number of vowels in the given string:\",vowel_count)\n"
   ]
  }
 ],
 "metadata": {
  "kernelspec": {
   "display_name": "Python 3 (ipykernel)",
   "language": "python",
   "name": "python3"
  },
  "language_info": {
   "codemirror_mode": {
    "name": "ipython",
    "version": 3
   },
   "file_extension": ".py",
   "mimetype": "text/x-python",
   "name": "python",
   "nbconvert_exporter": "python",
   "pygments_lexer": "ipython3",
   "version": "3.9.13"
  }
 },
 "nbformat": 4,
 "nbformat_minor": 5
}
