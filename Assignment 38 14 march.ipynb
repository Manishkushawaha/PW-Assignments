{
 "cells": [
  {
   "cell_type": "raw",
   "id": "e2bac30c",
   "metadata": {},
   "source": [
    "Q1. Write a Python function that takes in two arrays of data and calculates the F-value for a variance ratio test. The function should return the F-value and the corresponding p-value for the test."
   ]
  },
  {
   "cell_type": "code",
   "execution_count": 13,
   "id": "d6fb0023",
   "metadata": {},
   "outputs": [
    {
     "name": "stdout",
     "output_type": "stream",
     "text": [
      "F-value: 1.0\n",
      "p-value: 0.5\n"
     ]
    }
   ],
   "source": [
    "import numpy as np\n",
    "from scipy.stats import f\n",
    "\n",
    "def calculate_f_value(data1, data2):\n",
    "    \n",
    "    # Calculate the sample variances\n",
    "    var1 = np.var(data1, ddof=1)\n",
    "    var2 = np.var(data2, ddof=1)\n",
    "    \n",
    "    # Calculate the F-value\n",
    "    f_value = var1 / var2\n",
    "    \n",
    "    # Calculate the degrees of freedom\n",
    "    dfn = len(data1) - 1\n",
    "    dfd = len(data2) - 1\n",
    "    \n",
    "    # Calculate the p-value\n",
    "    p_value = 1 - f.cdf(f_value, dfn, dfd)\n",
    "    \n",
    "    return f_value, p_value\n",
    "\n",
    "\n",
    "data1 = [5, 7, 6, 9, 8]\n",
    "data2 = [3, 2, 5, 4, 6]\n",
    "\n",
    "f_value, p_value = calculate_f_value(data1, data2)\n",
    "print(\"F-value:\", f_value)\n",
    "print(\"p-value:\", p_value)\n"
   ]
  },
  {
   "cell_type": "raw",
   "id": "c6f73fc6",
   "metadata": {},
   "source": [
    "Q2. Given a significance level of 0.05 and the degrees of freedom for the numerator and denominator of an F-distribution, write a Python function that returns the critical F-value for a two-tailed test.\n"
   ]
  },
  {
   "cell_type": "code",
   "execution_count": 12,
   "id": "a7255fef",
   "metadata": {},
   "outputs": [
    {
     "name": "stdout",
     "output_type": "stream",
     "text": [
      "Critical F-value: 4.825621493405406\n"
     ]
    }
   ],
   "source": [
    "from scipy.stats import f\n",
    "\n",
    "def calculate_critical_f_value(significance_level, dfn, dfd):\n",
    "    alpha = significance_level / 2  # Two-tailed test, divide significance level by 2\n",
    "    \n",
    "    # Calculate critical F-value\n",
    "    critical_f_value = f.ppf(1 - alpha, dfn, dfd)\n",
    "    \n",
    "    return critical_f_value\n",
    "\n",
    "significance_level = 0.05\n",
    "dfn = 3\n",
    "dfd = 10\n",
    "\n",
    "critical_f_value = calculate_critical_f_value(significance_level, dfn, dfd)\n",
    "print(\"Critical F-value:\", critical_f_value)\n"
   ]
  },
  {
   "cell_type": "raw",
   "id": "9c1d2d4a",
   "metadata": {},
   "source": [
    "Q3. Write a Python program that generates random samples from two normal distributions with known variances and uses an F-test to determine if the variances are equal. The program should output the F\u0002value, degrees of freedom, and p-value for the test."
   ]
  },
  {
   "cell_type": "code",
   "execution_count": 11,
   "id": "b2312e54",
   "metadata": {},
   "outputs": [
    {
     "name": "stdout",
     "output_type": "stream",
     "text": [
      "F-value: 1.1106911262303678\n",
      "Degrees of freedom (numerator, denominator): 49 59\n",
      "p-value: 0.3477936678496285\n",
      "The variances are not significantly different.\n"
     ]
    }
   ],
   "source": [
    "import numpy as np\n",
    "from scipy.stats import f\n",
    "\n",
    "# Set the random seed for reproducibility\n",
    "np.random.seed(0)\n",
    "\n",
    "# Parameters\n",
    "sample_size_1 = 50\n",
    "sample_size_2 = 60\n",
    "variance_1 = 10\n",
    "variance_2 = 12\n",
    "alpha = 0.05\n",
    "\n",
    "# Generate random samples from two normal distributions\n",
    "sample_1 = np.random.normal(loc=0, scale=np.sqrt(variance_1), size=sample_size_1)\n",
    "sample_2 = np.random.normal(loc=0, scale=np.sqrt(variance_2), size=sample_size_2)\n",
    "\n",
    "# Calculate degrees of freedom\n",
    "dfn = sample_size_1 - 1\n",
    "dfd = sample_size_2 - 1\n",
    "\n",
    "# Calculate F-statistic\n",
    "f_statistic = np.var(sample_1, ddof=1) / np.var(sample_2, ddof=1)\n",
    "\n",
    "# Calculate p-value\n",
    "p_value = 1 - f.cdf(f_statistic, dfn, dfd)\n",
    "\n",
    "# Output results\n",
    "print(\"F-value:\", f_statistic)\n",
    "print(\"Degrees of freedom (numerator, denominator):\", dfn, dfd)\n",
    "print(\"p-value:\", p_value)\n",
    "\n",
    "# Compare p-value to the significance level\n",
    "if p_value < alpha:\n",
    "    print(\"The variances are significantly different.\")\n",
    "else:\n",
    "    print(\"The variances are not significantly different.\")\n"
   ]
  },
  {
   "cell_type": "raw",
   "id": "12ba3745",
   "metadata": {},
   "source": [
    "Q4.The variances of two populations are known to be 10 and 15. A sample of 12 observations is taken from each population. Conduct an F-test at the 5% significance level to determine if the variances are significantly different."
   ]
  },
  {
   "cell_type": "code",
   "execution_count": 10,
   "id": "ae478aeb",
   "metadata": {},
   "outputs": [
    {
     "name": "stdout",
     "output_type": "stream",
     "text": [
      "The variances are not significantly different.\n",
      "Statistcs value : 0.6666666666666666 p_value: 0.7438051006321003\n"
     ]
    }
   ],
   "source": [
    "from scipy.stats import f\n",
    "\n",
    "variance_1 = 10\n",
    "variance_2 = 15\n",
    "sample_size_1 = 12\n",
    "sample_size_2 = 12\n",
    "\n",
    "# Degrees of freedom\n",
    "dfn = sample_size_1 - 1\n",
    "dfd = sample_size_2 - 1\n",
    "\n",
    "# Calculate the F statistic\n",
    "f_statistic = variance_1 / variance_2\n",
    "\n",
    "# Calculate the p-value\n",
    "p_value = 1 - f.cdf(f_statistic, dfn, dfd)\n",
    "\n",
    "alpha = 0.05  # Significance level\n",
    "\n",
    "if p_value < alpha:\n",
    "    print(\"The variances are significantly different.\")\n",
    "else:\n",
    "    print(\"The variances are not significantly different.\")\n",
    "print(\"Statistcs value :\",f_statistic, \"p_value:\", p_value )\n"
   ]
  },
  {
   "cell_type": "raw",
   "id": "af6fc4aa",
   "metadata": {},
   "source": [
    "Q5. A manufacturer claims that the variance of the diameter of a certain product is 0.005. A sample of 25 products is taken, and the sample variance is found to be 0.006. Conduct an F-test at the 1% significance level to determine if the claim is justified."
   ]
  },
  {
   "cell_type": "code",
   "execution_count": 9,
   "id": "8d61fc29",
   "metadata": {},
   "outputs": [
    {
     "name": "stdout",
     "output_type": "stream",
     "text": [
      "Statistcs value : 1.2 p_value: 0.3293654682817244\n",
      "The claim is justified.\n"
     ]
    }
   ],
   "source": [
    "from scipy.stats import f\n",
    "\n",
    "sample_variance = 0.006\n",
    "sample_size = 25\n",
    "claim_variance = 0.005\n",
    "\n",
    "# Degrees of freedom\n",
    "dfn = sample_size - 1\n",
    "dfd = sample_size - 1\n",
    "\n",
    "# Calculate the F statistic\n",
    "f_statistic = sample_variance / claim_variance\n",
    "\n",
    "# Calculate the p-value\n",
    "p_value = 1 - f.cdf(f_statistic, dfn, dfd)\n",
    "\n",
    "alpha = 0.01  # Significance level\n",
    "print(\"Statistcs value :\",f_statistic, \"p_value:\", p_value )\n",
    "\n",
    "if p_value < alpha:\n",
    "    print(\"The claim is not justified.\")\n",
    "else:\n",
    "    print(\"The claim is justified.\")\n"
   ]
  },
  {
   "cell_type": "raw",
   "id": "12d74504",
   "metadata": {},
   "source": [
    "Q6. Write a Python function that takes in the degrees of freedom for the numerator and denominator of an F-distribution and calculates the mean and variance of the distribution. The function should return the mean and variance as a tuple."
   ]
  },
  {
   "cell_type": "code",
   "execution_count": 8,
   "id": "e714d397",
   "metadata": {},
   "outputs": [
    {
     "name": "stdout",
     "output_type": "stream",
     "text": [
      "Mean: 1.25\n",
      "Variance: 1.3541666666666667\n"
     ]
    }
   ],
   "source": [
    "def f_distribution_mean_variance(dfn, dfd):\n",
    "    mean = dfd / (dfd - 2)\n",
    "    variance = (2 * (dfd ** 2) * (dfn + dfd - 2)) / ((dfn * (dfd - 2) ** 2 * (dfd - 4)))\n",
    "    return mean, variance\n",
    "\n",
    "dfn = 5\n",
    "dfd = 10\n",
    "result = f_distribution_mean_variance(dfn, dfd)\n",
    "print(\"Mean:\", result[0])\n",
    "print(\"Variance:\", result[1])"
   ]
  },
  {
   "cell_type": "raw",
   "id": "2594f5dc",
   "metadata": {},
   "source": [
    "Q7. A random sample of 10 measurements is taken from a normal population with unknown variance. The sample variance is found to be 25. Another random sample of 15 measurements is taken from another normal population with unknown variance, and the sample variance is found to be 20. Conduct an F-test at the 10% significance level to determine if the variances are significantly different."
   ]
  },
  {
   "cell_type": "code",
   "execution_count": 6,
   "id": "756f7d36",
   "metadata": {},
   "outputs": [
    {
     "name": "stdout",
     "output_type": "stream",
     "text": [
      "Statistcs value : 1.25 p_value: 0.3416097191292977\n",
      "The variances are not significantly different.\n"
     ]
    }
   ],
   "source": [
    "from scipy.stats import f\n",
    "\n",
    "sample_variance_a = 25\n",
    "sample_variance_b = 20\n",
    "sample_size_a = 10\n",
    "sample_size_b = 15\n",
    "\n",
    "# Degrees of freedom\n",
    "df_a = sample_size_a - 1\n",
    "df_b = sample_size_b - 1\n",
    "\n",
    "# Calculate the F statistic\n",
    "f_statistic = sample_variance_a / sample_variance_b\n",
    "\n",
    "# Calculate the p-value\n",
    "p_value = 1 - f.cdf(f_statistic, df_a, df_b)\n",
    "\n",
    "alpha = 0.10  # Significance level\n",
    "print(\"Statistcs value :\",f_statistic, \"p_value:\", p_value )\n",
    "\n",
    "if p_value < alpha:\n",
    "    print(\"The variances are significantly different.\")\n",
    "else:\n",
    "    print(\"The variances are not significantly different.\")\n"
   ]
  },
  {
   "cell_type": "raw",
   "id": "581a2198",
   "metadata": {},
   "source": [
    "Q8. The following data represent the waiting times in minutes at two different restaurants on a Saturday night: Restaurant A: 24, 25, 28, 23, 22, 20, 27; Restaurant B: 31, 33, 35, 30, 32, 36. Conduct an F-test at the 5% significance level to determine if the variances are significantly different."
   ]
  },
  {
   "cell_type": "code",
   "execution_count": 5,
   "id": "77b0c58f",
   "metadata": {},
   "outputs": [
    {
     "name": "stdout",
     "output_type": "stream",
     "text": [
      "Statistcs value : 36.42289051820553 p_value: 8.48759371471029e-05\n",
      "The variances are significantly different.\n"
     ]
    }
   ],
   "source": [
    "from scipy.stats import f_oneway\n",
    "\n",
    "restaurant_a = [24, 25, 28, 23, 22, 20, 27]\n",
    "restaurant_b = [31, 33, 35, 30, 32, 36]\n",
    "\n",
    "f_statistic, p_value = f_oneway(restaurant_a, restaurant_b)\n",
    "\n",
    "alpha = 0.05  # Significance level\n",
    "\n",
    "print(\"Statistcs value :\",f_statistic, \"p_value:\", p_value )\n",
    "if p_value < alpha:\n",
    "    print(\"The variances are significantly different.\")\n",
    "else:\n",
    "    print(\"The variances are not significantly different.\")\n"
   ]
  },
  {
   "cell_type": "raw",
   "id": "7d49de62",
   "metadata": {},
   "source": [
    "Q9. The following data represent the test scores of two groups of students: Group A: 80, 85, 90, 92, 87, 83; Group B: 75, 78, 82, 79, 81, 84. Conduct an F-test at the 1% significance level to determine if the variances are significantly different"
   ]
  },
  {
   "cell_type": "raw",
   "id": "ea5c1e43",
   "metadata": {},
   "source": [
    "Ans:To conduct an F-test in Python to determine if the variances of two groups are significantly different, you can use the f_oneway function from the scipy.stats module. Here's an example code snippet:"
   ]
  },
  {
   "cell_type": "code",
   "execution_count": 3,
   "id": "47aa9341",
   "metadata": {},
   "outputs": [
    {
     "name": "stdout",
     "output_type": "stream",
     "text": [
      "The variances are not significantly different.\n",
      "Statistcs value : 8.040089086859687 p_value 0.017684171924487787\n"
     ]
    }
   ],
   "source": [
    "from scipy.stats import f_oneway\n",
    "\n",
    "group_a = [80, 85, 90, 92, 87, 83]\n",
    "group_b = [75, 78, 82, 79, 81, 84]\n",
    "\n",
    "f_statistic, p_value = f_oneway(group_a, group_b)\n",
    "\n",
    "alpha = 0.01  # Significance level\n",
    "\n",
    "if p_value < alpha:\n",
    "    print(\"The variances are significantly different.\")\n",
    "else:\n",
    "    print(\"The variances are not significantly different.\")\n",
    "print(\"Statistcs value :\",f_statistic,\"p_value\", p_value )"
   ]
  },
  {
   "cell_type": "code",
   "execution_count": null,
   "id": "409e0591",
   "metadata": {},
   "outputs": [],
   "source": []
  }
 ],
 "metadata": {
  "kernelspec": {
   "display_name": "Python 3 (ipykernel)",
   "language": "python",
   "name": "python3"
  },
  "language_info": {
   "codemirror_mode": {
    "name": "ipython",
    "version": 3
   },
   "file_extension": ".py",
   "mimetype": "text/x-python",
   "name": "python",
   "nbconvert_exporter": "python",
   "pygments_lexer": "ipython3",
   "version": "3.9.13"
  }
 },
 "nbformat": 4,
 "nbformat_minor": 5
}
