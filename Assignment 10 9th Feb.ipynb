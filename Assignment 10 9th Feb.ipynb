{
 "cells": [
  {
   "cell_type": "raw",
   "id": "5d3dcf3a",
   "metadata": {},
   "source": [
    "Q1, Create a vehicle class with an init method having instance variables as name_of_vehicle, max_speed and average_of_vehicle. "
   ]
  },
  {
   "cell_type": "code",
   "execution_count": 7,
   "id": "33a9480f",
   "metadata": {},
   "outputs": [],
   "source": [
    "class vehicle:\n",
    "    \n",
    "    def __init__(self,name_of_vehicle, max_speed ,average_of_vehicle):\n",
    "        \n",
    "        self.name_of_vehicle = name_of_vehicle\n",
    "        self.average_of_vehicle= average_of_vehicle\n",
    "        self.max_speed = max_speed\n",
    "    \n",
    "car = vehicle('car',20,200)\n",
    "\n",
    "bike = vehicle(\"Bike\", 100, 20)"
   ]
  },
  {
   "cell_type": "raw",
   "id": "011fa5c4",
   "metadata": {},
   "source": [
    "Q2.  Create a child class car from the vehicle class created in Que 1, which will inherit the vehicle class. Create a method named seating_capacity which takes capacity as an argument and returns the name of the vehicle and its seating capacity."
   ]
  },
  {
   "cell_type": "code",
   "execution_count": 11,
   "id": "caaa8878",
   "metadata": {},
   "outputs": [
    {
     "name": "stdout",
     "output_type": "stream",
     "text": [
      "Tesla Model S has a seating capacity of 5 people.\n"
     ]
    }
   ],
   "source": [
    "class vehicle:\n",
    "    \n",
    "    def __init__(self,name_of_vehicle, max_speed ,average_of_vehicle):\n",
    "        \n",
    "        self.name_of_vehicle = name_of_vehicle\n",
    "        self.average_of_vehicle= average_of_vehicle\n",
    "        self.max_speed = max_speed\n",
    "class Car(vehicle):\n",
    "    def seating_capacity(self, capacity):\n",
    "        return f\"{self.name_of_vehicle} has a seating capacity of {capacity} people.\"\n",
    "\n",
    "my_car = Car(\"Tesla Model S\", 250, 60)\n",
    "print(my_car.seating_capacity(5))"
   ]
  },
  {
   "cell_type": "raw",
   "id": "68c43a9e",
   "metadata": {},
   "source": [
    "Q3. What is multiple inheritance? Write a python code to demonstrate multiple inheritance."
   ]
  },
  {
   "cell_type": "raw",
   "id": "5ba16fb8",
   "metadata": {},
   "source": [
    "Multiple inheritance is a feature in object-oriented programming where a class can inherit properties and methods from multiple parent classes. In other words, a child class can inherit from more than one parent class.\n",
    "\n",
    "Here's an example code that demonstrates multiple inheritance in Python:"
   ]
  },
  {
   "cell_type": "code",
   "execution_count": 12,
   "id": "df3d7d53",
   "metadata": {},
   "outputs": [
    {
     "name": "stdout",
     "output_type": "stream",
     "text": [
      "Quack\n",
      "Lays eggs and hatches them\n"
     ]
    }
   ],
   "source": [
    "class Animal:\n",
    "    def __init__(self, name):\n",
    "        self.name = name\n",
    "\n",
    "    def speak(self):\n",
    "        pass\n",
    "\n",
    "\n",
    "class Mammal(Animal):\n",
    "    def __init__(self, name):\n",
    "        super().__init__(name)\n",
    "\n",
    "    def give_birth(self):\n",
    "        pass\n",
    "\n",
    "\n",
    "class Bird(Animal):\n",
    "    def __init__(self, name):\n",
    "        super().__init__(name)\n",
    "\n",
    "    def lay_eggs(self):\n",
    "        pass\n",
    "\n",
    "\n",
    "class Platypus(Mammal, Bird):\n",
    "    def __init__(self, name):\n",
    "        super().__init__(name)\n",
    "\n",
    "    def speak(self):\n",
    "        return \"Quack\"\n",
    "\n",
    "    def give_birth(self):\n",
    "        return \"Lays eggs and hatches them\"\n",
    "\n",
    "\n",
    "perry = Platypus(\"Perry\")\n",
    "print(perry.speak())\n",
    "print(perry.give_birth())\n",
    "perry.lay_eggs()"
   ]
  },
  {
   "cell_type": "raw",
   "id": "2d3e2c41",
   "metadata": {},
   "source": [
    "Q4. What are getter and setter in python? Create a class and create a getter and a setter method in this class."
   ]
  },
  {
   "cell_type": "raw",
   "id": "d90a6ef2",
   "metadata": {},
   "source": [
    "Ans:In Python, getter and setter methods are used to control access to instance variables of a class. These methods are used to get the value of an instance variable and set the value of an instance variable, respectively. Getter methods are used to access the instance variable, and setter methods are used to modify it."
   ]
  },
  {
   "cell_type": "code",
   "execution_count": 14,
   "id": "729c8455",
   "metadata": {},
   "outputs": [
    {
     "data": {
      "text/plain": [
       "7800"
      ]
     },
     "execution_count": 14,
     "metadata": {},
     "output_type": "execute_result"
    }
   ],
   "source": [
    "class pwskills :\n",
    "    \n",
    "    def __init__(self , course_price , coruse_name):\n",
    "        \n",
    "        self.__course_price = course_price\n",
    "        self.course_name = coruse_name\n",
    "        \n",
    "    @property\n",
    "    def course_price_access(self) : \n",
    "        return self.__course_price\n",
    "    \n",
    "    @course_price_access.setter\n",
    "    def course_price_set(self , price ):\n",
    "        if price <= 3500:\n",
    "            pass\n",
    "        else :\n",
    "            self.__course_price = price\n",
    "            \n",
    "    @course_price_access.deleter\n",
    "    def delete_course_price(self) : \n",
    "        del self.__course_price\n",
    "        \n",
    "pw = pwskills(3500,\"Mater of data science\")\n",
    "pw.course_name\n",
    "pw.course_price_access\n",
    "pw.course_price_set = 7800\n",
    "pw.course_price_access"
   ]
  },
  {
   "cell_type": "raw",
   "id": "d63249bd",
   "metadata": {},
   "source": [
    "Q5.What is method overriding in python? Write a python code to demonstrate method overriding."
   ]
  },
  {
   "cell_type": "raw",
   "id": "a14cc9bc",
   "metadata": {},
   "source": [
    "Ans:Method overriding is a feature in object-oriented programming where a child class provides its own implementation of a method that is already defined in its parent class. This allows the child class to modify the behavior of the method without changing its name or signature."
   ]
  },
  {
   "cell_type": "code",
   "execution_count": 15,
   "id": "13729932",
   "metadata": {},
   "outputs": [
    {
     "name": "stdout",
     "output_type": "stream",
     "text": [
      "An animal is speaking...\n",
      "Woof!\n",
      "Meow\n"
     ]
    }
   ],
   "source": [
    "class Animal:\n",
    "    def speak(self):\n",
    "        print(\"An animal is speaking...\")\n",
    "\n",
    "\n",
    "class Dog(Animal):\n",
    "    def speak(self):\n",
    "        print(\"Woof!\")\n",
    "\n",
    "\n",
    "class Cat(Animal):\n",
    "    def speak(self):\n",
    "        print(\"Meow\")\n",
    "\n",
    "\n",
    "animal = Animal()\n",
    "dog = Dog()\n",
    "cat = Cat()\n",
    "\n",
    "animal.speak()\n",
    "dog.speak()     \n",
    "cat.speak()     \n"
   ]
  },
  {
   "cell_type": "code",
   "execution_count": null,
   "id": "f110e8be",
   "metadata": {},
   "outputs": [],
   "source": []
  }
 ],
 "metadata": {
  "kernelspec": {
   "display_name": "Python 3 (ipykernel)",
   "language": "python",
   "name": "python3"
  },
  "language_info": {
   "codemirror_mode": {
    "name": "ipython",
    "version": 3
   },
   "file_extension": ".py",
   "mimetype": "text/x-python",
   "name": "python",
   "nbconvert_exporter": "python",
   "pygments_lexer": "ipython3",
   "version": "3.9.13"
  }
 },
 "nbformat": 4,
 "nbformat_minor": 5
}
