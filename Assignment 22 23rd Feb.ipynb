{
 "cells": [
  {
   "cell_type": "raw",
   "id": "eb194579",
   "metadata": {},
   "source": [
    "Q1. Create a Pandas Series that contains the following data: 4, 8, 15, 16, 23, and 42. Then, print the series."
   ]
  },
  {
   "cell_type": "code",
   "execution_count": 1,
   "id": "b4b2b491",
   "metadata": {},
   "outputs": [
    {
     "data": {
      "text/plain": [
       "0     4\n",
       "1     8\n",
       "2    15\n",
       "3    16\n",
       "4    23\n",
       "5    42\n",
       "dtype: int64"
      ]
     },
     "execution_count": 1,
     "metadata": {},
     "output_type": "execute_result"
    }
   ],
   "source": [
    "import pandas as pd\n",
    "\n",
    "series = pd.Series([ 4, 8, 15, 16, 23,42])\n",
    "\n",
    "series "
   ]
  },
  {
   "cell_type": "raw",
   "id": "41e237e1",
   "metadata": {},
   "source": [
    "Q2. Create a variable of list type containing 10 elements in it, and apply pandas.Series function on the variable print it."
   ]
  },
  {
   "cell_type": "code",
   "execution_count": 2,
   "id": "9b961c1e",
   "metadata": {},
   "outputs": [
    {
     "data": {
      "text/plain": [
       "0     1\n",
       "1     2\n",
       "2     3\n",
       "3     4\n",
       "4     5\n",
       "5     6\n",
       "6     7\n",
       "7     8\n",
       "8     9\n",
       "9    10\n",
       "dtype: int64"
      ]
     },
     "execution_count": 2,
     "metadata": {},
     "output_type": "execute_result"
    }
   ],
   "source": [
    "import pandas as pd\n",
    "\n",
    "series = pd.Series([1,2,3,4,5,6,7,8,9,10])\n",
    "\n",
    "series"
   ]
  },
  {
   "cell_type": "code",
   "execution_count": null,
   "id": "1774f7c7",
   "metadata": {},
   "outputs": [],
   "source": [
    "Q3.Create a Pandas DataFrame that contains the following data:\n",
    "\n",
    "Then, print the DataFrame."
   ]
  },
  {
   "cell_type": "code",
   "execution_count": 4,
   "id": "5c7bdb93",
   "metadata": {},
   "outputs": [
    {
     "data": {
      "text/html": [
       "<div>\n",
       "<style scoped>\n",
       "    .dataframe tbody tr th:only-of-type {\n",
       "        vertical-align: middle;\n",
       "    }\n",
       "\n",
       "    .dataframe tbody tr th {\n",
       "        vertical-align: top;\n",
       "    }\n",
       "\n",
       "    .dataframe thead th {\n",
       "        text-align: right;\n",
       "    }\n",
       "</style>\n",
       "<table border=\"1\" class=\"dataframe\">\n",
       "  <thead>\n",
       "    <tr style=\"text-align: right;\">\n",
       "      <th></th>\n",
       "      <th>Name</th>\n",
       "      <th>Age</th>\n",
       "      <th>Gender</th>\n",
       "    </tr>\n",
       "  </thead>\n",
       "  <tbody>\n",
       "    <tr>\n",
       "      <th>0</th>\n",
       "      <td>Alice</td>\n",
       "      <td>25</td>\n",
       "      <td>Female</td>\n",
       "    </tr>\n",
       "    <tr>\n",
       "      <th>1</th>\n",
       "      <td>Bad</td>\n",
       "      <td>30</td>\n",
       "      <td>Male</td>\n",
       "    </tr>\n",
       "    <tr>\n",
       "      <th>2</th>\n",
       "      <td>Claire</td>\n",
       "      <td>27</td>\n",
       "      <td>Female</td>\n",
       "    </tr>\n",
       "  </tbody>\n",
       "</table>\n",
       "</div>"
      ],
      "text/plain": [
       "     Name  Age  Gender\n",
       "0   Alice   25  Female\n",
       "1     Bad   30    Male\n",
       "2  Claire   27  Female"
      ]
     },
     "execution_count": 4,
     "metadata": {},
     "output_type": "execute_result"
    }
   ],
   "source": [
    "import pandas as pd\n",
    "\n",
    "data = {'Name': ['Alice', 'Bad', 'Claire'],\n",
    "\n",
    "        'Age': [25, 30, 27],\n",
    "\n",
    "        'Gender': ['Female','Male','Female']}\n",
    "\n",
    "df = pd.DataFrame(data)\n",
    "df"
   ]
  },
  {
   "cell_type": "raw",
   "id": "085c4479",
   "metadata": {},
   "source": [
    "Q4. What is ‘DataFrame’ in pandas and how is it different from pandas.series? Explain with an example."
   ]
  },
  {
   "cell_type": "raw",
   "id": "864d9c5f",
   "metadata": {},
   "source": [
    "In Pandas, a DataFrame is a 2-dimensional labeled data structure that can store data of different types in columns. It is similar to a spreadsheet or a SQL table and is one of the most commonly used data structures in Pandas.\n",
    "\n",
    "A DataFrame is different from a Pandas Series in the following ways:\n",
    "\n",
    "Dimensions: A Series is a 1-dimensional array-like object that can store a single column of data, while a DataFrame is a 2-dimensional object that can store multiple columns of data.\n",
    "\n",
    "Labels: A Series has a single set of row labels (the index), while a DataFrame has both row and column labels (row index and column index).\n",
    "\n",
    "Data types: A Series can only store a single data type, while a DataFrame can store data of different types in different columns."
   ]
  },
  {
   "cell_type": "code",
   "execution_count": 5,
   "id": "4ca6e263",
   "metadata": {},
   "outputs": [
    {
     "name": "stdout",
     "output_type": "stream",
     "text": [
      "0    1\n",
      "1    2\n",
      "2    3\n",
      "3    4\n",
      "4    5\n",
      "Name: my_column, dtype: int64\n",
      "   column_1 column_2\n",
      "0         1        a\n",
      "1         2        b\n",
      "2         3        c\n",
      "3         4        d\n",
      "4         5        e\n"
     ]
    }
   ],
   "source": [
    "my_series = pd.Series([1, 2, 3, 4, 5], name='my_column')\n",
    "\n",
    "my_dataframe = pd.DataFrame({\n",
    "    'column_1': [1, 2, 3, 4, 5],\n",
    "    'column_2': ['a', 'b', 'c', 'd', 'e']})\n",
    "\n",
    "print(my_series)\n",
    "print(my_dataframe)"
   ]
  },
  {
   "cell_type": "raw",
   "id": "5047f76f",
   "metadata": {},
   "source": [
    "Q5. What are some common functions you can use to manipulate data in a Pandas DataFrame? Can you give an example of when you might use one of these functions?"
   ]
  },
  {
   "cell_type": "raw",
   "id": "623741d3",
   "metadata": {},
   "source": [
    "Ans: Pandas provides a wide range of functions to manipulate data in a DataFrame. Some of the most common functions are:\n",
    "\n",
    "head() and tail(): These functions allow you to view the first or last n rows of a DataFrame, respectively. For example, df.head(10) would return the first 10 rows of the DataFrame df.\n",
    "\n",
    "describe(): This function provides summary statistics for each column of the DataFrame, such as the mean, standard deviation, and quartiles. For example, df.describe() would return a summary of statistics for all columns of the DataFrame df.\n",
    "\n",
    "drop(): This function allows you to remove rows or columns from the DataFrame. For example, df.drop('column_name', axis=1) would remove the column with the name 'column_name' from the DataFrame df.\n",
    "\n",
    "groupby(): This function allows you to group rows of the DataFrame by one or more columns and perform calculations on each group. For example, df.groupby('column_name').mean() would group the rows of the DataFrame df by the values in the column with the name 'column_name', and calculate the mean for each group.\n",
    "\n",
    "sort_values(): This function allows you to sort the rows of the DataFrame by one or more columns. For example, df.sort_values('column_name', ascending=False) would sort the rows of the DataFrame df in descending order based on the values in the column with the name 'column_name'.\n",
    "\n",
    "fillna(): This function allows you to fill missing values in the DataFrame with a specified value or method. For example, df.fillna(method='ffill') would fill missing values in the DataFrame df using forward fill method.\n",
    "\n",
    "apply(): This function applies a function to each row or column of the DataFrame. For example, df.apply(lambda x: x**2) would apply the lambda function to each element of DataFrame df."
   ]
  },
  {
   "cell_type": "raw",
   "id": "cac9e39f",
   "metadata": {},
   "source": [
    "Q6. Which of the following is mutable in nature Series, DataFrame, Panel?"
   ]
  },
  {
   "cell_type": "raw",
   "id": "f91dcedc",
   "metadata": {},
   "source": [
    "Ans: In Pandas, both Series and DataFrame are mutable in nature, meaning that you can modify their contents after they have been created.\n",
    "\n",
    "A Series is mutable because you can modify its values using indexing or slicing. For example, my_series[0] = 100 would modify the first value of the Series my_series.\n",
    "\n",
    "Similarly, a DataFrame is mutable because you can modify its values, add or remove columns or rows, and perform other operations on it. For example, my_dataframe['new_column'] = [1, 2, 3, 4, 5] would add a new column to the DataFrame my_dataframe.\n",
    "\n",
    "A Panel, on the other hand, is an advanced data structure in Pandas that is used to represent 3-dimensional data. However, it is not widely used and has been deprecated since Pandas version 0.25.0. In the latest version of Pandas, a Panel can be represented as a DataFrame with a MultiIndex, and thus, is not mutable in nature."
   ]
  },
  {
   "cell_type": "raw",
   "id": "5f01f1f5",
   "metadata": {},
   "source": [
    "Q7. Create a DataFrame using multiple Series. Explain with an example."
   ]
  },
  {
   "cell_type": "raw",
   "id": "8d2dbdfd",
   "metadata": {},
   "source": [
    "Ans:You can create a DataFrame using multiple Series by passing a dictionary of Series objects to the pd.DataFrame() function. Each key in the dictionary will become the name of a column in the resulting DataFrame, and each value will become the data in that column. Here's an example:"
   ]
  },
  {
   "cell_type": "code",
   "execution_count": 6,
   "id": "2231286a",
   "metadata": {},
   "outputs": [
    {
     "name": "stdout",
     "output_type": "stream",
     "text": [
      "      Name  Age  Gender\n",
      "0    Alice   25  female\n",
      "1      Bob   30    male\n",
      "2  Charlie   35    male\n",
      "3    David   40    male\n"
     ]
    }
   ],
   "source": [
    "import pandas as pd\n",
    "\n",
    "names = pd.Series(['Alice', 'Bob', 'Charlie', 'David'])\n",
    "ages = pd.Series([25, 30, 35, 40])\n",
    "genders = pd.Series(['female', 'male', 'male', 'male'])\n",
    "\n",
    "data = {'Name': names, 'Age': ages, 'Gender': genders}\n",
    "df = pd.DataFrame(data)\n",
    "\n",
    "print(df)"
   ]
  },
  {
   "cell_type": "code",
   "execution_count": null,
   "id": "0ba87983",
   "metadata": {},
   "outputs": [],
   "source": []
  }
 ],
 "metadata": {
  "kernelspec": {
   "display_name": "Python 3 (ipykernel)",
   "language": "python",
   "name": "python3"
  },
  "language_info": {
   "codemirror_mode": {
    "name": "ipython",
    "version": 3
   },
   "file_extension": ".py",
   "mimetype": "text/x-python",
   "name": "python",
   "nbconvert_exporter": "python",
   "pygments_lexer": "ipython3",
   "version": "3.9.13"
  }
 },
 "nbformat": 4,
 "nbformat_minor": 5
}
